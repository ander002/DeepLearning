{
  "nbformat": 4,
  "nbformat_minor": 0,
  "metadata": {
    "colab": {
      "name": "DeepLearning.ipynb",
      "provenance": [],
      "collapsed_sections": [],
      "authorship_tag": "ABX9TyNxHXnomKKl7IrJ8N7yH2Be",
      "include_colab_link": true
    },
    "kernelspec": {
      "name": "python3",
      "display_name": "Python 3"
    },
    "language_info": {
      "name": "python"
    }
  },
  "cells": [
    {
      "cell_type": "markdown",
      "metadata": {
        "id": "view-in-github",
        "colab_type": "text"
      },
      "source": [
        "<a href=\"https://colab.research.google.com/github/ander002/DeepLearning/blob/main/DeepLearning.ipynb\" target=\"_parent\"><img src=\"https://colab.research.google.com/assets/colab-badge.svg\" alt=\"Open In Colab\"/></a>"
      ]
    },
    {
      "cell_type": "markdown",
      "metadata": {
        "id": "mmprjByX7Ulj"
      },
      "source": [
        "### 入门pytorch"
      ]
    },
    {
      "cell_type": "markdown",
      "metadata": {
        "id": "CCS15ZiU7dA6"
      },
      "source": [
        "## 基本操作"
      ]
    },
    {
      "cell_type": "code",
      "metadata": {
        "colab": {
          "base_uri": "https://localhost:8080/"
        },
        "id": "bZL3p5EX2o31",
        "outputId": "426333e5-26aa-4882-a6a8-94b1c1a28bcb"
      },
      "source": [
        "import torch\n",
        "x = torch.arange(12) #创建的一个行向量[0,12)\n",
        "x"
      ],
      "execution_count": null,
      "outputs": [
        {
          "output_type": "execute_result",
          "data": {
            "text/plain": [
              "tensor([ 0,  1,  2,  3,  4,  5,  6,  7,  8,  9, 10, 11])"
            ]
          },
          "metadata": {},
          "execution_count": 1
        }
      ]
    },
    {
      "cell_type": "code",
      "metadata": {
        "colab": {
          "base_uri": "https://localhost:8080/"
        },
        "id": "r_njIGey3D0J",
        "outputId": "1a636de6-dd0d-47a0-9083-7f170882dc9e"
      },
      "source": [
        "x.shape #访问张量的形状"
      ],
      "execution_count": null,
      "outputs": [
        {
          "output_type": "execute_result",
          "data": {
            "text/plain": [
              "torch.Size([12])"
            ]
          },
          "metadata": {},
          "execution_count": 2
        }
      ]
    },
    {
      "cell_type": "code",
      "metadata": {
        "colab": {
          "base_uri": "https://localhost:8080/"
        },
        "id": "1-NBhOcV3Sjd",
        "outputId": "9cc7947a-3207-4b2c-fb52-8699a65d0fba"
      },
      "source": [
        "x.numel()  #一个张量中元素的总数"
      ],
      "execution_count": null,
      "outputs": [
        {
          "output_type": "execute_result",
          "data": {
            "text/plain": [
              "12"
            ]
          },
          "metadata": {},
          "execution_count": 3
        }
      ]
    },
    {
      "cell_type": "code",
      "metadata": {
        "colab": {
          "base_uri": "https://localhost:8080/"
        },
        "id": "oMTGl4jV3gp3",
        "outputId": "a341c622-ce82-41a9-b88c-7ac8131cef34"
      },
      "source": [
        "X = x.reshape(3, 4)  #改变形状，不改变元素数量和值\n",
        "X"
      ],
      "execution_count": null,
      "outputs": [
        {
          "output_type": "execute_result",
          "data": {
            "text/plain": [
              "tensor([[ 0,  1,  2,  3],\n",
              "        [ 4,  5,  6,  7],\n",
              "        [ 8,  9, 10, 11]])"
            ]
          },
          "metadata": {},
          "execution_count": 5
        }
      ]
    },
    {
      "cell_type": "code",
      "metadata": {
        "colab": {
          "base_uri": "https://localhost:8080/"
        },
        "id": "UjbqKVf64GSj",
        "outputId": "e4f951ec-8a35-4574-9113-3bf352298931"
      },
      "source": [
        "torch.zeros(2, 3, 4) #生成全0矩阵 torch.ones(2, 3, 4,2)这是全1"
      ],
      "execution_count": null,
      "outputs": [
        {
          "output_type": "execute_result",
          "data": {
            "text/plain": [
              "tensor([[[0., 0., 0., 0.],\n",
              "         [0., 0., 0., 0.],\n",
              "         [0., 0., 0., 0.]],\n",
              "\n",
              "        [[0., 0., 0., 0.],\n",
              "         [0., 0., 0., 0.],\n",
              "         [0., 0., 0., 0.]]])"
            ]
          },
          "metadata": {},
          "execution_count": 8
        }
      ]
    },
    {
      "cell_type": "code",
      "metadata": {
        "colab": {
          "base_uri": "https://localhost:8080/"
        },
        "id": "AlsSuOMR4vtN",
        "outputId": "176531ef-a372-49c2-b9e8-9bd8dc5fd59c"
      },
      "source": [
        "torch.randn(3, 4) #随机创建一个（3，4）的张量，其中每个元素都从均值0、标准差为1的标准高斯分布中随机取样"
      ],
      "execution_count": null,
      "outputs": [
        {
          "output_type": "execute_result",
          "data": {
            "text/plain": [
              "tensor([[ 0.3303, -0.0402,  0.3889, -0.5177],\n",
              "        [ 0.0255,  0.0956, -1.1163, -0.6623],\n",
              "        [-0.8355, -0.9201, -0.8355, -0.9374]])"
            ]
          },
          "metadata": {},
          "execution_count": 9
        }
      ]
    },
    {
      "cell_type": "code",
      "metadata": {
        "colab": {
          "base_uri": "https://localhost:8080/"
        },
        "id": "8QQHgCq55rg2",
        "outputId": "601fda29-ec22-4a52-a450-b4aba5bcc42f"
      },
      "source": [
        "torch.tensor([[2,1,4,3],[1,2,3,4],[4,3,2,1]])  #提供python列表（嵌套列表）来为张量中的元素赋值，这里外层的列表对应0轴，内层对应1轴"
      ],
      "execution_count": null,
      "outputs": [
        {
          "output_type": "execute_result",
          "data": {
            "text/plain": [
              "tensor([[2, 1, 4, 3],\n",
              "        [1, 2, 3, 4],\n",
              "        [4, 3, 2, 1]])"
            ]
          },
          "metadata": {},
          "execution_count": 10
        }
      ]
    },
    {
      "cell_type": "markdown",
      "metadata": {
        "id": "GcYRiYaP7rSR"
      },
      "source": [
        "## 运算"
      ]
    },
    {
      "cell_type": "code",
      "metadata": {
        "colab": {
          "base_uri": "https://localhost:8080/"
        },
        "id": "FP8kL0-37ulA",
        "outputId": "d8a72098-693c-4aea-a659-1cffdac4bc39"
      },
      "source": [
        "x = torch.tensor([1.0, 2, 4, 8])\n",
        "y = torch.tensor([2, 2, 2, 2])\n",
        "x + y,x - y, x * y,x / y,x ** y,torch.exp(x) # 元素对应运算，** 是求幂运算,"
      ],
      "execution_count": null,
      "outputs": [
        {
          "output_type": "execute_result",
          "data": {
            "text/plain": [
              "(tensor([ 3.,  4.,  6., 10.]),\n",
              " tensor([-1.,  0.,  2.,  6.]),\n",
              " tensor([ 2.,  4.,  8., 16.]),\n",
              " tensor([0.5000, 1.0000, 2.0000, 4.0000]),\n",
              " tensor([ 1.,  4., 16., 64.]),\n",
              " tensor([2.7183e+00, 7.3891e+00, 5.4598e+01, 2.9810e+03]))"
            ]
          },
          "metadata": {},
          "execution_count": 12
        }
      ]
    },
    {
      "cell_type": "code",
      "metadata": {
        "colab": {
          "base_uri": "https://localhost:8080/"
        },
        "id": "efOmmsOh9F2G",
        "outputId": "a0929457-a501-4718-9d22-ea62710a89a6"
      },
      "source": [
        "import torch\n",
        "X = torch.arange(12,dtype = torch.float32).reshape(3,4)  #reshape((3,4))?????\n",
        "Y = torch.tensor([[2.0, 1, 4, 3],[1, 2, 3, 4],[4, 3, 2, 1]])\n",
        "torch.cat((X,Y),dim=0), torch.cat((X,Y),dim=1) #把多个张量连接在一起，dim=0，按0轴链接就是按行堆积，行数增加，dim=1，按1轴链接就是按列拼接，列数增加"
      ],
      "execution_count": null,
      "outputs": [
        {
          "output_type": "execute_result",
          "data": {
            "text/plain": [
              "(tensor([[ 0.,  1.,  2.,  3.],\n",
              "         [ 4.,  5.,  6.,  7.],\n",
              "         [ 8.,  9., 10., 11.],\n",
              "         [ 2.,  1.,  4.,  3.],\n",
              "         [ 1.,  2.,  3.,  4.],\n",
              "         [ 4.,  3.,  2.,  1.]]),\n",
              " tensor([[ 0.,  1.,  2.,  3.,  2.,  1.,  4.,  3.],\n",
              "         [ 4.,  5.,  6.,  7.,  1.,  2.,  3.,  4.],\n",
              "         [ 8.,  9., 10., 11.,  4.,  3.,  2.,  1.]]))"
            ]
          },
          "metadata": {},
          "execution_count": 1
        }
      ]
    },
    {
      "cell_type": "code",
      "metadata": {
        "colab": {
          "base_uri": "https://localhost:8080/"
        },
        "id": "VBBjdhzw_Cz_",
        "outputId": "adb10c31-9de4-49fe-cc48-626d4c948222"
      },
      "source": [
        "X == Y  #通过逻辑运算符构建张量"
      ],
      "execution_count": null,
      "outputs": [
        {
          "output_type": "execute_result",
          "data": {
            "text/plain": [
              "tensor([[False,  True, False,  True],\n",
              "        [False, False, False, False],\n",
              "        [False, False, False, False]])"
            ]
          },
          "metadata": {},
          "execution_count": 7
        }
      ]
    },
    {
      "cell_type": "code",
      "metadata": {
        "colab": {
          "base_uri": "https://localhost:8080/"
        },
        "id": "5hGVZk68_j9Q",
        "outputId": "c154e7db-3479-4bd1-f1b5-0925f83fa376"
      },
      "source": [
        "X.sum() #对张量中所有元素进行求和，产生一个元素的张量"
      ],
      "execution_count": null,
      "outputs": [
        {
          "output_type": "execute_result",
          "data": {
            "text/plain": [
              "tensor(66.)"
            ]
          },
          "metadata": {},
          "execution_count": 8
        }
      ]
    },
    {
      "cell_type": "code",
      "metadata": {
        "colab": {
          "base_uri": "https://localhost:8080/"
        },
        "id": "mIotxe3R_5Iw",
        "outputId": "24c33c97-850f-4eef-8fd4-77e1f2bbf989"
      },
      "source": [
        "a = torch.arange(3).reshape((3,1))\n",
        "b = torch.arange(2).reshape((1,2)) #广播机制\n",
        "a, b "
      ],
      "execution_count": null,
      "outputs": [
        {
          "output_type": "execute_result",
          "data": {
            "text/plain": [
              "(tensor([[0],\n",
              "         [1],\n",
              "         [2]]), tensor([[0, 1]]))"
            ]
          },
          "metadata": {},
          "execution_count": 13
        }
      ]
    },
    {
      "cell_type": "code",
      "metadata": {
        "colab": {
          "base_uri": "https://localhost:8080/"
        },
        "id": "5AkiIGQ3BHBE",
        "outputId": "9a4f1f3a-b128-4c20-98fd-d7de353e5a09"
      },
      "source": [
        "a + b  #形状不匹配的矩阵相加，广播机制将两个矩阵广播为一个更大的3x2矩阵，矩阵a将复制列，矩阵b将复制行"
      ],
      "execution_count": null,
      "outputs": [
        {
          "output_type": "execute_result",
          "data": {
            "text/plain": [
              "tensor([[0, 1],\n",
              "        [1, 2],\n",
              "        [2, 3]])"
            ]
          },
          "metadata": {},
          "execution_count": 14
        }
      ]
    },
    {
      "cell_type": "code",
      "metadata": {
        "colab": {
          "base_uri": "https://localhost:8080/"
        },
        "id": "tHIgWFwhPokS",
        "outputId": "6cd6fa97-c8f7-4488-f2e6-e5e55f65b74d"
      },
      "source": [
        "X[-1],X[1:3] #张量可以通过索引访问，与python一样，第一个元素的索引是0，负号表示从列表尾部相对应的元素，-1代表最后一行元素，[1:3]的意思是选择第二个和第三个元素，这里是指第二行和第三行。"
      ],
      "execution_count": null,
      "outputs": [
        {
          "output_type": "execute_result",
          "data": {
            "text/plain": [
              "(tensor([ 8.,  9., 10., 11.]), tensor([[ 4.,  5.,  6.,  7.],\n",
              "         [ 8.,  9., 10., 11.]]))"
            ]
          },
          "metadata": {},
          "execution_count": 2
        }
      ]
    },
    {
      "cell_type": "code",
      "metadata": {
        "colab": {
          "base_uri": "https://localhost:8080/"
        },
        "id": "2z8V8_XMRAi_",
        "outputId": "f15a9132-524a-4d4c-b1f2-7e35fad2aae4"
      },
      "source": [
        "X[1, 2] = 9    #修改指定元素\n",
        "X"
      ],
      "execution_count": null,
      "outputs": [
        {
          "output_type": "execute_result",
          "data": {
            "text/plain": [
              "tensor([[ 0.,  1.,  2.,  3.],\n",
              "        [ 4.,  5.,  9.,  7.],\n",
              "        [ 8.,  9., 10., 11.]])"
            ]
          },
          "metadata": {},
          "execution_count": 3
        }
      ]
    },
    {
      "cell_type": "code",
      "metadata": {
        "colab": {
          "base_uri": "https://localhost:8080/"
        },
        "id": "KCH1nj8bRSdU",
        "outputId": "19be73eb-3b88-4b0d-840c-c4074a6b03e0"
      },
      "source": [
        "X[0:2, :] = 12   #批量修改元素值，这里指的是第[0,2)行，和所有列修改为12\n",
        "X"
      ],
      "execution_count": null,
      "outputs": [
        {
          "output_type": "execute_result",
          "data": {
            "text/plain": [
              "tensor([[12., 12., 12., 12.],\n",
              "        [12., 12., 12., 12.],\n",
              "        [ 8.,  9., 10., 11.]])"
            ]
          },
          "metadata": {},
          "execution_count": 5
        }
      ]
    },
    {
      "cell_type": "code",
      "metadata": {
        "colab": {
          "base_uri": "https://localhost:8080/"
        },
        "id": "ZOg0HtLbR4sG",
        "outputId": "d2b9a7d5-20d5-42ec-ece6-7277b054e664"
      },
      "source": [
        "before = id(Y)\n",
        "Y = Y + X\n",
        "id(Y) == before  #这表示python是先计算Y+X然后把Y指向新地址，这样做有两个弊端，第一，我们不想让他经常分配新内存，第二，分配新内存后，旧内存依然是我们旧的参数，很有可能某次调参的时候就会指向无用的旧内存"
      ],
      "execution_count": null,
      "outputs": [
        {
          "output_type": "execute_result",
          "data": {
            "text/plain": [
              "False"
            ]
          },
          "metadata": {},
          "execution_count": 6
        }
      ]
    },
    {
      "cell_type": "code",
      "metadata": {
        "colab": {
          "base_uri": "https://localhost:8080/"
        },
        "id": "uxvSDr_9Txg_",
        "outputId": "2731f5e5-ba3b-4434-d1ee-d5623b69bbd9"
      },
      "source": [
        "Z = torch.zeros_like(Y)\n",
        "print(f'id(Z):{id(Z)}')\n",
        "Z[:] = X + Y          #执行原地操作非常简单，我们可以使用切片表示法，将操作的结果分配给先前分配的数组。\n",
        "print(f'id(Z):{id(Z)}')"
      ],
      "execution_count": null,
      "outputs": [
        {
          "output_type": "stream",
          "name": "stdout",
          "text": [
            "id(Z):140137726682608\n",
            "id(Z):140137726682608\n"
          ]
        }
      ]
    },
    {
      "cell_type": "code",
      "metadata": {
        "colab": {
          "base_uri": "https://localhost:8080/"
        },
        "id": "5179Byv_V0Wp",
        "outputId": "2c1789a1-d5b5-4250-f111-7c6a34d51ac7"
      },
      "source": [
        "before = id(X)\n",
        "X += Y   #如果之后没有用X的话可以X[:] = X+Y或者X+=Y来减少内存开销\n",
        "id(X) == before"
      ],
      "execution_count": null,
      "outputs": [
        {
          "output_type": "execute_result",
          "data": {
            "text/plain": [
              "True"
            ]
          },
          "metadata": {},
          "execution_count": 8
        }
      ]
    },
    {
      "cell_type": "code",
      "metadata": {
        "colab": {
          "base_uri": "https://localhost:8080/"
        },
        "id": "0VIl9HtzWQ_Q",
        "outputId": "14ddecb4-cbab-4305-d67a-6eb62a8b892b"
      },
      "source": [
        "A = X.numpy()    #转换python对象\n",
        "B = torch.tensor(A)\n",
        "type(A),type(B)"
      ],
      "execution_count": null,
      "outputs": [
        {
          "output_type": "execute_result",
          "data": {
            "text/plain": [
              "(numpy.ndarray, torch.Tensor)"
            ]
          },
          "metadata": {},
          "execution_count": 9
        }
      ]
    },
    {
      "cell_type": "code",
      "metadata": {
        "colab": {
          "base_uri": "https://localhost:8080/"
        },
        "id": "wvVb_0NvX7DP",
        "outputId": "8d54c5ed-3c5e-49c3-b2f8-0b2daa057ca8"
      },
      "source": [
        "a = torch.tensor([3.5])    #将大小为1的张量转换为python 标量，可以用item。\n",
        "a,a.item(),float(a),int(a)"
      ],
      "execution_count": null,
      "outputs": [
        {
          "output_type": "execute_result",
          "data": {
            "text/plain": [
              "(tensor([3.5000]), 3.5, 3.5, 3)"
            ]
          },
          "metadata": {},
          "execution_count": 10
        }
      ]
    },
    {
      "cell_type": "markdown",
      "metadata": {
        "id": "M9i4XrX3Y4an"
      },
      "source": [
        "## 数据预处理"
      ]
    },
    {
      "cell_type": "code",
      "metadata": {
        "id": "YHUYyfuQY7ZH"
      },
      "source": [
        "import os \n",
        "os.makedirs(os.path.join('..', 'data'), exist_ok=True)  #创建人工数据集\n",
        "data_file = os.path.join('..', 'data', 'house_tiny.csv') \n",
        "with open(data_file, 'w') as f: \n",
        "  f.write('NumRooms,Alley,Price\\n') # 列名 \n",
        "  f.write('NA,Pave,127500\\n') # 每⾏表⽰⼀个数据样本 \n",
        "  f.write('2,NA,106000\\n') \n",
        "  f.write('4,NA,178100\\n') \n",
        "  f.write('NA,NA,140000\\n')"
      ],
      "execution_count": null,
      "outputs": []
    },
    {
      "cell_type": "code",
      "metadata": {
        "colab": {
          "base_uri": "https://localhost:8080/",
          "height": 170
        },
        "id": "RWH44AO3Iu40",
        "outputId": "d729e41e-03ff-44be-9975-cc5bdb0157f4"
      },
      "source": [
        "import pandas as pd\n",
        "\n",
        "data = pd.read_csv(data_file)  #读取数据，其中有许多缺失值，我们要处理缺失值，有插值和删除两种解决，我们用插值\n",
        "data"
      ],
      "execution_count": null,
      "outputs": [
        {
          "output_type": "execute_result",
          "data": {
            "text/html": [
              "<div>\n",
              "<style scoped>\n",
              "    .dataframe tbody tr th:only-of-type {\n",
              "        vertical-align: middle;\n",
              "    }\n",
              "\n",
              "    .dataframe tbody tr th {\n",
              "        vertical-align: top;\n",
              "    }\n",
              "\n",
              "    .dataframe thead th {\n",
              "        text-align: right;\n",
              "    }\n",
              "</style>\n",
              "<table border=\"1\" class=\"dataframe\">\n",
              "  <thead>\n",
              "    <tr style=\"text-align: right;\">\n",
              "      <th></th>\n",
              "      <th>NumRooms</th>\n",
              "      <th>Alley</th>\n",
              "      <th>Price</th>\n",
              "    </tr>\n",
              "  </thead>\n",
              "  <tbody>\n",
              "    <tr>\n",
              "      <th>0</th>\n",
              "      <td>NaN</td>\n",
              "      <td>Pave</td>\n",
              "      <td>127500</td>\n",
              "    </tr>\n",
              "    <tr>\n",
              "      <th>1</th>\n",
              "      <td>2.0</td>\n",
              "      <td>NaN</td>\n",
              "      <td>106000</td>\n",
              "    </tr>\n",
              "    <tr>\n",
              "      <th>2</th>\n",
              "      <td>4.0</td>\n",
              "      <td>NaN</td>\n",
              "      <td>178100</td>\n",
              "    </tr>\n",
              "    <tr>\n",
              "      <th>3</th>\n",
              "      <td>NaN</td>\n",
              "      <td>NaN</td>\n",
              "      <td>140000</td>\n",
              "    </tr>\n",
              "  </tbody>\n",
              "</table>\n",
              "</div>"
            ],
            "text/plain": [
              "   NumRooms Alley   Price\n",
              "0       NaN  Pave  127500\n",
              "1       2.0   NaN  106000\n",
              "2       4.0   NaN  178100\n",
              "3       NaN   NaN  140000"
            ]
          },
          "metadata": {},
          "execution_count": 3
        }
      ]
    },
    {
      "cell_type": "code",
      "metadata": {
        "colab": {
          "base_uri": "https://localhost:8080/"
        },
        "id": "H-14QErfJfnW",
        "outputId": "87328138-b307-4dc1-ed42-9eb5fb0d6e35"
      },
      "source": [
        "inputs,outputs = data.iloc[:,0:2],data.iloc[:,2]     #iloc是位置索引，inputs是data的前两列，outputs是data的最后一列\n",
        "inputs = inputs.fillna(inputs.mean())    #fillna函数是若存在缺失值，用参数代替，这里我们用平均数代替\n",
        "print(inputs)"
      ],
      "execution_count": null,
      "outputs": [
        {
          "output_type": "stream",
          "name": "stdout",
          "text": [
            "   NumRooms Alley\n",
            "0       3.0  Pave\n",
            "1       2.0   NaN\n",
            "2       4.0   NaN\n",
            "3       3.0   NaN\n"
          ]
        }
      ]
    },
    {
      "cell_type": "code",
      "metadata": {
        "colab": {
          "base_uri": "https://localhost:8080/"
        },
        "id": "cHNc047qNYRv",
        "outputId": "c7f39b43-a757-4015-e773-87636cdda72d"
      },
      "source": [
        "inputs = pd.get_dummies(inputs,dummy_na=True)    #由于我们Alley的值只有NaN和Pave两种，所以我们可以吧Alley分为两列Alley_Pave和Alley_nan\n",
        "print(inputs)                                    #其中Alley值为Pave，则Alley_Pave的值为1，反之为0，Alley_nan同理。"
      ],
      "execution_count": null,
      "outputs": [
        {
          "output_type": "stream",
          "name": "stdout",
          "text": [
            "   NumRooms  Alley_Pave  Alley_nan\n",
            "0       3.0           1          0\n",
            "1       2.0           0          1\n",
            "2       4.0           0          1\n",
            "3       3.0           0          1\n"
          ]
        }
      ]
    },
    {
      "cell_type": "code",
      "metadata": {
        "colab": {
          "base_uri": "https://localhost:8080/"
        },
        "id": "y9ednZNVO42g",
        "outputId": "1332d9e4-5efa-42d9-8b4e-40049f008106"
      },
      "source": [
        "import torch\n",
        "\n",
        "X,y = torch.tensor(inputs.values),torch.tensor(outputs.values)     #将inputs和outputs转换为张量，\n",
        "X,y"
      ],
      "execution_count": null,
      "outputs": [
        {
          "output_type": "execute_result",
          "data": {
            "text/plain": [
              "(tensor([[3., 1., 0.],\n",
              "         [2., 0., 1.],\n",
              "         [4., 0., 1.],\n",
              "         [3., 0., 1.]], dtype=torch.float64),\n",
              " tensor([127500, 106000, 178100, 140000]))"
            ]
          },
          "metadata": {},
          "execution_count": 6
        }
      ]
    },
    {
      "cell_type": "markdown",
      "metadata": {
        "id": "W44YdtuLPnlx"
      },
      "source": [
        "### 练习"
      ]
    },
    {
      "cell_type": "markdown",
      "metadata": {
        "id": "EN6jrtk0QhYr"
      },
      "source": [
        "#### 创建包含更多行和列的原始数据集\n",
        "1. 删除缺失值最多的列\n",
        "2. 将预处理数据集转换为张量格式"
      ]
    },
    {
      "cell_type": "code",
      "metadata": {
        "id": "wGzlUMB0PtuR"
      },
      "source": [
        "import os \n",
        "os.makedirs(os.path.join('..', 'data'), exist_ok=True)  #创建人工数据集\n",
        "data_files = os.path.join('..', 'data', 'houses_tiny.csv') \n",
        "with open(data_files, 'w') as f: \n",
        "  f.write('NumRooms,Alley,Price\\n') # 列名 \n",
        "  f.write('NA,Pave,127500\\n') # 每⾏表⽰⼀个数据样本 \n",
        "  f.write('2,NA,106000\\n') \n",
        "  f.write('4,NA,178100\\n') \n",
        "  f.write('NA,NA,140000\\n')\n",
        "  f.write('NA,Pave,143430\\n')\n",
        "  f.write('6,NA,190000\\n')\n",
        "  f.write('3,NA,150000\\n')"
      ],
      "execution_count": 3,
      "outputs": []
    },
    {
      "cell_type": "code",
      "metadata": {
        "colab": {
          "base_uri": "https://localhost:8080/",
          "height": 262
        },
        "id": "JS6LNPxNQgKh",
        "outputId": "8051d775-6fec-4fd8-9052-29e3f7d70711"
      },
      "source": [
        "import pandas as pd\n",
        "\n",
        "data = pd.read_csv(data_files)  #读取数据，其中有许多缺失值，我们要处理缺失值，有插值和删除两种解决，在这里我们用删除\n",
        "data"
      ],
      "execution_count": 4,
      "outputs": [
        {
          "output_type": "execute_result",
          "data": {
            "text/html": [
              "<div>\n",
              "<style scoped>\n",
              "    .dataframe tbody tr th:only-of-type {\n",
              "        vertical-align: middle;\n",
              "    }\n",
              "\n",
              "    .dataframe tbody tr th {\n",
              "        vertical-align: top;\n",
              "    }\n",
              "\n",
              "    .dataframe thead th {\n",
              "        text-align: right;\n",
              "    }\n",
              "</style>\n",
              "<table border=\"1\" class=\"dataframe\">\n",
              "  <thead>\n",
              "    <tr style=\"text-align: right;\">\n",
              "      <th></th>\n",
              "      <th>NumRooms</th>\n",
              "      <th>Alley</th>\n",
              "      <th>Price</th>\n",
              "    </tr>\n",
              "  </thead>\n",
              "  <tbody>\n",
              "    <tr>\n",
              "      <th>0</th>\n",
              "      <td>NaN</td>\n",
              "      <td>Pave</td>\n",
              "      <td>127500</td>\n",
              "    </tr>\n",
              "    <tr>\n",
              "      <th>1</th>\n",
              "      <td>2.0</td>\n",
              "      <td>NaN</td>\n",
              "      <td>106000</td>\n",
              "    </tr>\n",
              "    <tr>\n",
              "      <th>2</th>\n",
              "      <td>4.0</td>\n",
              "      <td>NaN</td>\n",
              "      <td>178100</td>\n",
              "    </tr>\n",
              "    <tr>\n",
              "      <th>3</th>\n",
              "      <td>NaN</td>\n",
              "      <td>NaN</td>\n",
              "      <td>140000</td>\n",
              "    </tr>\n",
              "    <tr>\n",
              "      <th>4</th>\n",
              "      <td>NaN</td>\n",
              "      <td>Pave</td>\n",
              "      <td>143430</td>\n",
              "    </tr>\n",
              "    <tr>\n",
              "      <th>5</th>\n",
              "      <td>6.0</td>\n",
              "      <td>NaN</td>\n",
              "      <td>190000</td>\n",
              "    </tr>\n",
              "    <tr>\n",
              "      <th>6</th>\n",
              "      <td>3.0</td>\n",
              "      <td>NaN</td>\n",
              "      <td>150000</td>\n",
              "    </tr>\n",
              "  </tbody>\n",
              "</table>\n",
              "</div>"
            ],
            "text/plain": [
              "   NumRooms Alley   Price\n",
              "0       NaN  Pave  127500\n",
              "1       2.0   NaN  106000\n",
              "2       4.0   NaN  178100\n",
              "3       NaN   NaN  140000\n",
              "4       NaN  Pave  143430\n",
              "5       6.0   NaN  190000\n",
              "6       3.0   NaN  150000"
            ]
          },
          "metadata": {},
          "execution_count": 4
        }
      ]
    },
    {
      "cell_type": "code",
      "metadata": {
        "colab": {
          "base_uri": "https://localhost:8080/"
        },
        "id": "BdHh-gn9RRwe",
        "outputId": "15f856c3-a72e-4e1b-ffa8-62e7c75a3de9"
      },
      "source": [
        "inputs,outputs = data.iloc[:,0:2],data.iloc[:,2]\n",
        "\n",
        "inputs = inputs.dropna(axis=1,thresh=(inputs.count().min()+1))   #dropna函数，其中axis=1是删除有缺失值的列，thresh参数是保留至少有n个非NaN数据的行/列\n",
        "num = inputs.count() # count函数计算非nan元素的数量\n",
        "inputs = inputs.fillna(inputs.mean())\n",
        "inputs,outputs"
      ],
      "execution_count": 5,
      "outputs": [
        {
          "output_type": "execute_result",
          "data": {
            "text/plain": [
              "(   NumRooms\n",
              " 0      3.75\n",
              " 1      2.00\n",
              " 2      4.00\n",
              " 3      3.75\n",
              " 4      3.75\n",
              " 5      6.00\n",
              " 6      3.00, 0    127500\n",
              " 1    106000\n",
              " 2    178100\n",
              " 3    140000\n",
              " 4    143430\n",
              " 5    190000\n",
              " 6    150000\n",
              " Name: Price, dtype: int64)"
            ]
          },
          "metadata": {},
          "execution_count": 5
        }
      ]
    },
    {
      "cell_type": "code",
      "metadata": {
        "colab": {
          "base_uri": "https://localhost:8080/"
        },
        "id": "21T0VqkOXOup",
        "outputId": "12e5cca4-553f-4e7e-db63-241a02b8574f"
      },
      "source": [
        "import torch\n",
        "W,z = torch.tensor(inputs.values),torch.tensor(outputs.values)  #转换为张量\n",
        "W,z"
      ],
      "execution_count": 6,
      "outputs": [
        {
          "output_type": "execute_result",
          "data": {
            "text/plain": [
              "(tensor([[3.7500],\n",
              "         [2.0000],\n",
              "         [4.0000],\n",
              "         [3.7500],\n",
              "         [3.7500],\n",
              "         [6.0000],\n",
              "         [3.0000]], dtype=torch.float64),\n",
              " tensor([127500, 106000, 178100, 140000, 143430, 190000, 150000]))"
            ]
          },
          "metadata": {},
          "execution_count": 6
        }
      ]
    },
    {
      "cell_type": "markdown",
      "metadata": {
        "id": "5rotFaSfdPK0"
      },
      "source": [
        "# 线性代数"
      ]
    },
    {
      "cell_type": "code",
      "metadata": {
        "colab": {
          "base_uri": "https://localhost:8080/"
        },
        "id": "EQJOGtMsdTNk",
        "outputId": "684a7d69-3a1b-427f-b5e2-4aa1176371ac"
      },
      "source": [
        "import torch\n",
        "\n",
        "x = torch.tensor([3.0])  #标量用只有一个元素的张量表示\n",
        "y = torch.tensor([2.0])\n",
        "\n",
        "x + y,x * y,x / y,x ** y"
      ],
      "execution_count": 7,
      "outputs": [
        {
          "output_type": "execute_result",
          "data": {
            "text/plain": [
              "(tensor([5.]), tensor([6.]), tensor([1.5000]), tensor([9.]))"
            ]
          },
          "metadata": {},
          "execution_count": 7
        }
      ]
    },
    {
      "cell_type": "code",
      "metadata": {
        "colab": {
          "base_uri": "https://localhost:8080/"
        },
        "id": "xwMPZkmreC0x",
        "outputId": "806ed91f-17b0-486a-c2ca-546fafefa52c"
      },
      "source": [
        "x = torch.arange(4)  #我们用一维张量处理向量，问题如何区分行向量或列向量？\n",
        "x"
      ],
      "execution_count": null,
      "outputs": [
        {
          "output_type": "execute_result",
          "data": {
            "text/plain": [
              "tensor([0, 1, 2, 3])"
            ]
          },
          "metadata": {},
          "execution_count": 43
        }
      ]
    },
    {
      "cell_type": "code",
      "metadata": {
        "colab": {
          "base_uri": "https://localhost:8080/"
        },
        "id": "1XCPgL5GefQH",
        "outputId": "dc7df08f-00c6-423b-b689-e91ebcd2b65a"
      },
      "source": [
        "l = x.reshape(4, 1)  #列向量\n",
        "h = x.reshape(1,4)   #行向量\n",
        "l,h"
      ],
      "execution_count": null,
      "outputs": [
        {
          "output_type": "execute_result",
          "data": {
            "text/plain": [
              "(tensor([[0],\n",
              "         [1],\n",
              "         [2],\n",
              "         [3]]), tensor([[0, 1, 2, 3]]))"
            ]
          },
          "metadata": {},
          "execution_count": 53
        }
      ]
    },
    {
      "cell_type": "code",
      "metadata": {
        "colab": {
          "base_uri": "https://localhost:8080/"
        },
        "id": "rydSm1H3gixK",
        "outputId": "66aef5d6-4b9f-4603-e03e-80261c5017d5"
      },
      "source": [
        "x[3]  #通过索引访问任一元素"
      ],
      "execution_count": null,
      "outputs": [
        {
          "output_type": "execute_result",
          "data": {
            "text/plain": [
              "tensor(3)"
            ]
          },
          "metadata": {},
          "execution_count": 54
        }
      ]
    },
    {
      "cell_type": "code",
      "metadata": {
        "colab": {
          "base_uri": "https://localhost:8080/"
        },
        "id": "POlJugupgu70",
        "outputId": "a48e5bd5-c66d-4b1c-c623-b2a60a179def"
      },
      "source": [
        "len(x)  #张量长度\n",
        "x.shape  #张量形状  某个轴的维数就是这个轴的长度"
      ],
      "execution_count": null,
      "outputs": [
        {
          "output_type": "execute_result",
          "data": {
            "text/plain": [
              "torch.Size([4])"
            ]
          },
          "metadata": {},
          "execution_count": 56
        }
      ]
    },
    {
      "cell_type": "code",
      "metadata": {
        "colab": {
          "base_uri": "https://localhost:8080/"
        },
        "id": "YTfhlP0ihKSG",
        "outputId": "04576543-5fa9-4552-ad3a-e16652f5cb23"
      },
      "source": [
        "A = torch.arange(20).reshape(5,4)  #矩阵\n",
        "A,A.T  #A的转置"
      ],
      "execution_count": null,
      "outputs": [
        {
          "output_type": "execute_result",
          "data": {
            "text/plain": [
              "(tensor([[ 0,  1,  2,  3],\n",
              "         [ 4,  5,  6,  7],\n",
              "         [ 8,  9, 10, 11],\n",
              "         [12, 13, 14, 15],\n",
              "         [16, 17, 18, 19]]), tensor([[ 0,  4,  8, 12, 16],\n",
              "         [ 1,  5,  9, 13, 17],\n",
              "         [ 2,  6, 10, 14, 18],\n",
              "         [ 3,  7, 11, 15, 19]]))"
            ]
          },
          "metadata": {},
          "execution_count": 59
        }
      ]
    },
    {
      "cell_type": "code",
      "metadata": {
        "colab": {
          "base_uri": "https://localhost:8080/"
        },
        "id": "Swi1-tq-hmek",
        "outputId": "000fbc44-aa22-49dc-a83e-2ce7a94c42f5"
      },
      "source": [
        "B = torch.tensor([[1,2,3],[2,0,4],[3,4,5]])  #对称矩阵\n",
        "B == B.T"
      ],
      "execution_count": null,
      "outputs": [
        {
          "output_type": "execute_result",
          "data": {
            "text/plain": [
              "tensor([[True, True, True],\n",
              "        [True, True, True],\n",
              "        [True, True, True]])"
            ]
          },
          "metadata": {},
          "execution_count": 61
        }
      ]
    },
    {
      "cell_type": "code",
      "metadata": {
        "colab": {
          "base_uri": "https://localhost:8080/"
        },
        "id": "97z291b2id5B",
        "outputId": "9590e7c2-c537-4540-98e0-240e580ab4b0"
      },
      "source": [
        "X = torch.arange(24).reshape(2,3,4)  #三维张量\n",
        "X"
      ],
      "execution_count": null,
      "outputs": [
        {
          "output_type": "execute_result",
          "data": {
            "text/plain": [
              "tensor([[[ 0,  1,  2,  3],\n",
              "         [ 4,  5,  6,  7],\n",
              "         [ 8,  9, 10, 11]],\n",
              "\n",
              "        [[12, 13, 14, 15],\n",
              "         [16, 17, 18, 19],\n",
              "         [20, 21, 22, 23]]])"
            ]
          },
          "metadata": {},
          "execution_count": 62
        }
      ]
    },
    {
      "cell_type": "code",
      "metadata": {
        "colab": {
          "base_uri": "https://localhost:8080/"
        },
        "id": "F2LSQKfhpQg5",
        "outputId": "a65a2eb5-5766-4c26-ef46-e9a3fa5b3a1a"
      },
      "source": [
        "A = torch.arange(20,dtype= torch.float32).reshape(5,4)\n",
        "B = A.clone()\n",
        "A,A + B   #形状相同的张量，四则运算后的形状不变"
      ],
      "execution_count": 8,
      "outputs": [
        {
          "output_type": "execute_result",
          "data": {
            "text/plain": [
              "(tensor([[ 0.,  1.,  2.,  3.],\n",
              "         [ 4.,  5.,  6.,  7.],\n",
              "         [ 8.,  9., 10., 11.],\n",
              "         [12., 13., 14., 15.],\n",
              "         [16., 17., 18., 19.]]), tensor([[ 0.,  2.,  4.,  6.],\n",
              "         [ 8., 10., 12., 14.],\n",
              "         [16., 18., 20., 22.],\n",
              "         [24., 26., 28., 30.],\n",
              "         [32., 34., 36., 38.]]))"
            ]
          },
          "metadata": {},
          "execution_count": 8
        }
      ]
    },
    {
      "cell_type": "code",
      "metadata": {
        "colab": {
          "base_uri": "https://localhost:8080/"
        },
        "id": "dJv-Sq59qIHB",
        "outputId": "c30c357b-c130-4500-befd-16629a6e00c9"
      },
      "source": [
        "A * B #两张量按元素相乘叫哈达玛积，对应元素相乘"
      ],
      "execution_count": 9,
      "outputs": [
        {
          "output_type": "execute_result",
          "data": {
            "text/plain": [
              "tensor([[  0.,   1.,   4.,   9.],\n",
              "        [ 16.,  25.,  36.,  49.],\n",
              "        [ 64.,  81., 100., 121.],\n",
              "        [144., 169., 196., 225.],\n",
              "        [256., 289., 324., 361.]])"
            ]
          },
          "metadata": {},
          "execution_count": 9
        }
      ]
    },
    {
      "cell_type": "code",
      "metadata": {
        "colab": {
          "base_uri": "https://localhost:8080/"
        },
        "id": "WvqaxQYIqZt1",
        "outputId": "0b284d31-fcbc-4cd5-e96e-d30845c4a3af"
      },
      "source": [
        "a = 2\n",
        "X = torch.arange(24).reshape(2,3,4)  #标量加上或乘上一个张量不会改变形状，其中标量是对张量中每一个元素做运算\n",
        "a + X, (a * X).shape"
      ],
      "execution_count": 11,
      "outputs": [
        {
          "output_type": "execute_result",
          "data": {
            "text/plain": [
              "(tensor([[[ 2,  3,  4,  5],\n",
              "          [ 6,  7,  8,  9],\n",
              "          [10, 11, 12, 13]],\n",
              " \n",
              "         [[14, 15, 16, 17],\n",
              "          [18, 19, 20, 21],\n",
              "          [22, 23, 24, 25]]]), torch.Size([2, 3, 4]))"
            ]
          },
          "metadata": {},
          "execution_count": 11
        }
      ]
    },
    {
      "cell_type": "code",
      "metadata": {
        "colab": {
          "base_uri": "https://localhost:8080/"
        },
        "id": "fEbI-xMBrNLK",
        "outputId": "70823326-dc0e-4f31-a724-f003a9cb3720"
      },
      "source": [
        "x = torch.arange(4,dtype=torch.float32)  #计算向量元素的总和，用sum（）\n",
        "x, x.sum()"
      ],
      "execution_count": 14,
      "outputs": [
        {
          "output_type": "execute_result",
          "data": {
            "text/plain": [
              "(tensor([0., 1., 2., 3.]), tensor(6.))"
            ]
          },
          "metadata": {},
          "execution_count": 14
        }
      ]
    },
    {
      "cell_type": "code",
      "metadata": {
        "colab": {
          "base_uri": "https://localhost:8080/"
        },
        "id": "D5XWbsWZr0-T",
        "outputId": "2580a3ce-2cad-4a90-8dde-4a78ba59e66a"
      },
      "source": [
        "A.shape,A.sum()  #表示任一张量的形状和元素和。"
      ],
      "execution_count": 15,
      "outputs": [
        {
          "output_type": "execute_result",
          "data": {
            "text/plain": [
              "(torch.Size([5, 4]), tensor(190.))"
            ]
          },
          "metadata": {},
          "execution_count": 15
        }
      ]
    },
    {
      "cell_type": "code",
      "metadata": {
        "colab": {
          "base_uri": "https://localhost:8080/"
        },
        "id": "MvqjWBi5sGG1",
        "outputId": "47e0d9ef-9282-49f7-f82e-04d8e3167dea"
      },
      "source": [
        "A_sum_axis0 = A.sum(axis = 0)    #可以通过指定一个轴来通过求和降低维度，这里指定的是0轴，也就是行，求和降维之后变成向量\n",
        "A_sum_axis0, A_sum_axis0.shape   #也就是说，指定哪一个轴哪一轴就消失。"
      ],
      "execution_count": 16,
      "outputs": [
        {
          "output_type": "execute_result",
          "data": {
            "text/plain": [
              "(tensor([40., 45., 50., 55.]), torch.Size([4]))"
            ]
          },
          "metadata": {},
          "execution_count": 16
        }
      ]
    },
    {
      "cell_type": "code",
      "metadata": {
        "colab": {
          "base_uri": "https://localhost:8080/"
        },
        "id": "fJjhmwp3tkvh",
        "outputId": "e81020b8-609b-4a84-ac12-be116739b1ee"
      },
      "source": [
        "A_sum_axis1 = A.sum(axis= 1)\n",
        "A_sum_axis1,A_sum_axis1.shape"
      ],
      "execution_count": 17,
      "outputs": [
        {
          "output_type": "execute_result",
          "data": {
            "text/plain": [
              "(tensor([ 6., 22., 38., 54., 70.]), torch.Size([5]))"
            ]
          },
          "metadata": {},
          "execution_count": 17
        }
      ]
    },
    {
      "cell_type": "code",
      "metadata": {
        "colab": {
          "base_uri": "https://localhost:8080/"
        },
        "id": "_ke_NOpKuRif",
        "outputId": "fa6eee4b-5717-4960-e8d6-afe1587826d7"
      },
      "source": [
        "A.sum(axis=[0,1])  #相当于对矩阵所有元素求和。<===>A.sum()"
      ],
      "execution_count": 18,
      "outputs": [
        {
          "output_type": "execute_result",
          "data": {
            "text/plain": [
              "tensor(190.)"
            ]
          },
          "metadata": {},
          "execution_count": 18
        }
      ]
    },
    {
      "cell_type": "code",
      "metadata": {
        "colab": {
          "base_uri": "https://localhost:8080/"
        },
        "id": "hgK5-YS6upVe",
        "outputId": "37327670-ca5f-4605-9184-ac580525797e"
      },
      "source": [
        "A.mean(),A.sum()/A.numel()   #求平均值"
      ],
      "execution_count": 22,
      "outputs": [
        {
          "output_type": "execute_result",
          "data": {
            "text/plain": [
              "(tensor(9.5000), tensor(9.5000))"
            ]
          },
          "metadata": {},
          "execution_count": 22
        }
      ]
    },
    {
      "cell_type": "code",
      "metadata": {
        "colab": {
          "base_uri": "https://localhost:8080/"
        },
        "id": "yf3DqCTavWxX",
        "outputId": "2cf0f46e-95dc-4855-d994-3cbc76050201"
      },
      "source": [
        "A.mean(axis=1),A.sum(axis=1)/A.shape[1]  #指定轴求平均值可以指定轴降低张量维度"
      ],
      "execution_count": 24,
      "outputs": [
        {
          "output_type": "execute_result",
          "data": {
            "text/plain": [
              "(tensor([ 1.5000,  5.5000,  9.5000, 13.5000, 17.5000]),\n",
              " tensor([ 1.5000,  5.5000,  9.5000, 13.5000, 17.5000]))"
            ]
          },
          "metadata": {},
          "execution_count": 24
        }
      ]
    }
  ]
}