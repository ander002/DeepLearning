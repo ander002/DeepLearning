{
  "nbformat": 4,
  "nbformat_minor": 0,
  "metadata": {
    "colab": {
      "name": "DeepLearning_7.ipynb",
      "provenance": [],
      "authorship_tag": "ABX9TyNpqcASqjTDSuXT/TMzZKEB",
      "include_colab_link": true
    },
    "kernelspec": {
      "name": "python3",
      "display_name": "Python 3"
    },
    "language_info": {
      "name": "python"
    },
    "widgets": {
      "application/vnd.jupyter.widget-state+json": {
        "910efaa9e9cb4111ab44842e6bf35234": {
          "model_module": "@jupyter-widgets/controls",
          "model_name": "HBoxModel",
          "model_module_version": "1.5.0",
          "state": {
            "_view_name": "HBoxView",
            "_dom_classes": [],
            "_model_name": "HBoxModel",
            "_view_module": "@jupyter-widgets/controls",
            "_model_module_version": "1.5.0",
            "_view_count": null,
            "_view_module_version": "1.5.0",
            "box_style": "",
            "layout": "IPY_MODEL_ea26687e81f3420086053052c9295af1",
            "_model_module": "@jupyter-widgets/controls",
            "children": [
              "IPY_MODEL_ebb565cd45b642e79cbc676e55c08164",
              "IPY_MODEL_b43eaf5ef97d4be89cbebe1e8d8c0e2b",
              "IPY_MODEL_4d0caa118fc9481dbd0656f88ce9a92a"
            ]
          }
        },
        "ea26687e81f3420086053052c9295af1": {
          "model_module": "@jupyter-widgets/base",
          "model_name": "LayoutModel",
          "model_module_version": "1.2.0",
          "state": {
            "_view_name": "LayoutView",
            "grid_template_rows": null,
            "right": null,
            "justify_content": null,
            "_view_module": "@jupyter-widgets/base",
            "overflow": null,
            "_model_module_version": "1.2.0",
            "_view_count": null,
            "flex_flow": null,
            "width": null,
            "min_width": null,
            "border": null,
            "align_items": null,
            "bottom": null,
            "_model_module": "@jupyter-widgets/base",
            "top": null,
            "grid_column": null,
            "overflow_y": null,
            "overflow_x": null,
            "grid_auto_flow": null,
            "grid_area": null,
            "grid_template_columns": null,
            "flex": null,
            "_model_name": "LayoutModel",
            "justify_items": null,
            "grid_row": null,
            "max_height": null,
            "align_content": null,
            "visibility": null,
            "align_self": null,
            "height": null,
            "min_height": null,
            "padding": null,
            "grid_auto_rows": null,
            "grid_gap": null,
            "max_width": null,
            "order": null,
            "_view_module_version": "1.2.0",
            "grid_template_areas": null,
            "object_position": null,
            "object_fit": null,
            "grid_auto_columns": null,
            "margin": null,
            "display": null,
            "left": null
          }
        },
        "ebb565cd45b642e79cbc676e55c08164": {
          "model_module": "@jupyter-widgets/controls",
          "model_name": "HTMLModel",
          "model_module_version": "1.5.0",
          "state": {
            "_view_name": "HTMLView",
            "style": "IPY_MODEL_8b735f6221534ef58cdd483b6f6989f4",
            "_dom_classes": [],
            "description": "",
            "_model_name": "HTMLModel",
            "placeholder": "​",
            "_view_module": "@jupyter-widgets/controls",
            "_model_module_version": "1.5.0",
            "value": "100%",
            "_view_count": null,
            "_view_module_version": "1.5.0",
            "description_tooltip": null,
            "_model_module": "@jupyter-widgets/controls",
            "layout": "IPY_MODEL_2e86f96d2bea45d780271aeb27ef10d2"
          }
        },
        "b43eaf5ef97d4be89cbebe1e8d8c0e2b": {
          "model_module": "@jupyter-widgets/controls",
          "model_name": "FloatProgressModel",
          "model_module_version": "1.5.0",
          "state": {
            "_view_name": "ProgressView",
            "style": "IPY_MODEL_b305ac0ce14944c0be759632f3dedbcc",
            "_dom_classes": [],
            "description": "",
            "_model_name": "FloatProgressModel",
            "bar_style": "success",
            "max": 46830571,
            "_view_module": "@jupyter-widgets/controls",
            "_model_module_version": "1.5.0",
            "value": 46830571,
            "_view_count": null,
            "_view_module_version": "1.5.0",
            "orientation": "horizontal",
            "min": 0,
            "description_tooltip": null,
            "_model_module": "@jupyter-widgets/controls",
            "layout": "IPY_MODEL_49196a3718e243fc977dd64a27ba1b58"
          }
        },
        "4d0caa118fc9481dbd0656f88ce9a92a": {
          "model_module": "@jupyter-widgets/controls",
          "model_name": "HTMLModel",
          "model_module_version": "1.5.0",
          "state": {
            "_view_name": "HTMLView",
            "style": "IPY_MODEL_06717b95a85c41a0a5ccae70b94205b5",
            "_dom_classes": [],
            "description": "",
            "_model_name": "HTMLModel",
            "placeholder": "​",
            "_view_module": "@jupyter-widgets/controls",
            "_model_module_version": "1.5.0",
            "value": " 44.7M/44.7M [00:00&lt;00:00, 98.3MB/s]",
            "_view_count": null,
            "_view_module_version": "1.5.0",
            "description_tooltip": null,
            "_model_module": "@jupyter-widgets/controls",
            "layout": "IPY_MODEL_69e67ec462b04e63b9834e29ed87496b"
          }
        },
        "8b735f6221534ef58cdd483b6f6989f4": {
          "model_module": "@jupyter-widgets/controls",
          "model_name": "DescriptionStyleModel",
          "model_module_version": "1.5.0",
          "state": {
            "_view_name": "StyleView",
            "_model_name": "DescriptionStyleModel",
            "description_width": "",
            "_view_module": "@jupyter-widgets/base",
            "_model_module_version": "1.5.0",
            "_view_count": null,
            "_view_module_version": "1.2.0",
            "_model_module": "@jupyter-widgets/controls"
          }
        },
        "2e86f96d2bea45d780271aeb27ef10d2": {
          "model_module": "@jupyter-widgets/base",
          "model_name": "LayoutModel",
          "model_module_version": "1.2.0",
          "state": {
            "_view_name": "LayoutView",
            "grid_template_rows": null,
            "right": null,
            "justify_content": null,
            "_view_module": "@jupyter-widgets/base",
            "overflow": null,
            "_model_module_version": "1.2.0",
            "_view_count": null,
            "flex_flow": null,
            "width": null,
            "min_width": null,
            "border": null,
            "align_items": null,
            "bottom": null,
            "_model_module": "@jupyter-widgets/base",
            "top": null,
            "grid_column": null,
            "overflow_y": null,
            "overflow_x": null,
            "grid_auto_flow": null,
            "grid_area": null,
            "grid_template_columns": null,
            "flex": null,
            "_model_name": "LayoutModel",
            "justify_items": null,
            "grid_row": null,
            "max_height": null,
            "align_content": null,
            "visibility": null,
            "align_self": null,
            "height": null,
            "min_height": null,
            "padding": null,
            "grid_auto_rows": null,
            "grid_gap": null,
            "max_width": null,
            "order": null,
            "_view_module_version": "1.2.0",
            "grid_template_areas": null,
            "object_position": null,
            "object_fit": null,
            "grid_auto_columns": null,
            "margin": null,
            "display": null,
            "left": null
          }
        },
        "b305ac0ce14944c0be759632f3dedbcc": {
          "model_module": "@jupyter-widgets/controls",
          "model_name": "ProgressStyleModel",
          "model_module_version": "1.5.0",
          "state": {
            "_view_name": "StyleView",
            "_model_name": "ProgressStyleModel",
            "description_width": "",
            "_view_module": "@jupyter-widgets/base",
            "_model_module_version": "1.5.0",
            "_view_count": null,
            "_view_module_version": "1.2.0",
            "bar_color": null,
            "_model_module": "@jupyter-widgets/controls"
          }
        },
        "49196a3718e243fc977dd64a27ba1b58": {
          "model_module": "@jupyter-widgets/base",
          "model_name": "LayoutModel",
          "model_module_version": "1.2.0",
          "state": {
            "_view_name": "LayoutView",
            "grid_template_rows": null,
            "right": null,
            "justify_content": null,
            "_view_module": "@jupyter-widgets/base",
            "overflow": null,
            "_model_module_version": "1.2.0",
            "_view_count": null,
            "flex_flow": null,
            "width": null,
            "min_width": null,
            "border": null,
            "align_items": null,
            "bottom": null,
            "_model_module": "@jupyter-widgets/base",
            "top": null,
            "grid_column": null,
            "overflow_y": null,
            "overflow_x": null,
            "grid_auto_flow": null,
            "grid_area": null,
            "grid_template_columns": null,
            "flex": null,
            "_model_name": "LayoutModel",
            "justify_items": null,
            "grid_row": null,
            "max_height": null,
            "align_content": null,
            "visibility": null,
            "align_self": null,
            "height": null,
            "min_height": null,
            "padding": null,
            "grid_auto_rows": null,
            "grid_gap": null,
            "max_width": null,
            "order": null,
            "_view_module_version": "1.2.0",
            "grid_template_areas": null,
            "object_position": null,
            "object_fit": null,
            "grid_auto_columns": null,
            "margin": null,
            "display": null,
            "left": null
          }
        },
        "06717b95a85c41a0a5ccae70b94205b5": {
          "model_module": "@jupyter-widgets/controls",
          "model_name": "DescriptionStyleModel",
          "model_module_version": "1.5.0",
          "state": {
            "_view_name": "StyleView",
            "_model_name": "DescriptionStyleModel",
            "description_width": "",
            "_view_module": "@jupyter-widgets/base",
            "_model_module_version": "1.5.0",
            "_view_count": null,
            "_view_module_version": "1.2.0",
            "_model_module": "@jupyter-widgets/controls"
          }
        },
        "69e67ec462b04e63b9834e29ed87496b": {
          "model_module": "@jupyter-widgets/base",
          "model_name": "LayoutModel",
          "model_module_version": "1.2.0",
          "state": {
            "_view_name": "LayoutView",
            "grid_template_rows": null,
            "right": null,
            "justify_content": null,
            "_view_module": "@jupyter-widgets/base",
            "overflow": null,
            "_model_module_version": "1.2.0",
            "_view_count": null,
            "flex_flow": null,
            "width": null,
            "min_width": null,
            "border": null,
            "align_items": null,
            "bottom": null,
            "_model_module": "@jupyter-widgets/base",
            "top": null,
            "grid_column": null,
            "overflow_y": null,
            "overflow_x": null,
            "grid_auto_flow": null,
            "grid_area": null,
            "grid_template_columns": null,
            "flex": null,
            "_model_name": "LayoutModel",
            "justify_items": null,
            "grid_row": null,
            "max_height": null,
            "align_content": null,
            "visibility": null,
            "align_self": null,
            "height": null,
            "min_height": null,
            "padding": null,
            "grid_auto_rows": null,
            "grid_gap": null,
            "max_width": null,
            "order": null,
            "_view_module_version": "1.2.0",
            "grid_template_areas": null,
            "object_position": null,
            "object_fit": null,
            "grid_auto_columns": null,
            "margin": null,
            "display": null,
            "left": null
          }
        }
      }
    },
    "accelerator": "GPU"
  },
  "cells": [
    {
      "cell_type": "markdown",
      "metadata": {
        "id": "view-in-github",
        "colab_type": "text"
      },
      "source": [
        "<a href=\"https://colab.research.google.com/github/ander002/DeepLearning/blob/main/DeepLearning_7.ipynb\" target=\"_parent\"><img src=\"https://colab.research.google.com/assets/colab-badge.svg\" alt=\"Open In Colab\"/></a>"
      ]
    },
    {
      "cell_type": "markdown",
      "metadata": {
        "id": "dZk1yKTT5bCh"
      },
      "source": [
        "# 语义分割（semantic segmentation）(仅了解了一下)\n",
        "> 语义分割重点关注于如何将图像分割成属于不同语义类别的区域。与⽬标检测不同，语义分割可以识别并理解图像中每⼀个像素的内容：其语义区域的标注和预测是像素级的。\n",
        "\n",
        "##图像分割和实例分割\n",
        "&emsp;&emsp;他们两之间的区别：\n",
        "> *  图像分割将图像划分为若⼲组成区域，这类问题的⽅法通常利⽤图像中像素之间的相关性。它在训练\n",
        "时不需要有关图像像素的标签信息，在预测时也⽆法保证分割出的区域具有我们希望得到的语义。只表示这个像素块是哪一类。\n",
        "* 实例分割也叫同时检测并分割（simultaneous detection and segmentation），它研究如何识别图像中各个⽬标实例的像素级区域。与语义分割不同，实例分割不仅需要区分语义，还要区分不同的⽬标实例。表示这个像素块属于哪一类的哪一个实例物体。\n",
        "\n",
        "![](http://jx.anderd.com/docker/SegVSS.png)"
      ]
    },
    {
      "cell_type": "code",
      "metadata": {
        "colab": {
          "base_uri": "https://localhost:8080/"
        },
        "id": "B2AIoLmZ7F5O",
        "outputId": "875e9b2a-3665-44ca-e1a9-bf5ea38facb6"
      },
      "source": [
        "!pip install d2l"
      ],
      "execution_count": null,
      "outputs": [
        {
          "output_type": "stream",
          "name": "stdout",
          "text": [
            "Collecting d2l\n",
            "  Downloading d2l-0.17.0-py3-none-any.whl (83 kB)\n",
            "\u001b[?25l\r\u001b[K     |████                            | 10 kB 30.4 MB/s eta 0:00:01\r\u001b[K     |███████▉                        | 20 kB 9.3 MB/s eta 0:00:01\r\u001b[K     |███████████▉                    | 30 kB 7.9 MB/s eta 0:00:01\r\u001b[K     |███████████████▊                | 40 kB 7.3 MB/s eta 0:00:01\r\u001b[K     |███████████████████▊            | 51 kB 5.0 MB/s eta 0:00:01\r\u001b[K     |███████████████████████▋        | 61 kB 5.2 MB/s eta 0:00:01\r\u001b[K     |███████████████████████████▋    | 71 kB 5.4 MB/s eta 0:00:01\r\u001b[K     |███████████████████████████████▌| 81 kB 6.1 MB/s eta 0:00:01\r\u001b[K     |████████████████████████████████| 83 kB 1.3 MB/s \n",
            "\u001b[?25hRequirement already satisfied: jupyter in /usr/local/lib/python3.7/dist-packages (from d2l) (1.0.0)\n",
            "Requirement already satisfied: requests in /usr/local/lib/python3.7/dist-packages (from d2l) (2.23.0)\n",
            "Requirement already satisfied: matplotlib in /usr/local/lib/python3.7/dist-packages (from d2l) (3.2.2)\n",
            "Requirement already satisfied: pandas in /usr/local/lib/python3.7/dist-packages (from d2l) (1.1.5)\n",
            "Requirement already satisfied: numpy in /usr/local/lib/python3.7/dist-packages (from d2l) (1.19.5)\n",
            "Requirement already satisfied: ipywidgets in /usr/local/lib/python3.7/dist-packages (from jupyter->d2l) (7.6.5)\n",
            "Requirement already satisfied: nbconvert in /usr/local/lib/python3.7/dist-packages (from jupyter->d2l) (5.6.1)\n",
            "Requirement already satisfied: ipykernel in /usr/local/lib/python3.7/dist-packages (from jupyter->d2l) (4.10.1)\n",
            "Requirement already satisfied: qtconsole in /usr/local/lib/python3.7/dist-packages (from jupyter->d2l) (5.1.1)\n",
            "Requirement already satisfied: jupyter-console in /usr/local/lib/python3.7/dist-packages (from jupyter->d2l) (5.2.0)\n",
            "Requirement already satisfied: notebook in /usr/local/lib/python3.7/dist-packages (from jupyter->d2l) (5.3.1)\n",
            "Requirement already satisfied: ipython>=4.0.0 in /usr/local/lib/python3.7/dist-packages (from ipykernel->jupyter->d2l) (5.5.0)\n",
            "Requirement already satisfied: jupyter-client in /usr/local/lib/python3.7/dist-packages (from ipykernel->jupyter->d2l) (5.3.5)\n",
            "Requirement already satisfied: traitlets>=4.1.0 in /usr/local/lib/python3.7/dist-packages (from ipykernel->jupyter->d2l) (5.1.0)\n",
            "Requirement already satisfied: tornado>=4.0 in /usr/local/lib/python3.7/dist-packages (from ipykernel->jupyter->d2l) (5.1.1)\n",
            "Requirement already satisfied: pygments in /usr/local/lib/python3.7/dist-packages (from ipython>=4.0.0->ipykernel->jupyter->d2l) (2.6.1)\n",
            "Requirement already satisfied: pickleshare in /usr/local/lib/python3.7/dist-packages (from ipython>=4.0.0->ipykernel->jupyter->d2l) (0.7.5)\n",
            "Requirement already satisfied: simplegeneric>0.8 in /usr/local/lib/python3.7/dist-packages (from ipython>=4.0.0->ipykernel->jupyter->d2l) (0.8.1)\n",
            "Requirement already satisfied: prompt-toolkit<2.0.0,>=1.0.4 in /usr/local/lib/python3.7/dist-packages (from ipython>=4.0.0->ipykernel->jupyter->d2l) (1.0.18)\n",
            "Requirement already satisfied: pexpect in /usr/local/lib/python3.7/dist-packages (from ipython>=4.0.0->ipykernel->jupyter->d2l) (4.8.0)\n",
            "Requirement already satisfied: setuptools>=18.5 in /usr/local/lib/python3.7/dist-packages (from ipython>=4.0.0->ipykernel->jupyter->d2l) (57.4.0)\n",
            "Requirement already satisfied: decorator in /usr/local/lib/python3.7/dist-packages (from ipython>=4.0.0->ipykernel->jupyter->d2l) (4.4.2)\n",
            "Requirement already satisfied: wcwidth in /usr/local/lib/python3.7/dist-packages (from prompt-toolkit<2.0.0,>=1.0.4->ipython>=4.0.0->ipykernel->jupyter->d2l) (0.2.5)\n",
            "Requirement already satisfied: six>=1.9.0 in /usr/local/lib/python3.7/dist-packages (from prompt-toolkit<2.0.0,>=1.0.4->ipython>=4.0.0->ipykernel->jupyter->d2l) (1.15.0)\n",
            "Requirement already satisfied: ipython-genutils~=0.2.0 in /usr/local/lib/python3.7/dist-packages (from ipywidgets->jupyter->d2l) (0.2.0)\n",
            "Requirement already satisfied: jupyterlab-widgets>=1.0.0 in /usr/local/lib/python3.7/dist-packages (from ipywidgets->jupyter->d2l) (1.0.2)\n",
            "Requirement already satisfied: nbformat>=4.2.0 in /usr/local/lib/python3.7/dist-packages (from ipywidgets->jupyter->d2l) (5.1.3)\n",
            "Requirement already satisfied: widgetsnbextension~=3.5.0 in /usr/local/lib/python3.7/dist-packages (from ipywidgets->jupyter->d2l) (3.5.1)\n",
            "Requirement already satisfied: jsonschema!=2.5.0,>=2.4 in /usr/local/lib/python3.7/dist-packages (from nbformat>=4.2.0->ipywidgets->jupyter->d2l) (2.6.0)\n",
            "Requirement already satisfied: jupyter-core in /usr/local/lib/python3.7/dist-packages (from nbformat>=4.2.0->ipywidgets->jupyter->d2l) (4.8.1)\n",
            "Requirement already satisfied: jinja2 in /usr/local/lib/python3.7/dist-packages (from notebook->jupyter->d2l) (2.11.3)\n",
            "Requirement already satisfied: Send2Trash in /usr/local/lib/python3.7/dist-packages (from notebook->jupyter->d2l) (1.8.0)\n",
            "Requirement already satisfied: terminado>=0.8.1 in /usr/local/lib/python3.7/dist-packages (from notebook->jupyter->d2l) (0.12.1)\n",
            "Requirement already satisfied: python-dateutil>=2.1 in /usr/local/lib/python3.7/dist-packages (from jupyter-client->ipykernel->jupyter->d2l) (2.8.2)\n",
            "Requirement already satisfied: pyzmq>=13 in /usr/local/lib/python3.7/dist-packages (from jupyter-client->ipykernel->jupyter->d2l) (22.3.0)\n",
            "Requirement already satisfied: ptyprocess in /usr/local/lib/python3.7/dist-packages (from terminado>=0.8.1->notebook->jupyter->d2l) (0.7.0)\n",
            "Requirement already satisfied: MarkupSafe>=0.23 in /usr/local/lib/python3.7/dist-packages (from jinja2->notebook->jupyter->d2l) (2.0.1)\n",
            "Requirement already satisfied: pyparsing!=2.0.4,!=2.1.2,!=2.1.6,>=2.0.1 in /usr/local/lib/python3.7/dist-packages (from matplotlib->d2l) (2.4.7)\n",
            "Requirement already satisfied: kiwisolver>=1.0.1 in /usr/local/lib/python3.7/dist-packages (from matplotlib->d2l) (1.3.2)\n",
            "Requirement already satisfied: cycler>=0.10 in /usr/local/lib/python3.7/dist-packages (from matplotlib->d2l) (0.10.0)\n",
            "Requirement already satisfied: defusedxml in /usr/local/lib/python3.7/dist-packages (from nbconvert->jupyter->d2l) (0.7.1)\n",
            "Requirement already satisfied: testpath in /usr/local/lib/python3.7/dist-packages (from nbconvert->jupyter->d2l) (0.5.0)\n",
            "Requirement already satisfied: mistune<2,>=0.8.1 in /usr/local/lib/python3.7/dist-packages (from nbconvert->jupyter->d2l) (0.8.4)\n",
            "Requirement already satisfied: bleach in /usr/local/lib/python3.7/dist-packages (from nbconvert->jupyter->d2l) (4.1.0)\n",
            "Requirement already satisfied: pandocfilters>=1.4.1 in /usr/local/lib/python3.7/dist-packages (from nbconvert->jupyter->d2l) (1.5.0)\n",
            "Requirement already satisfied: entrypoints>=0.2.2 in /usr/local/lib/python3.7/dist-packages (from nbconvert->jupyter->d2l) (0.3)\n",
            "Requirement already satisfied: packaging in /usr/local/lib/python3.7/dist-packages (from bleach->nbconvert->jupyter->d2l) (21.0)\n",
            "Requirement already satisfied: webencodings in /usr/local/lib/python3.7/dist-packages (from bleach->nbconvert->jupyter->d2l) (0.5.1)\n",
            "Requirement already satisfied: pytz>=2017.2 in /usr/local/lib/python3.7/dist-packages (from pandas->d2l) (2018.9)\n",
            "Requirement already satisfied: qtpy in /usr/local/lib/python3.7/dist-packages (from qtconsole->jupyter->d2l) (1.11.2)\n",
            "Requirement already satisfied: idna<3,>=2.5 in /usr/local/lib/python3.7/dist-packages (from requests->d2l) (2.10)\n",
            "Requirement already satisfied: urllib3!=1.25.0,!=1.25.1,<1.26,>=1.21.1 in /usr/local/lib/python3.7/dist-packages (from requests->d2l) (1.24.3)\n",
            "Requirement already satisfied: chardet<4,>=3.0.2 in /usr/local/lib/python3.7/dist-packages (from requests->d2l) (3.0.4)\n",
            "Requirement already satisfied: certifi>=2017.4.17 in /usr/local/lib/python3.7/dist-packages (from requests->d2l) (2021.5.30)\n",
            "Installing collected packages: d2l\n",
            "Successfully installed d2l-0.17.0\n"
          ]
        }
      ]
    },
    {
      "cell_type": "code",
      "metadata": {
        "id": "-wSrjWwA5USo"
      },
      "source": [
        "#语义分割数据集\n",
        "%matplotlib inline\n",
        "import os\n",
        "import torch\n",
        "import torchvision\n",
        "from d2l import torch as d2l\n"
      ],
      "execution_count": null,
      "outputs": []
    },
    {
      "cell_type": "code",
      "metadata": {
        "colab": {
          "base_uri": "https://localhost:8080/"
        },
        "id": "JfuX3YLX7MBO",
        "outputId": "71dd4095-c683-4771-bf1b-a9e8b10f0c0f"
      },
      "source": [
        "d2l.DATA_HUB['voc2012'] = (d2l.DATA_URL + 'VOCtrainval_11-May-2012.tar',\n",
        "'4e443f8a2eca6b1dac8a6c57641b67dd40621a49')\n",
        "voc_dir = d2l.download_extract('voc2012', 'VOCdevkit/VOC2012')"
      ],
      "execution_count": null,
      "outputs": [
        {
          "output_type": "stream",
          "name": "stdout",
          "text": [
            "Downloading ../data/VOCtrainval_11-May-2012.tar from http://d2l-data.s3-accelerate.amazonaws.com/VOCtrainval_11-May-2012.tar...\n"
          ]
        }
      ]
    },
    {
      "cell_type": "code",
      "metadata": {
        "id": "jLhYG3xw7NJa"
      },
      "source": [
        "def read_voc_images(voc_dir,is_train=True):\n",
        "  \"\"\"读取所有voc图像并标注\"\"\"\n",
        "  txt_fname = os.path.join(voc_dir,'ImageSets','Segmentation',\n",
        "                           'train.txt'if is_train else 'val.txt')\n",
        "  mode = torchvision.io.image.ImageReadMode.RGB\n",
        "  with open(txt_fname,'r')as f:\n",
        "    images = f.read().split()\n",
        "  features,labels = [],[]\n",
        "  for i,fname in enumerate(images):\n",
        "    features.append(torchvision.io.read_image(os.path.join(voc_dir,'JPEGImages',f'{fname}.jpg')))\n",
        "    labels.append(torchvision.io.read_image(os.path.join(voc_dir,'SegmentationClass',f'{fname}.png'),mode))\n",
        "  return features,labels"
      ],
      "execution_count": null,
      "outputs": []
    },
    {
      "cell_type": "code",
      "metadata": {
        "id": "6VTeJn7lB2a5"
      },
      "source": [
        "train_features, train_labels = read_voc_images(voc_dir, True)#训练数据集"
      ],
      "execution_count": null,
      "outputs": []
    },
    {
      "cell_type": "code",
      "metadata": {
        "colab": {
          "base_uri": "https://localhost:8080/",
          "height": 177
        },
        "id": "7JDinbjaCJbp",
        "outputId": "8930ffeb-f99b-4a95-acfb-cee75e60f246"
      },
      "source": [
        "n = 5\n",
        "imgs = train_features[0:n] + train_labels[0:n]\n",
        "imgs = [img.permute(1,2,0) for img in imgs]\n",
        "d2l.show_images(imgs, 2, n);"
      ],
      "execution_count": null,
      "outputs": [
        {
          "output_type": "display_data",
          "data": {
            "image/png": "[encoded data removed]",
            "text/plain": [
              "<Figure size 540x216 with 10 Axes>"
            ]
          },
          "metadata": {
            "needs_background": "light"
          }
        }
      ]
    },
    {
      "cell_type": "code",
      "metadata": {
        "id": "0FlCvHFsQhFN"
      },
      "source": [
        "VOC_COLORMAP = [[0, 0, 0], [128, 0, 0], [0, 128, 0], [128, 128, 0],\n",
        "                [0, 0, 128], [128, 0, 128], [0, 128, 128], [128, 128, 128],\n",
        "                [64, 0, 0], [192, 0, 0], [64, 128, 0], [192, 128, 0],\n",
        "                [64, 0, 128], [192, 0, 128], [64, 128, 128], [192, 128, 128],\n",
        "                [0, 64, 0], [128, 64, 0], [0, 192, 0], [128, 192, 0],[0, 64, 128]]\n",
        "              \n",
        "VOC_CLASSES = ['background', 'aeroplane', 'bicycle', 'bird', 'boat',\n",
        "                'bottle', 'bus', 'car', 'cat', 'chair', 'cow',\n",
        "                'diningtable', 'dog', 'horse', 'motorbike', 'person',\n",
        "                'potted plant', 'sheep', 'sofa', 'train', 'tv/monitor']"
      ],
      "execution_count": null,
      "outputs": []
    },
    {
      "cell_type": "code",
      "metadata": {
        "id": "oXhdkEYDRbOL"
      },
      "source": [
        "def voc_colormap2label():\n",
        "  \"\"\"构建从RGB到VOC类别索引的映射\"\"\"\n",
        "  colormap2label = torch.zeros(256 ** 3,dtype=torch.long)#将图片的rgb值映射到一个标号上\n",
        "  for i,colormap in enumerate(VOC_COLORMAP):\n",
        "    colormap2label[(colormap[0] * 256 + colormap[1]) * 256 + colormap[2]] = i\n",
        "  return colormap2label#字典\n",
        "\n",
        "def voc_label_indices(colormap, colormap2label):\n",
        "  \"\"\"将VOC标签中的RGB值映射到它们的类别索引。\"\"\"\n",
        "  colormap = colormap.permute(1, 2, 0).numpy().astype('int32')\n",
        "  idx = ((colormap[:, :, 0] * 256 + colormap[:, :, 1]) * 256+ colormap[:, :, 2])\n",
        "  return colormap2label[idx]"
      ],
      "execution_count": null,
      "outputs": []
    },
    {
      "cell_type": "code",
      "metadata": {
        "colab": {
          "base_uri": "https://localhost:8080/"
        },
        "id": "Ja03jBnzSP_G",
        "outputId": "82e55664-692b-450b-bbf6-613e1534dbc8"
      },
      "source": [
        "y = voc_label_indices(train_labels[0], voc_colormap2label())\n",
        "y[105:115, 130:140], VOC_CLASSES[1]#在第⼀张样本图像中，⻜机头部区域的类别索引为1，而背景索引为0"
      ],
      "execution_count": null,
      "outputs": [
        {
          "output_type": "execute_result",
          "data": {
            "text/plain": [
              "(tensor([[0, 0, 0, 0, 0, 0, 0, 0, 0, 1],\n",
              "         [0, 0, 0, 0, 0, 0, 0, 1, 1, 1],\n",
              "         [0, 0, 0, 0, 0, 0, 1, 1, 1, 1],\n",
              "         [0, 0, 0, 0, 0, 1, 1, 1, 1, 1],\n",
              "         [0, 0, 0, 0, 0, 1, 1, 1, 1, 1],\n",
              "         [0, 0, 0, 0, 1, 1, 1, 1, 1, 1],\n",
              "         [0, 0, 0, 0, 0, 1, 1, 1, 1, 1],\n",
              "         [0, 0, 0, 0, 0, 1, 1, 1, 1, 1],\n",
              "         [0, 0, 0, 0, 0, 0, 1, 1, 1, 1],\n",
              "         [0, 0, 0, 0, 0, 0, 0, 0, 1, 1]]), 'aeroplane')"
            ]
          },
          "metadata": {},
          "execution_count": 26
        }
      ]
    },
    {
      "cell_type": "code",
      "metadata": {
        "id": "qigyI5vtSwgW"
      },
      "source": [
        "def voc_rand_crop(feature, label, height, width):\n",
        "  \"\"\"随机裁剪特征和标签图像。\"\"\"\n",
        "  rect = torchvision.transforms.RandomCrop.get_params(feature, (height, width))\n",
        "  feature = torchvision.transforms.functional.crop(feature, *rect)\n",
        "  label = torchvision.transforms.functional.crop(label, *rect)\n",
        "  return feature, label"
      ],
      "execution_count": null,
      "outputs": []
    },
    {
      "cell_type": "code",
      "metadata": {
        "id": "X6-pQeDCS6Fb",
        "colab": {
          "base_uri": "https://localhost:8080/",
          "height": 171
        },
        "outputId": "f47b815b-eac7-45e5-ff04-adf6b997cfcf"
      },
      "source": [
        "imgs = []\n",
        "for _ in range(n):\n",
        "  imgs += voc_rand_crop(train_features[0], train_labels[0], 200, 300)\n",
        "imgs = [img.permute(1, 2, 0) for img in imgs]\n",
        "d2l.show_images(imgs[::2] + imgs[1::2], 2, n);"
      ],
      "execution_count": null,
      "outputs": [
        {
          "output_type": "display_data",
          "data": {
            "image/png": "[encoded data removed]",
            "text/plain": [
              "<Figure size 540x216 with 10 Axes>"
            ]
          },
          "metadata": {
            "needs_background": "light"
          }
        }
      ]
    },
    {
      "cell_type": "code",
      "metadata": {
        "id": "97rkW3jqSHpl"
      },
      "source": [
        "#自定义语义分割数据集类\n",
        "class VOCSegDataset(torch.utils.data.Dataset):\n",
        "    \"\"\"一个用于加载VOC数据集的自定义数据集。\"\"\"\n",
        "\n",
        "    def __init__(self, is_train, crop_size, voc_dir):\n",
        "        self.transform = torchvision.transforms.Normalize(\n",
        "            mean=[0.485, 0.456, 0.406], std=[0.229, 0.224, 0.225])\n",
        "        self.crop_size = crop_size\n",
        "        features, labels = read_voc_images(voc_dir, is_train=is_train)\n",
        "        self.features = [self.normalize_image(feature)\n",
        "                         for feature in self.filter(features)]\n",
        "        self.labels = self.filter(labels)\n",
        "        self.colormap2label = voc_colormap2label()\n",
        "        print('read ' + str(len(self.features)) + ' examples')\n",
        "\n",
        "    def normalize_image(self, img):\n",
        "        return self.transform(img.float())\n",
        "\n",
        "    def filter(self, imgs):\n",
        "        return [img for img in imgs if (\n",
        "            img.shape[1] >= self.crop_size[0] and\n",
        "            img.shape[2] >= self.crop_size[1])]\n",
        "\n",
        "    def __getitem__(self, idx):\n",
        "        feature, label = voc_rand_crop(self.features[idx], self.labels[idx],\n",
        "                                       *self.crop_size)\n",
        "        return (feature, voc_label_indices(label, self.colormap2label))\n",
        "\n",
        "    def __len__(self):\n",
        "        return len(self.features)"
      ],
      "execution_count": null,
      "outputs": []
    },
    {
      "cell_type": "code",
      "metadata": {
        "colab": {
          "base_uri": "https://localhost:8080/"
        },
        "id": "NqHQR5ENSYsn",
        "outputId": "baef8d41-2c5c-40fb-c8b9-441f6efc2928"
      },
      "source": [
        "#读取数据集\n",
        "crop_size = (320, 480)\n",
        "voc_train = VOCSegDataset(True, crop_size, voc_dir)\n",
        "voc_test = VOCSegDataset(False, crop_size, voc_dir)"
      ],
      "execution_count": null,
      "outputs": [
        {
          "output_type": "stream",
          "name": "stdout",
          "text": [
            "read 1114 examples\n",
            "read 1078 examples\n"
          ]
        }
      ]
    },
    {
      "cell_type": "code",
      "metadata": {
        "colab": {
          "base_uri": "https://localhost:8080/"
        },
        "id": "KYmxsOZGTKvc",
        "outputId": "403a020e-9461-4637-927e-e47244955d93"
      },
      "source": [
        "batch_size = 64\n",
        "train_iter = torch.utils.data.DataLoader(voc_train, batch_size, shuffle=True,\n",
        "                                    drop_last=True,\n",
        "                                    num_workers=d2l.get_dataloader_workers())\n",
        "for X, Y in train_iter:\n",
        "    print(X.shape)\n",
        "    print(Y.shape)\n",
        "    break"
      ],
      "execution_count": null,
      "outputs": [
        {
          "output_type": "stream",
          "name": "stderr",
          "text": [
            "/usr/local/lib/python3.7/dist-packages/torch/utils/data/dataloader.py:481: UserWarning: This DataLoader will create 4 worker processes in total. Our suggested max number of worker in current system is 2, which is smaller than what this DataLoader is going to create. Please be aware that excessive worker creation might get DataLoader running slow or even freeze, lower the worker number to avoid potential slowness/freeze if necessary.\n",
            "  cpuset_checked))\n"
          ]
        },
        {
          "output_type": "stream",
          "name": "stdout",
          "text": [
            "torch.Size([64, 3, 320, 480])\n",
            "torch.Size([64, 320, 480])\n"
          ]
        }
      ]
    },
    {
      "cell_type": "code",
      "metadata": {
        "id": "0Pp4dRCKTNP8"
      },
      "source": [
        "#整合所有组件\n",
        "def load_data_voc(batch_size, crop_size):\n",
        "    \"\"\"加载VOC语义分割数据集。\"\"\"\n",
        "    voc_dir = d2l.download_extract('voc2012', os.path.join(\n",
        "        'VOCdevkit', 'VOC2012'))\n",
        "    num_workers = d2l.get_dataloader_workers()\n",
        "    train_iter = torch.utils.data.DataLoader(\n",
        "        VOCSegDataset(True, crop_size, voc_dir), batch_size,\n",
        "        shuffle=True, drop_last=True, num_workers=num_workers)\n",
        "    test_iter = torch.utils.data.DataLoader(\n",
        "        VOCSegDataset(False, crop_size, voc_dir), batch_size,\n",
        "        drop_last=True, num_workers=num_workers)\n",
        "    return train_iter, test_iter"
      ],
      "execution_count": null,
      "outputs": []
    },
    {
      "cell_type": "markdown",
      "metadata": {
        "id": "aTiVvLcAT6uk"
      },
      "source": [
        "##小结\n",
        "\n",
        "* 语义分割通过将图像划分为属于不同语义类别的区域，来识别并理解图像中像素级别的内容。\n",
        "* 语义分割的一个重要的数据集叫做Pascal VOC2012。\n",
        "* 由于语义分割的输入图像和标签在像素上一一对应，输入图像会被随机裁剪为固定尺寸而不是缩放。"
      ]
    },
    {
      "cell_type": "markdown",
      "metadata": {
        "id": "9cp3HkKO7gJV"
      },
      "source": [
        "#转置卷积\n",
        "\n",
        "&emsp;&emsp;由于之前的卷积层和汇聚层，都是下采样，减少输入图像的空间维度，那有没有一种办法来扭转下采样导致的空间尺寸减小？那就是**转置卷积**\n",
        "\n",
        "> 转置卷积是一种卷积\n",
        "* 它将输入和核进行了重新排列\n",
        "* 同卷积一般是做下采样，它通常用作上采样\n",
        "* 如果卷积将输入从(h,w)变成了(h',w')，同超参数下它将(h',w')变成(h,w)\n",
        "\n",
        "![](http://pan.anderd.com/download/6167976b7e1b65005937fdbd)"
      ]
    },
    {
      "cell_type": "code",
      "metadata": {
        "colab": {
          "base_uri": "https://localhost:8080/"
        },
        "id": "aEPIfQaiz6u7",
        "outputId": "bea3445d-5e1c-4aae-b69d-57e011dbb32b"
      },
      "source": [
        "!pip install -U d2l"
      ],
      "execution_count": 1,
      "outputs": [
        {
          "output_type": "stream",
          "name": "stdout",
          "text": [
            "Collecting d2l\n",
            "  Downloading d2l-0.17.0-py3-none-any.whl (83 kB)\n",
            "\u001b[K     |████████████████████████████████| 83 kB 1.2 MB/s \n",
            "\u001b[?25hRequirement already satisfied: pandas in /usr/local/lib/python3.7/dist-packages (from d2l) (1.1.5)\n",
            "Requirement already satisfied: numpy in /usr/local/lib/python3.7/dist-packages (from d2l) (1.19.5)\n",
            "Requirement already satisfied: jupyter in /usr/local/lib/python3.7/dist-packages (from d2l) (1.0.0)\n",
            "Requirement already satisfied: requests in /usr/local/lib/python3.7/dist-packages (from d2l) (2.23.0)\n",
            "Requirement already satisfied: matplotlib in /usr/local/lib/python3.7/dist-packages (from d2l) (3.2.2)\n",
            "Requirement already satisfied: ipykernel in /usr/local/lib/python3.7/dist-packages (from jupyter->d2l) (4.10.1)\n",
            "Requirement already satisfied: ipywidgets in /usr/local/lib/python3.7/dist-packages (from jupyter->d2l) (7.6.5)\n",
            "Requirement already satisfied: nbconvert in /usr/local/lib/python3.7/dist-packages (from jupyter->d2l) (5.6.1)\n",
            "Requirement already satisfied: notebook in /usr/local/lib/python3.7/dist-packages (from jupyter->d2l) (5.3.1)\n",
            "Requirement already satisfied: jupyter-console in /usr/local/lib/python3.7/dist-packages (from jupyter->d2l) (5.2.0)\n",
            "Requirement already satisfied: qtconsole in /usr/local/lib/python3.7/dist-packages (from jupyter->d2l) (5.1.1)\n",
            "Requirement already satisfied: jupyter-client in /usr/local/lib/python3.7/dist-packages (from ipykernel->jupyter->d2l) (5.3.5)\n",
            "Requirement already satisfied: traitlets>=4.1.0 in /usr/local/lib/python3.7/dist-packages (from ipykernel->jupyter->d2l) (5.1.0)\n",
            "Requirement already satisfied: ipython>=4.0.0 in /usr/local/lib/python3.7/dist-packages (from ipykernel->jupyter->d2l) (5.5.0)\n",
            "Requirement already satisfied: tornado>=4.0 in /usr/local/lib/python3.7/dist-packages (from ipykernel->jupyter->d2l) (5.1.1)\n",
            "Requirement already satisfied: pickleshare in /usr/local/lib/python3.7/dist-packages (from ipython>=4.0.0->ipykernel->jupyter->d2l) (0.7.5)\n",
            "Requirement already satisfied: setuptools>=18.5 in /usr/local/lib/python3.7/dist-packages (from ipython>=4.0.0->ipykernel->jupyter->d2l) (57.4.0)\n",
            "Requirement already satisfied: simplegeneric>0.8 in /usr/local/lib/python3.7/dist-packages (from ipython>=4.0.0->ipykernel->jupyter->d2l) (0.8.1)\n",
            "Requirement already satisfied: prompt-toolkit<2.0.0,>=1.0.4 in /usr/local/lib/python3.7/dist-packages (from ipython>=4.0.0->ipykernel->jupyter->d2l) (1.0.18)\n",
            "Requirement already satisfied: decorator in /usr/local/lib/python3.7/dist-packages (from ipython>=4.0.0->ipykernel->jupyter->d2l) (4.4.2)\n",
            "Requirement already satisfied: pexpect in /usr/local/lib/python3.7/dist-packages (from ipython>=4.0.0->ipykernel->jupyter->d2l) (4.8.0)\n",
            "Requirement already satisfied: pygments in /usr/local/lib/python3.7/dist-packages (from ipython>=4.0.0->ipykernel->jupyter->d2l) (2.6.1)\n",
            "Requirement already satisfied: six>=1.9.0 in /usr/local/lib/python3.7/dist-packages (from prompt-toolkit<2.0.0,>=1.0.4->ipython>=4.0.0->ipykernel->jupyter->d2l) (1.15.0)\n",
            "Requirement already satisfied: wcwidth in /usr/local/lib/python3.7/dist-packages (from prompt-toolkit<2.0.0,>=1.0.4->ipython>=4.0.0->ipykernel->jupyter->d2l) (0.2.5)\n",
            "Requirement already satisfied: nbformat>=4.2.0 in /usr/local/lib/python3.7/dist-packages (from ipywidgets->jupyter->d2l) (5.1.3)\n",
            "Requirement already satisfied: ipython-genutils~=0.2.0 in /usr/local/lib/python3.7/dist-packages (from ipywidgets->jupyter->d2l) (0.2.0)\n",
            "Requirement already satisfied: jupyterlab-widgets>=1.0.0 in /usr/local/lib/python3.7/dist-packages (from ipywidgets->jupyter->d2l) (1.0.2)\n",
            "Requirement already satisfied: widgetsnbextension~=3.5.0 in /usr/local/lib/python3.7/dist-packages (from ipywidgets->jupyter->d2l) (3.5.1)\n",
            "Requirement already satisfied: jsonschema!=2.5.0,>=2.4 in /usr/local/lib/python3.7/dist-packages (from nbformat>=4.2.0->ipywidgets->jupyter->d2l) (2.6.0)\n",
            "Requirement already satisfied: jupyter-core in /usr/local/lib/python3.7/dist-packages (from nbformat>=4.2.0->ipywidgets->jupyter->d2l) (4.8.1)\n",
            "Requirement already satisfied: Send2Trash in /usr/local/lib/python3.7/dist-packages (from notebook->jupyter->d2l) (1.8.0)\n",
            "Requirement already satisfied: jinja2 in /usr/local/lib/python3.7/dist-packages (from notebook->jupyter->d2l) (2.11.3)\n",
            "Requirement already satisfied: terminado>=0.8.1 in /usr/local/lib/python3.7/dist-packages (from notebook->jupyter->d2l) (0.12.1)\n",
            "Requirement already satisfied: pyzmq>=13 in /usr/local/lib/python3.7/dist-packages (from jupyter-client->ipykernel->jupyter->d2l) (22.3.0)\n",
            "Requirement already satisfied: python-dateutil>=2.1 in /usr/local/lib/python3.7/dist-packages (from jupyter-client->ipykernel->jupyter->d2l) (2.8.2)\n",
            "Requirement already satisfied: ptyprocess in /usr/local/lib/python3.7/dist-packages (from terminado>=0.8.1->notebook->jupyter->d2l) (0.7.0)\n",
            "Requirement already satisfied: MarkupSafe>=0.23 in /usr/local/lib/python3.7/dist-packages (from jinja2->notebook->jupyter->d2l) (2.0.1)\n",
            "Requirement already satisfied: kiwisolver>=1.0.1 in /usr/local/lib/python3.7/dist-packages (from matplotlib->d2l) (1.3.2)\n",
            "Requirement already satisfied: pyparsing!=2.0.4,!=2.1.2,!=2.1.6,>=2.0.1 in /usr/local/lib/python3.7/dist-packages (from matplotlib->d2l) (2.4.7)\n",
            "Requirement already satisfied: cycler>=0.10 in /usr/local/lib/python3.7/dist-packages (from matplotlib->d2l) (0.10.0)\n",
            "Requirement already satisfied: mistune<2,>=0.8.1 in /usr/local/lib/python3.7/dist-packages (from nbconvert->jupyter->d2l) (0.8.4)\n",
            "Requirement already satisfied: entrypoints>=0.2.2 in /usr/local/lib/python3.7/dist-packages (from nbconvert->jupyter->d2l) (0.3)\n",
            "Requirement already satisfied: bleach in /usr/local/lib/python3.7/dist-packages (from nbconvert->jupyter->d2l) (4.1.0)\n",
            "Requirement already satisfied: testpath in /usr/local/lib/python3.7/dist-packages (from nbconvert->jupyter->d2l) (0.5.0)\n",
            "Requirement already satisfied: defusedxml in /usr/local/lib/python3.7/dist-packages (from nbconvert->jupyter->d2l) (0.7.1)\n",
            "Requirement already satisfied: pandocfilters>=1.4.1 in /usr/local/lib/python3.7/dist-packages (from nbconvert->jupyter->d2l) (1.5.0)\n",
            "Requirement already satisfied: packaging in /usr/local/lib/python3.7/dist-packages (from bleach->nbconvert->jupyter->d2l) (21.0)\n",
            "Requirement already satisfied: webencodings in /usr/local/lib/python3.7/dist-packages (from bleach->nbconvert->jupyter->d2l) (0.5.1)\n",
            "Requirement already satisfied: pytz>=2017.2 in /usr/local/lib/python3.7/dist-packages (from pandas->d2l) (2018.9)\n",
            "Requirement already satisfied: qtpy in /usr/local/lib/python3.7/dist-packages (from qtconsole->jupyter->d2l) (1.11.2)\n",
            "Requirement already satisfied: urllib3!=1.25.0,!=1.25.1,<1.26,>=1.21.1 in /usr/local/lib/python3.7/dist-packages (from requests->d2l) (1.24.3)\n",
            "Requirement already satisfied: idna<3,>=2.5 in /usr/local/lib/python3.7/dist-packages (from requests->d2l) (2.10)\n",
            "Requirement already satisfied: certifi>=2017.4.17 in /usr/local/lib/python3.7/dist-packages (from requests->d2l) (2021.5.30)\n",
            "Requirement already satisfied: chardet<4,>=3.0.2 in /usr/local/lib/python3.7/dist-packages (from requests->d2l) (3.0.4)\n",
            "Installing collected packages: d2l\n",
            "Successfully installed d2l-0.17.0\n"
          ]
        }
      ]
    },
    {
      "cell_type": "code",
      "metadata": {
        "id": "hmrcPrD78Q2k"
      },
      "source": [
        "import torch\n",
        "from torch import nn\n",
        "from d2l import torch as d2l"
      ],
      "execution_count": 2,
      "outputs": []
    },
    {
      "cell_type": "markdown",
      "metadata": {
        "id": "gwumb0r58jiA"
      },
      "source": [
        "#基本操作\n",
        "![转置卷积](http://pan.anderd.com/download/6166a4c10141ac0059b2e6a9)\n",
        "\n"
      ]
    },
    {
      "cell_type": "code",
      "metadata": {
        "id": "qgErtSLC9kAs"
      },
      "source": [
        "def trans_conv(X,K):\n",
        "  h,w = K.shape\n",
        "  Y = torch.zeros((X.shape[0] + h - 1,X.shape[1] + w - 1))#结果矩阵初始化0\n",
        "  for i in range(Y.shape[0]-1):\n",
        "    for j in range(Y.shape[1]-1):\n",
        "      Y[i:i+h,j:j+w] += X[i,j] * K#这里通过卷积核广播输入元素，从而产生大于输如的输出\n",
        "  return Y"
      ],
      "execution_count": null,
      "outputs": []
    },
    {
      "cell_type": "code",
      "metadata": {
        "colab": {
          "base_uri": "https://localhost:8080/"
        },
        "id": "SubNOnaS_uxG",
        "outputId": "cf645e9b-21a7-4ee1-f8c5-facc0d92fdb1"
      },
      "source": [
        "X = torch.tensor([[0.0,1.0],[2.0,3.0]])\n",
        "K = torch.tensor([[0.0,1.0],[2.0,3.0]])\n",
        "trans_conv(X,K)"
      ],
      "execution_count": null,
      "outputs": [
        {
          "output_type": "execute_result",
          "data": {
            "text/plain": [
              "tensor([[ 0.,  0.,  1.],\n",
              "        [ 0.,  4.,  6.],\n",
              "        [ 4., 12.,  9.]])"
            ]
          },
          "metadata": {},
          "execution_count": 7
        }
      ]
    },
    {
      "cell_type": "code",
      "metadata": {
        "colab": {
          "base_uri": "https://localhost:8080/"
        },
        "id": "nUCOlaQEAGsV",
        "outputId": "dbfe85ac-5683-43e1-fd89-513cba57dcd5"
      },
      "source": [
        "#当输入室四维是可以用api\n",
        "X,K = X.reshape(1,1,2,2),K.reshape(1,1,2,2)\n",
        "tconv = nn.ConvTranspose2d(1,1,kernel_size=2,bias=False)\n",
        "tconv.weight.data = K\n",
        "tconv(X)"
      ],
      "execution_count": null,
      "outputs": [
        {
          "output_type": "execute_result",
          "data": {
            "text/plain": [
              "tensor([[[[ 0.,  0.,  1.],\n",
              "          [ 0.,  4.,  6.],\n",
              "          [ 4., 12.,  9.]]]], grad_fn=<SlowConvTranspose2DBackward>)"
            ]
          },
          "metadata": {},
          "execution_count": 4
        }
      ]
    },
    {
      "cell_type": "markdown",
      "metadata": {
        "id": "Q1Ylyko8B8_8"
      },
      "source": [
        "## 填充，步幅，多通道\n",
        "\n",
        "&emsp;&emsp;与常规卷积不同，在转置卷积中，填充被应⽤于输出（常规卷积将填充应⽤于输⼊）。例如，当将⾼和宽两侧的填充数指定为1时，转置卷积的输出中将删除第⼀和最后的⾏与列。"
      ]
    },
    {
      "cell_type": "code",
      "metadata": {
        "colab": {
          "base_uri": "https://localhost:8080/"
        },
        "id": "FYdYHmwZCQYk",
        "outputId": "a7d7ff1d-c57a-43b8-ef40-f3f2fc5d0cb9"
      },
      "source": [
        "tconv = nn.ConvTranspose2d(1,1,kernel_size=2,padding=1,bias=False)\n",
        "tconv.weight.data = K\n",
        "tconv(X)"
      ],
      "execution_count": null,
      "outputs": [
        {
          "output_type": "execute_result",
          "data": {
            "text/plain": [
              "tensor([[[[4.]]]], grad_fn=<SlowConvTranspose2DBackward>)"
            ]
          },
          "metadata": {},
          "execution_count": 9
        }
      ]
    },
    {
      "cell_type": "markdown",
      "metadata": {
        "id": "6WWd_J6QCkyI"
      },
      "source": [
        "&emsp;&emsp;在转置卷积中，步幅被指定为中间结果（输出），而不是输⼊。可能会增加高和权重。\n",
        "![步幅](http://pan.anderd.com/download/6166ab30cc52c6005925ceca)"
      ]
    },
    {
      "cell_type": "code",
      "metadata": {
        "colab": {
          "base_uri": "https://localhost:8080/"
        },
        "id": "AZESXNjuDmgO",
        "outputId": "8b0589f0-0dde-447e-fda0-9f24a91290b0"
      },
      "source": [
        "tconv = nn.ConvTranspose2d(1,1,kernel_size=2,stride=2,bias=False)\n",
        "tconv.weight.data = K\n",
        "tconv(X)"
      ],
      "execution_count": null,
      "outputs": [
        {
          "output_type": "execute_result",
          "data": {
            "text/plain": [
              "tensor([[[[0., 0., 0., 1.],\n",
              "          [0., 0., 2., 3.],\n",
              "          [0., 2., 0., 3.],\n",
              "          [4., 6., 6., 9.]]]], grad_fn=<SlowConvTranspose2DBackward>)"
            ]
          },
          "metadata": {},
          "execution_count": 10
        }
      ]
    },
    {
      "cell_type": "markdown",
      "metadata": {
        "id": "ECEAS0TtD2Fl"
      },
      "source": [
        "&emsp;&emsp;对于多个输⼊和输出通道，转置卷积与常规卷积以相同⽅式运作。"
      ]
    },
    {
      "cell_type": "code",
      "metadata": {
        "colab": {
          "base_uri": "https://localhost:8080/"
        },
        "id": "xOQVEdbZDzBE",
        "outputId": "4f9bf96d-14a9-45a1-ca72-dc0e8badaca5"
      },
      "source": [
        "X = torch.rand(size=(1, 10, 16, 16))\n",
        "conv = nn.Conv2d(10, 20, kernel_size=5, padding=2, stride=3)\n",
        "tconv = nn.ConvTranspose2d(20, 10, kernel_size=5, padding=2, stride=3)\n",
        "tconv(conv(X)).shape == X.shape"
      ],
      "execution_count": null,
      "outputs": [
        {
          "output_type": "execute_result",
          "data": {
            "text/plain": [
              "True"
            ]
          },
          "metadata": {},
          "execution_count": 16
        }
      ]
    },
    {
      "cell_type": "markdown",
      "metadata": {
        "id": "kgVytggMFzOU"
      },
      "source": [
        "##与矩阵变换的联系"
      ]
    },
    {
      "cell_type": "code",
      "metadata": {
        "colab": {
          "base_uri": "https://localhost:8080/"
        },
        "id": "SrOi67a5GAT0",
        "outputId": "7fa27d6e-cf24-45bd-a97c-749d59f08cac"
      },
      "source": [
        "X = torch.arange(9.0).reshape(3, 3)#使⽤矩阵乘法来实现卷积。\n",
        "K = torch.tensor([[1.0, 2.0], [3.0, 4.0]])\n",
        "Y = d2l.corr2d(X, K)\n",
        "Y"
      ],
      "execution_count": null,
      "outputs": [
        {
          "output_type": "execute_result",
          "data": {
            "text/plain": [
              "tensor([[27., 37.],\n",
              "        [57., 67.]])"
            ]
          },
          "metadata": {},
          "execution_count": 17
        }
      ]
    },
    {
      "cell_type": "code",
      "metadata": {
        "colab": {
          "base_uri": "https://localhost:8080/"
        },
        "id": "DdXsE01kGUO9",
        "outputId": "ce0131d0-633f-4530-99ed-92c4d5f5263c"
      },
      "source": [
        "def kernel2matrix(K):#将卷积核K重写为包含⼤量0的稀疏权重矩阵W。权重矩阵的形状是（4，9），其中⾮0元素来⾃卷积核K。\n",
        "  k, W = torch.zeros(5), torch.zeros((4, 9))\n",
        "  k[:2], k[3:5] = K[0, :], K[1, :]\n",
        "  W[0, :5], W[1, 1:6], W[2, 3:8], W[3, 4:] = k, k, k, k\n",
        "  return W\n",
        "W = kernel2matrix(K)\n",
        "W"
      ],
      "execution_count": null,
      "outputs": [
        {
          "output_type": "execute_result",
          "data": {
            "text/plain": [
              "tensor([[1., 2., 0., 3., 4., 0., 0., 0., 0.],\n",
              "        [0., 1., 2., 0., 3., 4., 0., 0., 0.],\n",
              "        [0., 0., 0., 1., 2., 0., 3., 4., 0.],\n",
              "        [0., 0., 0., 0., 1., 2., 0., 3., 4.]])"
            ]
          },
          "metadata": {},
          "execution_count": 18
        }
      ]
    },
    {
      "cell_type": "markdown",
      "metadata": {
        "id": "sVprQepxG5j0"
      },
      "source": [
        "&emsp;&emsp;逐⾏连接输⼊X，获得了⼀个⻓度为9的⽮量。然后，W的矩阵乘法和向量化的X给出了⼀个⻓度为4的向量。重塑它之后，可以获得与上⾯的原始卷积操作所得相同的结果Y：我们刚刚使⽤矩阵乘法实现了卷积。"
      ]
    },
    {
      "cell_type": "code",
      "metadata": {
        "colab": {
          "base_uri": "https://localhost:8080/"
        },
        "id": "XTl87kqwGdr8",
        "outputId": "7aaa5a48-e649-4906-cb4c-86a468505344"
      },
      "source": [
        "Y == torch.matmul(W, X.reshape(-1)).reshape(2, 2)"
      ],
      "execution_count": null,
      "outputs": [
        {
          "output_type": "execute_result",
          "data": {
            "text/plain": [
              "tensor([[True, True],\n",
              "        [True, True]])"
            ]
          },
          "metadata": {},
          "execution_count": 19
        }
      ]
    },
    {
      "cell_type": "code",
      "metadata": {
        "colab": {
          "base_uri": "https://localhost:8080/"
        },
        "id": "gE-b0G2bHHI0",
        "outputId": "c0ecf988-8121-492d-c9e4-6812733ae888"
      },
      "source": [
        "#使⽤矩阵乘法来实现转置卷积\n",
        "Z = trans_conv(Y, K)\n",
        "Z == torch.matmul(W.T, Y.reshape(-1)).reshape(3, 3)"
      ],
      "execution_count": null,
      "outputs": [
        {
          "output_type": "execute_result",
          "data": {
            "text/plain": [
              "tensor([[True, True, True],\n",
              "        [True, True, True],\n",
              "        [True, True, True]])"
            ]
          },
          "metadata": {},
          "execution_count": 20
        }
      ]
    },
    {
      "cell_type": "markdown",
      "metadata": {
        "id": "3Pm2_lTmHNc0"
      },
      "source": [
        "##小结\n",
        "* 与通过卷积核减少输⼊元素的常规卷积相反，转置卷积通过卷积核⼴播输⼊元素，从而产⽣形状⼤于输⼊的输出。\n",
        "* 如果我们将 X 输⼊卷积层 f 来获得输出 Y = f(X) 并创造⼀个与 f 有相同的超参数、但输出通道数是 X中通道数的转置卷积层 g，那么 g(Y ) 的形状将与 X 相同。\n",
        "* 我们可以使⽤矩阵乘法来实现卷积。转置卷积层能够交换卷积层的正向传播函数和反向传播函数。"
      ]
    },
    {
      "cell_type": "markdown",
      "metadata": {
        "id": "lTxRq4kHr5rK"
      },
      "source": [
        "#全卷积网络（FCN）\n",
        "&emsp;&emsp;全卷积神经网络实现了从图像到像素类别的变换，全卷积网络将中间特征层的高和宽恢复到输入图像的尺寸，是通过最后的转置卷积实现的。所以，输出类别预测与输入图像在像素级别上具有一一对应的关系。给定空间维上的位置，通道维的输出即该位置对应像素的类别预测。\n"
      ]
    },
    {
      "cell_type": "markdown",
      "metadata": {
        "id": "6Cq5VD-S0hKC"
      },
      "source": [
        "![FCN](http://pan.anderd.com/download/6167a23c3a3b95005900f693)"
      ]
    },
    {
      "cell_type": "code",
      "metadata": {
        "id": "wsQ-sQUOs0fz"
      },
      "source": [
        "%matplotlib inline\n",
        "import torch\n",
        "import torchvision\n",
        "from torch import nn\n",
        "from torch.nn import functional as F\n",
        "from d2l import torch as d2l"
      ],
      "execution_count": 2,
      "outputs": []
    },
    {
      "cell_type": "code",
      "metadata": {
        "colab": {
          "base_uri": "https://localhost:8080/",
          "height": 474,
          "referenced_widgets": [
            "910efaa9e9cb4111ab44842e6bf35234",
            "ea26687e81f3420086053052c9295af1",
            "ebb565cd45b642e79cbc676e55c08164",
            "b43eaf5ef97d4be89cbebe1e8d8c0e2b",
            "4d0caa118fc9481dbd0656f88ce9a92a",
            "8b735f6221534ef58cdd483b6f6989f4",
            "2e86f96d2bea45d780271aeb27ef10d2",
            "b305ac0ce14944c0be759632f3dedbcc",
            "49196a3718e243fc977dd64a27ba1b58",
            "06717b95a85c41a0a5ccae70b94205b5",
            "69e67ec462b04e63b9834e29ed87496b"
          ]
        },
        "id": "rMmzGCAz0KtM",
        "outputId": "1f1db276-157f-4c6e-e808-0301955c4d7c"
      },
      "source": [
        "#模型构造\n",
        "pretrained_net = torchvision.models.resnet18(pretrained=True)\n",
        "list(pretrained_net.children())[-3:]"
      ],
      "execution_count": 3,
      "outputs": [
        {
          "output_type": "stream",
          "name": "stderr",
          "text": [
            "Downloading: \"https://download.pytorch.org/models/resnet18-f37072fd.pth\" to /root/.cache/torch/hub/checkpoints/resnet18-f37072fd.pth\n"
          ]
        },
        {
          "output_type": "display_data",
          "data": {
            "application/vnd.jupyter.widget-view+json": {
              "model_id": "910efaa9e9cb4111ab44842e6bf35234",
              "version_minor": 0,
              "version_major": 2
            },
            "text/plain": [
              "  0%|          | 0.00/44.7M [00:00<?, ?B/s]"
            ]
          },
          "metadata": {}
        },
        {
          "output_type": "execute_result",
          "data": {
            "text/plain": [
              "[Sequential(\n",
              "   (0): BasicBlock(\n",
              "     (conv1): Conv2d(256, 512, kernel_size=(3, 3), stride=(2, 2), padding=(1, 1), bias=False)\n",
              "     (bn1): BatchNorm2d(512, eps=1e-05, momentum=0.1, affine=True, track_running_stats=True)\n",
              "     (relu): ReLU(inplace=True)\n",
              "     (conv2): Conv2d(512, 512, kernel_size=(3, 3), stride=(1, 1), padding=(1, 1), bias=False)\n",
              "     (bn2): BatchNorm2d(512, eps=1e-05, momentum=0.1, affine=True, track_running_stats=True)\n",
              "     (downsample): Sequential(\n",
              "       (0): Conv2d(256, 512, kernel_size=(1, 1), stride=(2, 2), bias=False)\n",
              "       (1): BatchNorm2d(512, eps=1e-05, momentum=0.1, affine=True, track_running_stats=True)\n",
              "     )\n",
              "   )\n",
              "   (1): BasicBlock(\n",
              "     (conv1): Conv2d(512, 512, kernel_size=(3, 3), stride=(1, 1), padding=(1, 1), bias=False)\n",
              "     (bn1): BatchNorm2d(512, eps=1e-05, momentum=0.1, affine=True, track_running_stats=True)\n",
              "     (relu): ReLU(inplace=True)\n",
              "     (conv2): Conv2d(512, 512, kernel_size=(3, 3), stride=(1, 1), padding=(1, 1), bias=False)\n",
              "     (bn2): BatchNorm2d(512, eps=1e-05, momentum=0.1, affine=True, track_running_stats=True)\n",
              "   )\n",
              " ),\n",
              " AdaptiveAvgPool2d(output_size=(1, 1)),\n",
              " Linear(in_features=512, out_features=1000, bias=True)]"
            ]
          },
          "metadata": {},
          "execution_count": 3
        }
      ]
    },
    {
      "cell_type": "code",
      "metadata": {
        "colab": {
          "base_uri": "https://localhost:8080/"
        },
        "id": "afheL01TBetz",
        "outputId": "6ecb2a8c-f072-457b-92c2-0673ed0e977f"
      },
      "source": [
        "net = nn.Sequential(*list(pretrained_net.children())[:-2])#复制了Resnet18中的预训练层，但除去了最终的全局平均汇聚层和最接近输出的全连接层\n",
        "X = torch.rand(size=(1,3,320,480))\n",
        "net(X).shape"
      ],
      "execution_count": 4,
      "outputs": [
        {
          "output_type": "stream",
          "name": "stderr",
          "text": [
            "/usr/local/lib/python3.7/dist-packages/torch/nn/functional.py:718: UserWarning: Named tensors and all their associated APIs are an experimental feature and subject to change. Please do not use them for anything important until they are released as stable. (Triggered internally at  /pytorch/c10/core/TensorImpl.h:1156.)\n",
            "  return torch.max_pool2d(input, kernel_size, stride, padding, dilation, ceil_mode)\n"
          ]
        },
        {
          "output_type": "execute_result",
          "data": {
            "text/plain": [
              "torch.Size([1, 512, 10, 15])"
            ]
          },
          "metadata": {},
          "execution_count": 4
        }
      ]
    },
    {
      "cell_type": "code",
      "metadata": {
        "id": "O7tNAZDrCVGp"
      },
      "source": [
        "num_classes = 21\n",
        "net.add_module('final_conv',nn.Conv2d(512,num_classes,kernel_size=1))#使⽤1 × 1卷积层将输出通道数转换为Pascal VOC2012数据集的类数（21类）\n",
        "net.add_module('transpose_conv',nn.ConvTranspose2d(num_classes,num_classes,\n",
        "                        kernel_size=64,padding=16,stride=32))#将要素地图的⾼度和宽度增加32倍，从而将其变回输⼊图像的⾼和宽。"
      ],
      "execution_count": 5,
      "outputs": []
    },
    {
      "cell_type": "markdown",
      "metadata": {
        "id": "JYKsiI5zgywk"
      },
      "source": [
        "> 步幅为s，填充为$\\frac{s}{2}$,且卷积核的高和宽为2s，转置卷积核会将输入的高和宽分别放大s倍"
      ]
    },
    {
      "cell_type": "code",
      "metadata": {
        "id": "TadjWBQ_hPqe"
      },
      "source": [
        "#初始化转置卷积层，双线性插值是常用的上采样方法\n",
        "\n",
        "def bilinear_kernel(in_channels,out_channels,kernel_size):\n",
        "  factor = (kernel_size + 1) // 2\n",
        "  if kernel_size % 2 == 1:\n",
        "    center = factor - 1\n",
        "  else:\n",
        "    center = factor - 0.5\n",
        "  og = (torch.arange(kernel_size).reshape(-1,1),torch.arange(kernel_size).reshape(1,-1))\n",
        "  filt = (1 - torch.abs(og[0] - center) / factor) * (1 - torch.abs(og[1] - center) / factor)\n",
        "  weight = torch.zeros((in_channels,out_channels,kernel_size,kernel_size))\n",
        "  weight[range(in_channels),range(out_channels),:,:] = filt\n",
        "  return weight"
      ],
      "execution_count": 6,
      "outputs": []
    },
    {
      "cell_type": "code",
      "metadata": {
        "id": "oKuwjL3ujeP2"
      },
      "source": [
        "#实现用双线性插值初始化转置卷积weight\n",
        "conv_trans = nn.ConvTranspose2d(3,3,kernel_size=4,padding=1,stride=2,bias=False)\n",
        "conv_trans.weight.data.copy_(bilinear_kernel(3,3,4));"
      ],
      "execution_count": 7,
      "outputs": []
    },
    {
      "cell_type": "code",
      "metadata": {
        "colab": {
          "base_uri": "https://localhost:8080/",
          "height": 285
        },
        "id": "2X7ZFhiAkRPv",
        "outputId": "825c1d43-bd59-44d8-d791-139b0f6a97db"
      },
      "source": [
        "#测试上采样\n",
        "img = torchvision.transforms.ToTensor()(d2l.Image.open('/home/catdog.png'))\n",
        "X = img.unsqueeze(0)\n",
        "Y = conv_trans(X)\n",
        "out_img = Y[0].permute(1,2,0).detach()\n",
        "\n",
        "d2l.set_figsize()\n",
        "print('input image shape:',img.permute(1,2,0).shape)\n",
        "d2l.plt.imshow(img.permute(1,2,0));\n",
        "print('output image shape:',out_img.shape)\n",
        "d2l.plt.imshow(out_img);\n",
        "#双线性插值放⼤的图像原图看上去没什么两样。"
      ],
      "execution_count": 10,
      "outputs": [
        {
          "output_type": "stream",
          "name": "stdout",
          "text": [
            "input image shape: torch.Size([336, 440, 3])\n",
            "output image shape: torch.Size([672, 880, 3])\n"
          ]
        },
        {
          "output_type": "display_data",
          "data": {
            "text/plain": [
              "<Figure size 252x180 with 1 Axes>"
            ],
            "image/svg+xml": "<?xml version=\"1.0\" encoding=\"utf-8\" standalone=\"no\"?>\n<!DOCTYPE svg PUBLIC \"-//W3C//DTD SVG 1.1//EN\"\n  \"http://www.w3.org/Graphics/SVG/1.1/DTD/svg11.dtd\">\n<!-- Created with matplotlib (https://matplotlib.org/) -->\n<svg height=\"170.676228pt\" version=\"1.1\" viewBox=\"0 0 218.451786 170.676228\" width=\"218.451786pt\" xmlns=\"http://www.w3.org/2000/svg\" xmlns:xlink=\"http://www.w3.org/1999/xlink\">\n <defs>\n  <style type=\"text/css\">\n*{stroke-linecap:butt;stroke-linejoin:round;}\n  </style>\n </defs>\n <g id=\"figure_1\">\n  <g id=\"patch_1\">\n   <path d=\"M 0 170.676228 \nL 218.451786 170.676228 \nL 218.451786 0 \nL 0 0 \nz\n\" style=\"fill:none;\"/>\n  </g>\n  <g id=\"axes_1\">\n   <g id=\"patch_2\">\n    <path d=\"M 33.2875 146.798103 \nL 211.251786 146.798103 \nL 211.251786 10.898103 \nL 33.2875 10.898103 \nz\n\" style=\"fill:#ffffff;\"/>\n   </g>\n   <g clip-path=\"url(#pb504ddff41)\">\n    <image height=\"136\" id=\"image1e5257ff91\" transform=\"scale(1 -1)translate(0 -136)\" width=\"178\" x=\"33\" xlink:href=\"data:image/png;base64,\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\" y=\"-10.676228\"/>\n   </g>\n   <g id=\"matplotlib.axis_1\">\n    <g id=\"xtick_1\">\n     <g id=\"line2d_1\">\n      <defs>\n       <path d=\"M 0 0 \nL 0 3.5 \n\" id=\"m510ab8a583\" style=\"stroke:#000000;stroke-width:0.8;\"/>\n      </defs>\n      <g>\n       <use style=\"stroke:#000000;stroke-width:0.8;\" x=\"33.388616\" xlink:href=\"#m510ab8a583\" y=\"146.798103\"/>\n      </g>\n     </g>\n     <g id=\"text_1\">\n      <!-- 0 -->\n      <defs>\n       <path d=\"M 31.78125 66.40625 \nQ 24.171875 66.40625 20.328125 58.90625 \nQ 16.5 51.421875 16.5 36.375 \nQ 16.5 21.390625 20.328125 13.890625 \nQ 24.171875 6.390625 31.78125 6.390625 \nQ 39.453125 6.390625 43.28125 13.890625 \nQ 47.125 21.390625 47.125 36.375 \nQ 47.125 51.421875 43.28125 58.90625 \nQ 39.453125 66.40625 31.78125 66.40625 \nz\nM 31.78125 74.21875 \nQ 44.046875 74.21875 50.515625 64.515625 \nQ 56.984375 54.828125 56.984375 36.375 \nQ 56.984375 17.96875 50.515625 8.265625 \nQ 44.046875 -1.421875 31.78125 -1.421875 \nQ 19.53125 -1.421875 13.0625 8.265625 \nQ 6.59375 17.96875 6.59375 36.375 \nQ 6.59375 54.828125 13.0625 64.515625 \nQ 19.53125 74.21875 31.78125 74.21875 \nz\n\" id=\"DejaVuSans-48\"/>\n      </defs>\n      <g transform=\"translate(30.207366 161.39654)scale(0.1 -0.1)\">\n       <use xlink:href=\"#DejaVuSans-48\"/>\n      </g>\n     </g>\n    </g>\n    <g id=\"xtick_2\">\n     <g id=\"line2d_2\">\n      <g>\n       <use style=\"stroke:#000000;stroke-width:0.8;\" x=\"73.835045\" xlink:href=\"#m510ab8a583\" y=\"146.798103\"/>\n      </g>\n     </g>\n     <g id=\"text_2\">\n      <!-- 200 -->\n      <defs>\n       <path d=\"M 19.1875 8.296875 \nL 53.609375 8.296875 \nL 53.609375 0 \nL 7.328125 0 \nL 7.328125 8.296875 \nQ 12.9375 14.109375 22.625 23.890625 \nQ 32.328125 33.6875 34.8125 36.53125 \nQ 39.546875 41.84375 41.421875 45.53125 \nQ 43.3125 49.21875 43.3125 52.78125 \nQ 43.3125 58.59375 39.234375 62.25 \nQ 35.15625 65.921875 28.609375 65.921875 \nQ 23.96875 65.921875 18.8125 64.3125 \nQ 13.671875 62.703125 7.8125 59.421875 \nL 7.8125 69.390625 \nQ 13.765625 71.78125 18.9375 73 \nQ 24.125 74.21875 28.421875 74.21875 \nQ 39.75 74.21875 46.484375 68.546875 \nQ 53.21875 62.890625 53.21875 53.421875 \nQ 53.21875 48.921875 51.53125 44.890625 \nQ 49.859375 40.875 45.40625 35.40625 \nQ 44.1875 33.984375 37.640625 27.21875 \nQ 31.109375 20.453125 19.1875 8.296875 \nz\n\" id=\"DejaVuSans-50\"/>\n      </defs>\n      <g transform=\"translate(64.291295 161.39654)scale(0.1 -0.1)\">\n       <use xlink:href=\"#DejaVuSans-50\"/>\n       <use x=\"63.623047\" xlink:href=\"#DejaVuSans-48\"/>\n       <use x=\"127.246094\" xlink:href=\"#DejaVuSans-48\"/>\n      </g>\n     </g>\n    </g>\n    <g id=\"xtick_3\">\n     <g id=\"line2d_3\">\n      <g>\n       <use style=\"stroke:#000000;stroke-width:0.8;\" x=\"114.281473\" xlink:href=\"#m510ab8a583\" y=\"146.798103\"/>\n      </g>\n     </g>\n     <g id=\"text_3\">\n      <!-- 400 -->\n      <defs>\n       <path d=\"M 37.796875 64.3125 \nL 12.890625 25.390625 \nL 37.796875 25.390625 \nz\nM 35.203125 72.90625 \nL 47.609375 72.90625 \nL 47.609375 25.390625 \nL 58.015625 25.390625 \nL 58.015625 17.1875 \nL 47.609375 17.1875 \nL 47.609375 0 \nL 37.796875 0 \nL 37.796875 17.1875 \nL 4.890625 17.1875 \nL 4.890625 26.703125 \nz\n\" id=\"DejaVuSans-52\"/>\n      </defs>\n      <g transform=\"translate(104.737723 161.39654)scale(0.1 -0.1)\">\n       <use xlink:href=\"#DejaVuSans-52\"/>\n       <use x=\"63.623047\" xlink:href=\"#DejaVuSans-48\"/>\n       <use x=\"127.246094\" xlink:href=\"#DejaVuSans-48\"/>\n      </g>\n     </g>\n    </g>\n    <g id=\"xtick_4\">\n     <g id=\"line2d_4\">\n      <g>\n       <use style=\"stroke:#000000;stroke-width:0.8;\" x=\"154.727902\" xlink:href=\"#m510ab8a583\" y=\"146.798103\"/>\n      </g>\n     </g>\n     <g id=\"text_4\">\n      <!-- 600 -->\n      <defs>\n       <path d=\"M 33.015625 40.375 \nQ 26.375 40.375 22.484375 35.828125 \nQ 18.609375 31.296875 18.609375 23.390625 \nQ 18.609375 15.53125 22.484375 10.953125 \nQ 26.375 6.390625 33.015625 6.390625 \nQ 39.65625 6.390625 43.53125 10.953125 \nQ 47.40625 15.53125 47.40625 23.390625 \nQ 47.40625 31.296875 43.53125 35.828125 \nQ 39.65625 40.375 33.015625 40.375 \nz\nM 52.59375 71.296875 \nL 52.59375 62.3125 \nQ 48.875 64.0625 45.09375 64.984375 \nQ 41.3125 65.921875 37.59375 65.921875 \nQ 27.828125 65.921875 22.671875 59.328125 \nQ 17.53125 52.734375 16.796875 39.40625 \nQ 19.671875 43.65625 24.015625 45.921875 \nQ 28.375 48.1875 33.59375 48.1875 \nQ 44.578125 48.1875 50.953125 41.515625 \nQ 57.328125 34.859375 57.328125 23.390625 \nQ 57.328125 12.15625 50.6875 5.359375 \nQ 44.046875 -1.421875 33.015625 -1.421875 \nQ 20.359375 -1.421875 13.671875 8.265625 \nQ 6.984375 17.96875 6.984375 36.375 \nQ 6.984375 53.65625 15.1875 63.9375 \nQ 23.390625 74.21875 37.203125 74.21875 \nQ 40.921875 74.21875 44.703125 73.484375 \nQ 48.484375 72.75 52.59375 71.296875 \nz\n\" id=\"DejaVuSans-54\"/>\n      </defs>\n      <g transform=\"translate(145.184152 161.39654)scale(0.1 -0.1)\">\n       <use xlink:href=\"#DejaVuSans-54\"/>\n       <use x=\"63.623047\" xlink:href=\"#DejaVuSans-48\"/>\n       <use x=\"127.246094\" xlink:href=\"#DejaVuSans-48\"/>\n      </g>\n     </g>\n    </g>\n    <g id=\"xtick_5\">\n     <g id=\"line2d_5\">\n      <g>\n       <use style=\"stroke:#000000;stroke-width:0.8;\" x=\"195.17433\" xlink:href=\"#m510ab8a583\" y=\"146.798103\"/>\n      </g>\n     </g>\n     <g id=\"text_5\">\n      <!-- 800 -->\n      <defs>\n       <path d=\"M 31.78125 34.625 \nQ 24.75 34.625 20.71875 30.859375 \nQ 16.703125 27.09375 16.703125 20.515625 \nQ 16.703125 13.921875 20.71875 10.15625 \nQ 24.75 6.390625 31.78125 6.390625 \nQ 38.8125 6.390625 42.859375 10.171875 \nQ 46.921875 13.96875 46.921875 20.515625 \nQ 46.921875 27.09375 42.890625 30.859375 \nQ 38.875 34.625 31.78125 34.625 \nz\nM 21.921875 38.8125 \nQ 15.578125 40.375 12.03125 44.71875 \nQ 8.5 49.078125 8.5 55.328125 \nQ 8.5 64.0625 14.71875 69.140625 \nQ 20.953125 74.21875 31.78125 74.21875 \nQ 42.671875 74.21875 48.875 69.140625 \nQ 55.078125 64.0625 55.078125 55.328125 \nQ 55.078125 49.078125 51.53125 44.71875 \nQ 48 40.375 41.703125 38.8125 \nQ 48.828125 37.15625 52.796875 32.3125 \nQ 56.78125 27.484375 56.78125 20.515625 \nQ 56.78125 9.90625 50.3125 4.234375 \nQ 43.84375 -1.421875 31.78125 -1.421875 \nQ 19.734375 -1.421875 13.25 4.234375 \nQ 6.78125 9.90625 6.78125 20.515625 \nQ 6.78125 27.484375 10.78125 32.3125 \nQ 14.796875 37.15625 21.921875 38.8125 \nz\nM 18.3125 54.390625 \nQ 18.3125 48.734375 21.84375 45.5625 \nQ 25.390625 42.390625 31.78125 42.390625 \nQ 38.140625 42.390625 41.71875 45.5625 \nQ 45.3125 48.734375 45.3125 54.390625 \nQ 45.3125 60.0625 41.71875 63.234375 \nQ 38.140625 66.40625 31.78125 66.40625 \nQ 25.390625 66.40625 21.84375 63.234375 \nQ 18.3125 60.0625 18.3125 54.390625 \nz\n\" id=\"DejaVuSans-56\"/>\n      </defs>\n      <g transform=\"translate(185.63058 161.39654)scale(0.1 -0.1)\">\n       <use xlink:href=\"#DejaVuSans-56\"/>\n       <use x=\"63.623047\" xlink:href=\"#DejaVuSans-48\"/>\n       <use x=\"127.246094\" xlink:href=\"#DejaVuSans-48\"/>\n      </g>\n     </g>\n    </g>\n   </g>\n   <g id=\"matplotlib.axis_2\">\n    <g id=\"ytick_1\">\n     <g id=\"line2d_6\">\n      <defs>\n       <path d=\"M 0 0 \nL -3.5 0 \n\" id=\"m1f112596e6\" style=\"stroke:#000000;stroke-width:0.8;\"/>\n      </defs>\n      <g>\n       <use style=\"stroke:#000000;stroke-width:0.8;\" x=\"33.2875\" xlink:href=\"#m1f112596e6\" y=\"10.999219\"/>\n      </g>\n     </g>\n     <g id=\"text_6\">\n      <!-- 0 -->\n      <g transform=\"translate(19.925 14.798437)scale(0.1 -0.1)\">\n       <use xlink:href=\"#DejaVuSans-48\"/>\n      </g>\n     </g>\n    </g>\n    <g id=\"ytick_2\">\n     <g id=\"line2d_7\">\n      <g>\n       <use style=\"stroke:#000000;stroke-width:0.8;\" x=\"33.2875\" xlink:href=\"#m1f112596e6\" y=\"51.445647\"/>\n      </g>\n     </g>\n     <g id=\"text_7\">\n      <!-- 200 -->\n      <g transform=\"translate(7.2 55.244866)scale(0.1 -0.1)\">\n       <use xlink:href=\"#DejaVuSans-50\"/>\n       <use x=\"63.623047\" xlink:href=\"#DejaVuSans-48\"/>\n       <use x=\"127.246094\" xlink:href=\"#DejaVuSans-48\"/>\n      </g>\n     </g>\n    </g>\n    <g id=\"ytick_3\">\n     <g id=\"line2d_8\">\n      <g>\n       <use style=\"stroke:#000000;stroke-width:0.8;\" x=\"33.2875\" xlink:href=\"#m1f112596e6\" y=\"91.892076\"/>\n      </g>\n     </g>\n     <g id=\"text_8\">\n      <!-- 400 -->\n      <g transform=\"translate(7.2 95.691295)scale(0.1 -0.1)\">\n       <use xlink:href=\"#DejaVuSans-52\"/>\n       <use x=\"63.623047\" xlink:href=\"#DejaVuSans-48\"/>\n       <use x=\"127.246094\" xlink:href=\"#DejaVuSans-48\"/>\n      </g>\n     </g>\n    </g>\n    <g id=\"ytick_4\">\n     <g id=\"line2d_9\">\n      <g>\n       <use style=\"stroke:#000000;stroke-width:0.8;\" x=\"33.2875\" xlink:href=\"#m1f112596e6\" y=\"132.338504\"/>\n      </g>\n     </g>\n     <g id=\"text_9\">\n      <!-- 600 -->\n      <g transform=\"translate(7.2 136.137723)scale(0.1 -0.1)\">\n       <use xlink:href=\"#DejaVuSans-54\"/>\n       <use x=\"63.623047\" xlink:href=\"#DejaVuSans-48\"/>\n       <use x=\"127.246094\" xlink:href=\"#DejaVuSans-48\"/>\n      </g>\n     </g>\n    </g>\n   </g>\n   <g id=\"patch_3\">\n    <path d=\"M 33.2875 146.798103 \nL 33.2875 10.898103 \n\" style=\"fill:none;stroke:#000000;stroke-linecap:square;stroke-linejoin:miter;stroke-width:0.8;\"/>\n   </g>\n   <g id=\"patch_4\">\n    <path d=\"M 211.251786 146.798103 \nL 211.251786 10.898103 \n\" style=\"fill:none;stroke:#000000;stroke-linecap:square;stroke-linejoin:miter;stroke-width:0.8;\"/>\n   </g>\n   <g id=\"patch_5\">\n    <path d=\"M 33.2875 146.798103 \nL 211.251786 146.798103 \n\" style=\"fill:none;stroke:#000000;stroke-linecap:square;stroke-linejoin:miter;stroke-width:0.8;\"/>\n   </g>\n   <g id=\"patch_6\">\n    <path d=\"M 33.2875 10.898103 \nL 211.251786 10.898103 \n\" style=\"fill:none;stroke:#000000;stroke-linecap:square;stroke-linejoin:miter;stroke-width:0.8;\"/>\n   </g>\n  </g>\n </g>\n <defs>\n  <clipPath id=\"pb504ddff41\">\n   <rect height=\"135.9\" width=\"177.964286\" x=\"33.2875\" y=\"10.898103\"/>\n  </clipPath>\n </defs>\n</svg>\n"
          },
          "metadata": {
            "needs_background": "light"
          }
        }
      ]
    },
    {
      "cell_type": "code",
      "metadata": {
        "colab": {
          "base_uri": "https://localhost:8080/"
        },
        "id": "ePh7Tq4nlsl9",
        "outputId": "a377aa35-371e-445f-c72c-518511d8de3a"
      },
      "source": [
        "#转置卷积用双线性插值初始化参数，对于1x1卷积层，我们使用Xavier初始化参数\n",
        "W = bilinear_kernel(num_classes,num_classes,64)\n",
        "net.transpose_conv.weight.data.copy_(W)"
      ],
      "execution_count": 8,
      "outputs": [
        {
          "output_type": "execute_result",
          "data": {
            "text/plain": [
              "tensor([[[[0.0002, 0.0007, 0.0012,  ..., 0.0012, 0.0007, 0.0002],\n",
              "          [0.0007, 0.0022, 0.0037,  ..., 0.0037, 0.0022, 0.0007],\n",
              "          [0.0012, 0.0037, 0.0061,  ..., 0.0061, 0.0037, 0.0012],\n",
              "          ...,\n",
              "          [0.0012, 0.0037, 0.0061,  ..., 0.0061, 0.0037, 0.0012],\n",
              "          [0.0007, 0.0022, 0.0037,  ..., 0.0037, 0.0022, 0.0007],\n",
              "          [0.0002, 0.0007, 0.0012,  ..., 0.0012, 0.0007, 0.0002]],\n",
              "\n",
              "         [[0.0000, 0.0000, 0.0000,  ..., 0.0000, 0.0000, 0.0000],\n",
              "          [0.0000, 0.0000, 0.0000,  ..., 0.0000, 0.0000, 0.0000],\n",
              "          [0.0000, 0.0000, 0.0000,  ..., 0.0000, 0.0000, 0.0000],\n",
              "          ...,\n",
              "          [0.0000, 0.0000, 0.0000,  ..., 0.0000, 0.0000, 0.0000],\n",
              "          [0.0000, 0.0000, 0.0000,  ..., 0.0000, 0.0000, 0.0000],\n",
              "          [0.0000, 0.0000, 0.0000,  ..., 0.0000, 0.0000, 0.0000]],\n",
              "\n",
              "         [[0.0000, 0.0000, 0.0000,  ..., 0.0000, 0.0000, 0.0000],\n",
              "          [0.0000, 0.0000, 0.0000,  ..., 0.0000, 0.0000, 0.0000],\n",
              "          [0.0000, 0.0000, 0.0000,  ..., 0.0000, 0.0000, 0.0000],\n",
              "          ...,\n",
              "          [0.0000, 0.0000, 0.0000,  ..., 0.0000, 0.0000, 0.0000],\n",
              "          [0.0000, 0.0000, 0.0000,  ..., 0.0000, 0.0000, 0.0000],\n",
              "          [0.0000, 0.0000, 0.0000,  ..., 0.0000, 0.0000, 0.0000]],\n",
              "\n",
              "         ...,\n",
              "\n",
              "         [[0.0000, 0.0000, 0.0000,  ..., 0.0000, 0.0000, 0.0000],\n",
              "          [0.0000, 0.0000, 0.0000,  ..., 0.0000, 0.0000, 0.0000],\n",
              "          [0.0000, 0.0000, 0.0000,  ..., 0.0000, 0.0000, 0.0000],\n",
              "          ...,\n",
              "          [0.0000, 0.0000, 0.0000,  ..., 0.0000, 0.0000, 0.0000],\n",
              "          [0.0000, 0.0000, 0.0000,  ..., 0.0000, 0.0000, 0.0000],\n",
              "          [0.0000, 0.0000, 0.0000,  ..., 0.0000, 0.0000, 0.0000]],\n",
              "\n",
              "         [[0.0000, 0.0000, 0.0000,  ..., 0.0000, 0.0000, 0.0000],\n",
              "          [0.0000, 0.0000, 0.0000,  ..., 0.0000, 0.0000, 0.0000],\n",
              "          [0.0000, 0.0000, 0.0000,  ..., 0.0000, 0.0000, 0.0000],\n",
              "          ...,\n",
              "          [0.0000, 0.0000, 0.0000,  ..., 0.0000, 0.0000, 0.0000],\n",
              "          [0.0000, 0.0000, 0.0000,  ..., 0.0000, 0.0000, 0.0000],\n",
              "          [0.0000, 0.0000, 0.0000,  ..., 0.0000, 0.0000, 0.0000]],\n",
              "\n",
              "         [[0.0000, 0.0000, 0.0000,  ..., 0.0000, 0.0000, 0.0000],\n",
              "          [0.0000, 0.0000, 0.0000,  ..., 0.0000, 0.0000, 0.0000],\n",
              "          [0.0000, 0.0000, 0.0000,  ..., 0.0000, 0.0000, 0.0000],\n",
              "          ...,\n",
              "          [0.0000, 0.0000, 0.0000,  ..., 0.0000, 0.0000, 0.0000],\n",
              "          [0.0000, 0.0000, 0.0000,  ..., 0.0000, 0.0000, 0.0000],\n",
              "          [0.0000, 0.0000, 0.0000,  ..., 0.0000, 0.0000, 0.0000]]],\n",
              "\n",
              "\n",
              "        [[[0.0000, 0.0000, 0.0000,  ..., 0.0000, 0.0000, 0.0000],\n",
              "          [0.0000, 0.0000, 0.0000,  ..., 0.0000, 0.0000, 0.0000],\n",
              "          [0.0000, 0.0000, 0.0000,  ..., 0.0000, 0.0000, 0.0000],\n",
              "          ...,\n",
              "          [0.0000, 0.0000, 0.0000,  ..., 0.0000, 0.0000, 0.0000],\n",
              "          [0.0000, 0.0000, 0.0000,  ..., 0.0000, 0.0000, 0.0000],\n",
              "          [0.0000, 0.0000, 0.0000,  ..., 0.0000, 0.0000, 0.0000]],\n",
              "\n",
              "         [[0.0002, 0.0007, 0.0012,  ..., 0.0012, 0.0007, 0.0002],\n",
              "          [0.0007, 0.0022, 0.0037,  ..., 0.0037, 0.0022, 0.0007],\n",
              "          [0.0012, 0.0037, 0.0061,  ..., 0.0061, 0.0037, 0.0012],\n",
              "          ...,\n",
              "          [0.0012, 0.0037, 0.0061,  ..., 0.0061, 0.0037, 0.0012],\n",
              "          [0.0007, 0.0022, 0.0037,  ..., 0.0037, 0.0022, 0.0007],\n",
              "          [0.0002, 0.0007, 0.0012,  ..., 0.0012, 0.0007, 0.0002]],\n",
              "\n",
              "         [[0.0000, 0.0000, 0.0000,  ..., 0.0000, 0.0000, 0.0000],\n",
              "          [0.0000, 0.0000, 0.0000,  ..., 0.0000, 0.0000, 0.0000],\n",
              "          [0.0000, 0.0000, 0.0000,  ..., 0.0000, 0.0000, 0.0000],\n",
              "          ...,\n",
              "          [0.0000, 0.0000, 0.0000,  ..., 0.0000, 0.0000, 0.0000],\n",
              "          [0.0000, 0.0000, 0.0000,  ..., 0.0000, 0.0000, 0.0000],\n",
              "          [0.0000, 0.0000, 0.0000,  ..., 0.0000, 0.0000, 0.0000]],\n",
              "\n",
              "         ...,\n",
              "\n",
              "         [[0.0000, 0.0000, 0.0000,  ..., 0.0000, 0.0000, 0.0000],\n",
              "          [0.0000, 0.0000, 0.0000,  ..., 0.0000, 0.0000, 0.0000],\n",
              "          [0.0000, 0.0000, 0.0000,  ..., 0.0000, 0.0000, 0.0000],\n",
              "          ...,\n",
              "          [0.0000, 0.0000, 0.0000,  ..., 0.0000, 0.0000, 0.0000],\n",
              "          [0.0000, 0.0000, 0.0000,  ..., 0.0000, 0.0000, 0.0000],\n",
              "          [0.0000, 0.0000, 0.0000,  ..., 0.0000, 0.0000, 0.0000]],\n",
              "\n",
              "         [[0.0000, 0.0000, 0.0000,  ..., 0.0000, 0.0000, 0.0000],\n",
              "          [0.0000, 0.0000, 0.0000,  ..., 0.0000, 0.0000, 0.0000],\n",
              "          [0.0000, 0.0000, 0.0000,  ..., 0.0000, 0.0000, 0.0000],\n",
              "          ...,\n",
              "          [0.0000, 0.0000, 0.0000,  ..., 0.0000, 0.0000, 0.0000],\n",
              "          [0.0000, 0.0000, 0.0000,  ..., 0.0000, 0.0000, 0.0000],\n",
              "          [0.0000, 0.0000, 0.0000,  ..., 0.0000, 0.0000, 0.0000]],\n",
              "\n",
              "         [[0.0000, 0.0000, 0.0000,  ..., 0.0000, 0.0000, 0.0000],\n",
              "          [0.0000, 0.0000, 0.0000,  ..., 0.0000, 0.0000, 0.0000],\n",
              "          [0.0000, 0.0000, 0.0000,  ..., 0.0000, 0.0000, 0.0000],\n",
              "          ...,\n",
              "          [0.0000, 0.0000, 0.0000,  ..., 0.0000, 0.0000, 0.0000],\n",
              "          [0.0000, 0.0000, 0.0000,  ..., 0.0000, 0.0000, 0.0000],\n",
              "          [0.0000, 0.0000, 0.0000,  ..., 0.0000, 0.0000, 0.0000]]],\n",
              "\n",
              "\n",
              "        [[[0.0000, 0.0000, 0.0000,  ..., 0.0000, 0.0000, 0.0000],\n",
              "          [0.0000, 0.0000, 0.0000,  ..., 0.0000, 0.0000, 0.0000],\n",
              "          [0.0000, 0.0000, 0.0000,  ..., 0.0000, 0.0000, 0.0000],\n",
              "          ...,\n",
              "          [0.0000, 0.0000, 0.0000,  ..., 0.0000, 0.0000, 0.0000],\n",
              "          [0.0000, 0.0000, 0.0000,  ..., 0.0000, 0.0000, 0.0000],\n",
              "          [0.0000, 0.0000, 0.0000,  ..., 0.0000, 0.0000, 0.0000]],\n",
              "\n",
              "         [[0.0000, 0.0000, 0.0000,  ..., 0.0000, 0.0000, 0.0000],\n",
              "          [0.0000, 0.0000, 0.0000,  ..., 0.0000, 0.0000, 0.0000],\n",
              "          [0.0000, 0.0000, 0.0000,  ..., 0.0000, 0.0000, 0.0000],\n",
              "          ...,\n",
              "          [0.0000, 0.0000, 0.0000,  ..., 0.0000, 0.0000, 0.0000],\n",
              "          [0.0000, 0.0000, 0.0000,  ..., 0.0000, 0.0000, 0.0000],\n",
              "          [0.0000, 0.0000, 0.0000,  ..., 0.0000, 0.0000, 0.0000]],\n",
              "\n",
              "         [[0.0002, 0.0007, 0.0012,  ..., 0.0012, 0.0007, 0.0002],\n",
              "          [0.0007, 0.0022, 0.0037,  ..., 0.0037, 0.0022, 0.0007],\n",
              "          [0.0012, 0.0037, 0.0061,  ..., 0.0061, 0.0037, 0.0012],\n",
              "          ...,\n",
              "          [0.0012, 0.0037, 0.0061,  ..., 0.0061, 0.0037, 0.0012],\n",
              "          [0.0007, 0.0022, 0.0037,  ..., 0.0037, 0.0022, 0.0007],\n",
              "          [0.0002, 0.0007, 0.0012,  ..., 0.0012, 0.0007, 0.0002]],\n",
              "\n",
              "         ...,\n",
              "\n",
              "         [[0.0000, 0.0000, 0.0000,  ..., 0.0000, 0.0000, 0.0000],\n",
              "          [0.0000, 0.0000, 0.0000,  ..., 0.0000, 0.0000, 0.0000],\n",
              "          [0.0000, 0.0000, 0.0000,  ..., 0.0000, 0.0000, 0.0000],\n",
              "          ...,\n",
              "          [0.0000, 0.0000, 0.0000,  ..., 0.0000, 0.0000, 0.0000],\n",
              "          [0.0000, 0.0000, 0.0000,  ..., 0.0000, 0.0000, 0.0000],\n",
              "          [0.0000, 0.0000, 0.0000,  ..., 0.0000, 0.0000, 0.0000]],\n",
              "\n",
              "         [[0.0000, 0.0000, 0.0000,  ..., 0.0000, 0.0000, 0.0000],\n",
              "          [0.0000, 0.0000, 0.0000,  ..., 0.0000, 0.0000, 0.0000],\n",
              "          [0.0000, 0.0000, 0.0000,  ..., 0.0000, 0.0000, 0.0000],\n",
              "          ...,\n",
              "          [0.0000, 0.0000, 0.0000,  ..., 0.0000, 0.0000, 0.0000],\n",
              "          [0.0000, 0.0000, 0.0000,  ..., 0.0000, 0.0000, 0.0000],\n",
              "          [0.0000, 0.0000, 0.0000,  ..., 0.0000, 0.0000, 0.0000]],\n",
              "\n",
              "         [[0.0000, 0.0000, 0.0000,  ..., 0.0000, 0.0000, 0.0000],\n",
              "          [0.0000, 0.0000, 0.0000,  ..., 0.0000, 0.0000, 0.0000],\n",
              "          [0.0000, 0.0000, 0.0000,  ..., 0.0000, 0.0000, 0.0000],\n",
              "          ...,\n",
              "          [0.0000, 0.0000, 0.0000,  ..., 0.0000, 0.0000, 0.0000],\n",
              "          [0.0000, 0.0000, 0.0000,  ..., 0.0000, 0.0000, 0.0000],\n",
              "          [0.0000, 0.0000, 0.0000,  ..., 0.0000, 0.0000, 0.0000]]],\n",
              "\n",
              "\n",
              "        ...,\n",
              "\n",
              "\n",
              "        [[[0.0000, 0.0000, 0.0000,  ..., 0.0000, 0.0000, 0.0000],\n",
              "          [0.0000, 0.0000, 0.0000,  ..., 0.0000, 0.0000, 0.0000],\n",
              "          [0.0000, 0.0000, 0.0000,  ..., 0.0000, 0.0000, 0.0000],\n",
              "          ...,\n",
              "          [0.0000, 0.0000, 0.0000,  ..., 0.0000, 0.0000, 0.0000],\n",
              "          [0.0000, 0.0000, 0.0000,  ..., 0.0000, 0.0000, 0.0000],\n",
              "          [0.0000, 0.0000, 0.0000,  ..., 0.0000, 0.0000, 0.0000]],\n",
              "\n",
              "         [[0.0000, 0.0000, 0.0000,  ..., 0.0000, 0.0000, 0.0000],\n",
              "          [0.0000, 0.0000, 0.0000,  ..., 0.0000, 0.0000, 0.0000],\n",
              "          [0.0000, 0.0000, 0.0000,  ..., 0.0000, 0.0000, 0.0000],\n",
              "          ...,\n",
              "          [0.0000, 0.0000, 0.0000,  ..., 0.0000, 0.0000, 0.0000],\n",
              "          [0.0000, 0.0000, 0.0000,  ..., 0.0000, 0.0000, 0.0000],\n",
              "          [0.0000, 0.0000, 0.0000,  ..., 0.0000, 0.0000, 0.0000]],\n",
              "\n",
              "         [[0.0000, 0.0000, 0.0000,  ..., 0.0000, 0.0000, 0.0000],\n",
              "          [0.0000, 0.0000, 0.0000,  ..., 0.0000, 0.0000, 0.0000],\n",
              "          [0.0000, 0.0000, 0.0000,  ..., 0.0000, 0.0000, 0.0000],\n",
              "          ...,\n",
              "          [0.0000, 0.0000, 0.0000,  ..., 0.0000, 0.0000, 0.0000],\n",
              "          [0.0000, 0.0000, 0.0000,  ..., 0.0000, 0.0000, 0.0000],\n",
              "          [0.0000, 0.0000, 0.0000,  ..., 0.0000, 0.0000, 0.0000]],\n",
              "\n",
              "         ...,\n",
              "\n",
              "         [[0.0002, 0.0007, 0.0012,  ..., 0.0012, 0.0007, 0.0002],\n",
              "          [0.0007, 0.0022, 0.0037,  ..., 0.0037, 0.0022, 0.0007],\n",
              "          [0.0012, 0.0037, 0.0061,  ..., 0.0061, 0.0037, 0.0012],\n",
              "          ...,\n",
              "          [0.0012, 0.0037, 0.0061,  ..., 0.0061, 0.0037, 0.0012],\n",
              "          [0.0007, 0.0022, 0.0037,  ..., 0.0037, 0.0022, 0.0007],\n",
              "          [0.0002, 0.0007, 0.0012,  ..., 0.0012, 0.0007, 0.0002]],\n",
              "\n",
              "         [[0.0000, 0.0000, 0.0000,  ..., 0.0000, 0.0000, 0.0000],\n",
              "          [0.0000, 0.0000, 0.0000,  ..., 0.0000, 0.0000, 0.0000],\n",
              "          [0.0000, 0.0000, 0.0000,  ..., 0.0000, 0.0000, 0.0000],\n",
              "          ...,\n",
              "          [0.0000, 0.0000, 0.0000,  ..., 0.0000, 0.0000, 0.0000],\n",
              "          [0.0000, 0.0000, 0.0000,  ..., 0.0000, 0.0000, 0.0000],\n",
              "          [0.0000, 0.0000, 0.0000,  ..., 0.0000, 0.0000, 0.0000]],\n",
              "\n",
              "         [[0.0000, 0.0000, 0.0000,  ..., 0.0000, 0.0000, 0.0000],\n",
              "          [0.0000, 0.0000, 0.0000,  ..., 0.0000, 0.0000, 0.0000],\n",
              "          [0.0000, 0.0000, 0.0000,  ..., 0.0000, 0.0000, 0.0000],\n",
              "          ...,\n",
              "          [0.0000, 0.0000, 0.0000,  ..., 0.0000, 0.0000, 0.0000],\n",
              "          [0.0000, 0.0000, 0.0000,  ..., 0.0000, 0.0000, 0.0000],\n",
              "          [0.0000, 0.0000, 0.0000,  ..., 0.0000, 0.0000, 0.0000]]],\n",
              "\n",
              "\n",
              "        [[[0.0000, 0.0000, 0.0000,  ..., 0.0000, 0.0000, 0.0000],\n",
              "          [0.0000, 0.0000, 0.0000,  ..., 0.0000, 0.0000, 0.0000],\n",
              "          [0.0000, 0.0000, 0.0000,  ..., 0.0000, 0.0000, 0.0000],\n",
              "          ...,\n",
              "          [0.0000, 0.0000, 0.0000,  ..., 0.0000, 0.0000, 0.0000],\n",
              "          [0.0000, 0.0000, 0.0000,  ..., 0.0000, 0.0000, 0.0000],\n",
              "          [0.0000, 0.0000, 0.0000,  ..., 0.0000, 0.0000, 0.0000]],\n",
              "\n",
              "         [[0.0000, 0.0000, 0.0000,  ..., 0.0000, 0.0000, 0.0000],\n",
              "          [0.0000, 0.0000, 0.0000,  ..., 0.0000, 0.0000, 0.0000],\n",
              "          [0.0000, 0.0000, 0.0000,  ..., 0.0000, 0.0000, 0.0000],\n",
              "          ...,\n",
              "          [0.0000, 0.0000, 0.0000,  ..., 0.0000, 0.0000, 0.0000],\n",
              "          [0.0000, 0.0000, 0.0000,  ..., 0.0000, 0.0000, 0.0000],\n",
              "          [0.0000, 0.0000, 0.0000,  ..., 0.0000, 0.0000, 0.0000]],\n",
              "\n",
              "         [[0.0000, 0.0000, 0.0000,  ..., 0.0000, 0.0000, 0.0000],\n",
              "          [0.0000, 0.0000, 0.0000,  ..., 0.0000, 0.0000, 0.0000],\n",
              "          [0.0000, 0.0000, 0.0000,  ..., 0.0000, 0.0000, 0.0000],\n",
              "          ...,\n",
              "          [0.0000, 0.0000, 0.0000,  ..., 0.0000, 0.0000, 0.0000],\n",
              "          [0.0000, 0.0000, 0.0000,  ..., 0.0000, 0.0000, 0.0000],\n",
              "          [0.0000, 0.0000, 0.0000,  ..., 0.0000, 0.0000, 0.0000]],\n",
              "\n",
              "         ...,\n",
              "\n",
              "         [[0.0000, 0.0000, 0.0000,  ..., 0.0000, 0.0000, 0.0000],\n",
              "          [0.0000, 0.0000, 0.0000,  ..., 0.0000, 0.0000, 0.0000],\n",
              "          [0.0000, 0.0000, 0.0000,  ..., 0.0000, 0.0000, 0.0000],\n",
              "          ...,\n",
              "          [0.0000, 0.0000, 0.0000,  ..., 0.0000, 0.0000, 0.0000],\n",
              "          [0.0000, 0.0000, 0.0000,  ..., 0.0000, 0.0000, 0.0000],\n",
              "          [0.0000, 0.0000, 0.0000,  ..., 0.0000, 0.0000, 0.0000]],\n",
              "\n",
              "         [[0.0002, 0.0007, 0.0012,  ..., 0.0012, 0.0007, 0.0002],\n",
              "          [0.0007, 0.0022, 0.0037,  ..., 0.0037, 0.0022, 0.0007],\n",
              "          [0.0012, 0.0037, 0.0061,  ..., 0.0061, 0.0037, 0.0012],\n",
              "          ...,\n",
              "          [0.0012, 0.0037, 0.0061,  ..., 0.0061, 0.0037, 0.0012],\n",
              "          [0.0007, 0.0022, 0.0037,  ..., 0.0037, 0.0022, 0.0007],\n",
              "          [0.0002, 0.0007, 0.0012,  ..., 0.0012, 0.0007, 0.0002]],\n",
              "\n",
              "         [[0.0000, 0.0000, 0.0000,  ..., 0.0000, 0.0000, 0.0000],\n",
              "          [0.0000, 0.0000, 0.0000,  ..., 0.0000, 0.0000, 0.0000],\n",
              "          [0.0000, 0.0000, 0.0000,  ..., 0.0000, 0.0000, 0.0000],\n",
              "          ...,\n",
              "          [0.0000, 0.0000, 0.0000,  ..., 0.0000, 0.0000, 0.0000],\n",
              "          [0.0000, 0.0000, 0.0000,  ..., 0.0000, 0.0000, 0.0000],\n",
              "          [0.0000, 0.0000, 0.0000,  ..., 0.0000, 0.0000, 0.0000]]],\n",
              "\n",
              "\n",
              "        [[[0.0000, 0.0000, 0.0000,  ..., 0.0000, 0.0000, 0.0000],\n",
              "          [0.0000, 0.0000, 0.0000,  ..., 0.0000, 0.0000, 0.0000],\n",
              "          [0.0000, 0.0000, 0.0000,  ..., 0.0000, 0.0000, 0.0000],\n",
              "          ...,\n",
              "          [0.0000, 0.0000, 0.0000,  ..., 0.0000, 0.0000, 0.0000],\n",
              "          [0.0000, 0.0000, 0.0000,  ..., 0.0000, 0.0000, 0.0000],\n",
              "          [0.0000, 0.0000, 0.0000,  ..., 0.0000, 0.0000, 0.0000]],\n",
              "\n",
              "         [[0.0000, 0.0000, 0.0000,  ..., 0.0000, 0.0000, 0.0000],\n",
              "          [0.0000, 0.0000, 0.0000,  ..., 0.0000, 0.0000, 0.0000],\n",
              "          [0.0000, 0.0000, 0.0000,  ..., 0.0000, 0.0000, 0.0000],\n",
              "          ...,\n",
              "          [0.0000, 0.0000, 0.0000,  ..., 0.0000, 0.0000, 0.0000],\n",
              "          [0.0000, 0.0000, 0.0000,  ..., 0.0000, 0.0000, 0.0000],\n",
              "          [0.0000, 0.0000, 0.0000,  ..., 0.0000, 0.0000, 0.0000]],\n",
              "\n",
              "         [[0.0000, 0.0000, 0.0000,  ..., 0.0000, 0.0000, 0.0000],\n",
              "          [0.0000, 0.0000, 0.0000,  ..., 0.0000, 0.0000, 0.0000],\n",
              "          [0.0000, 0.0000, 0.0000,  ..., 0.0000, 0.0000, 0.0000],\n",
              "          ...,\n",
              "          [0.0000, 0.0000, 0.0000,  ..., 0.0000, 0.0000, 0.0000],\n",
              "          [0.0000, 0.0000, 0.0000,  ..., 0.0000, 0.0000, 0.0000],\n",
              "          [0.0000, 0.0000, 0.0000,  ..., 0.0000, 0.0000, 0.0000]],\n",
              "\n",
              "         ...,\n",
              "\n",
              "         [[0.0000, 0.0000, 0.0000,  ..., 0.0000, 0.0000, 0.0000],\n",
              "          [0.0000, 0.0000, 0.0000,  ..., 0.0000, 0.0000, 0.0000],\n",
              "          [0.0000, 0.0000, 0.0000,  ..., 0.0000, 0.0000, 0.0000],\n",
              "          ...,\n",
              "          [0.0000, 0.0000, 0.0000,  ..., 0.0000, 0.0000, 0.0000],\n",
              "          [0.0000, 0.0000, 0.0000,  ..., 0.0000, 0.0000, 0.0000],\n",
              "          [0.0000, 0.0000, 0.0000,  ..., 0.0000, 0.0000, 0.0000]],\n",
              "\n",
              "         [[0.0000, 0.0000, 0.0000,  ..., 0.0000, 0.0000, 0.0000],\n",
              "          [0.0000, 0.0000, 0.0000,  ..., 0.0000, 0.0000, 0.0000],\n",
              "          [0.0000, 0.0000, 0.0000,  ..., 0.0000, 0.0000, 0.0000],\n",
              "          ...,\n",
              "          [0.0000, 0.0000, 0.0000,  ..., 0.0000, 0.0000, 0.0000],\n",
              "          [0.0000, 0.0000, 0.0000,  ..., 0.0000, 0.0000, 0.0000],\n",
              "          [0.0000, 0.0000, 0.0000,  ..., 0.0000, 0.0000, 0.0000]],\n",
              "\n",
              "         [[0.0002, 0.0007, 0.0012,  ..., 0.0012, 0.0007, 0.0002],\n",
              "          [0.0007, 0.0022, 0.0037,  ..., 0.0037, 0.0022, 0.0007],\n",
              "          [0.0012, 0.0037, 0.0061,  ..., 0.0061, 0.0037, 0.0012],\n",
              "          ...,\n",
              "          [0.0012, 0.0037, 0.0061,  ..., 0.0061, 0.0037, 0.0012],\n",
              "          [0.0007, 0.0022, 0.0037,  ..., 0.0037, 0.0022, 0.0007],\n",
              "          [0.0002, 0.0007, 0.0012,  ..., 0.0012, 0.0007, 0.0002]]]])"
            ]
          },
          "metadata": {},
          "execution_count": 8
        }
      ]
    },
    {
      "cell_type": "code",
      "metadata": {
        "colab": {
          "base_uri": "https://localhost:8080/"
        },
        "id": "U2P3uZmtmVA9",
        "outputId": "28135c18-4552-46b0-946e-896801cac0f9"
      },
      "source": [
        "#读取数据集\n",
        "batch_size, crop_size = 32, (320,480)\n",
        "train_iter ,test_iter = d2l.load_data_voc(batch_size,crop_size)"
      ],
      "execution_count": 9,
      "outputs": [
        {
          "output_type": "stream",
          "name": "stdout",
          "text": [
            "Downloading ../data/VOCtrainval_11-May-2012.tar from http://d2l-data.s3-accelerate.amazonaws.com/VOCtrainval_11-May-2012.tar...\n",
            "read 1114 examples\n"
          ]
        },
        {
          "output_type": "stream",
          "name": "stderr",
          "text": [
            "/usr/local/lib/python3.7/dist-packages/torch/utils/data/dataloader.py:481: UserWarning: This DataLoader will create 4 worker processes in total. Our suggested max number of worker in current system is 2, which is smaller than what this DataLoader is going to create. Please be aware that excessive worker creation might get DataLoader running slow or even freeze, lower the worker number to avoid potential slowness/freeze if necessary.\n",
            "  cpuset_checked))\n"
          ]
        },
        {
          "output_type": "stream",
          "name": "stdout",
          "text": [
            "read 1078 examples\n"
          ]
        }
      ]
    },
    {
      "cell_type": "code",
      "metadata": {
        "colab": {
          "base_uri": "https://localhost:8080/",
          "height": 303
        },
        "id": "7UAdtXlYnROm",
        "outputId": "176328ac-06f3-44e7-9c99-e9d5de388001"
      },
      "source": [
        "#训练 \n",
        "def loss(inputs,targets):\n",
        "  return F.cross_entropy(inputs,targets,reduction='none').mean(1).mean(1)\n",
        "\n",
        "num_epochs, lr, wd,devices = 5, 0.001, 1e-3, d2l.try_all_gpus()\n",
        "trainer = torch.optim.SGD(net.parameters(),lr=lr,weight_decay=wd)\n",
        "d2l.train_ch13(net,train_iter,test_iter,loss,trainer,num_epochs,devices)"
      ],
      "execution_count": 11,
      "outputs": [
        {
          "output_type": "stream",
          "name": "stdout",
          "text": [
            "loss 0.417, train acc 0.869, test acc 0.850\n",
            "37.7 examples/sec on [device(type='cuda', index=0)]\n"
          ]
        },
        {
          "output_type": "display_data",
          "data": {
            "text/plain": [
              "<Figure size 252x180 with 1 Axes>"
            ],
            "image/svg+xml": "<?xml version=\"1.0\" encoding=\"utf-8\" standalone=\"no\"?>\n<!DOCTYPE svg PUBLIC \"-//W3C//DTD SVG 1.1//EN\"\n  \"http://www.w3.org/Graphics/SVG/1.1/DTD/svg11.dtd\">\n<!-- Created with matplotlib (https://matplotlib.org/) -->\n<svg height=\"184.455469pt\" version=\"1.1\" viewBox=\"0 0 235.784375 184.455469\" width=\"235.784375pt\" xmlns=\"http://www.w3.org/2000/svg\" xmlns:xlink=\"http://www.w3.org/1999/xlink\">\n <defs>\n  <style type=\"text/css\">\n*{stroke-linecap:butt;stroke-linejoin:round;}\n  </style>\n </defs>\n <g id=\"figure_1\">\n  <g id=\"patch_1\">\n   <path d=\"M 0 184.455469 \nL 235.784375 184.455469 \nL 235.784375 -0 \nL 0 -0 \nz\n\" style=\"fill:none;\"/>\n  </g>\n  <g id=\"axes_1\">\n   <g id=\"patch_2\">\n    <path d=\"M 30.103125 146.899219 \nL 225.403125 146.899219 \nL 225.403125 10.999219 \nL 30.103125 10.999219 \nz\n\" style=\"fill:#ffffff;\"/>\n   </g>\n   <g id=\"matplotlib.axis_1\">\n    <g id=\"xtick_1\">\n     <g id=\"line2d_1\">\n      <path clip-path=\"url(#p7e638a406d)\" d=\"M 30.103125 146.899219 \nL 30.103125 10.999219 \n\" style=\"fill:none;stroke:#b0b0b0;stroke-linecap:square;stroke-width:0.8;\"/>\n     </g>\n     <g id=\"line2d_2\">\n      <defs>\n       <path d=\"M 0 0 \nL 0 3.5 \n\" id=\"m7e2b00e9a5\" style=\"stroke:#000000;stroke-width:0.8;\"/>\n      </defs>\n      <g>\n       <use style=\"stroke:#000000;stroke-width:0.8;\" x=\"30.103125\" xlink:href=\"#m7e2b00e9a5\" y=\"146.899219\"/>\n      </g>\n     </g>\n     <g id=\"text_1\">\n      <!-- 1 -->\n      <defs>\n       <path d=\"M 12.40625 8.296875 \nL 28.515625 8.296875 \nL 28.515625 63.921875 \nL 10.984375 60.40625 \nL 10.984375 69.390625 \nL 28.421875 72.90625 \nL 38.28125 72.90625 \nL 38.28125 8.296875 \nL 54.390625 8.296875 \nL 54.390625 0 \nL 12.40625 0 \nz\n\" id=\"DejaVuSans-49\"/>\n      </defs>\n      <g transform=\"translate(26.921875 161.497656)scale(0.1 -0.1)\">\n       <use xlink:href=\"#DejaVuSans-49\"/>\n      </g>\n     </g>\n    </g>\n    <g id=\"xtick_2\">\n     <g id=\"line2d_3\">\n      <path clip-path=\"url(#p7e638a406d)\" d=\"M 78.928125 146.899219 \nL 78.928125 10.999219 \n\" style=\"fill:none;stroke:#b0b0b0;stroke-linecap:square;stroke-width:0.8;\"/>\n     </g>\n     <g id=\"line2d_4\">\n      <g>\n       <use style=\"stroke:#000000;stroke-width:0.8;\" x=\"78.928125\" xlink:href=\"#m7e2b00e9a5\" y=\"146.899219\"/>\n      </g>\n     </g>\n     <g id=\"text_2\">\n      <!-- 2 -->\n      <defs>\n       <path d=\"M 19.1875 8.296875 \nL 53.609375 8.296875 \nL 53.609375 0 \nL 7.328125 0 \nL 7.328125 8.296875 \nQ 12.9375 14.109375 22.625 23.890625 \nQ 32.328125 33.6875 34.8125 36.53125 \nQ 39.546875 41.84375 41.421875 45.53125 \nQ 43.3125 49.21875 43.3125 52.78125 \nQ 43.3125 58.59375 39.234375 62.25 \nQ 35.15625 65.921875 28.609375 65.921875 \nQ 23.96875 65.921875 18.8125 64.3125 \nQ 13.671875 62.703125 7.8125 59.421875 \nL 7.8125 69.390625 \nQ 13.765625 71.78125 18.9375 73 \nQ 24.125 74.21875 28.421875 74.21875 \nQ 39.75 74.21875 46.484375 68.546875 \nQ 53.21875 62.890625 53.21875 53.421875 \nQ 53.21875 48.921875 51.53125 44.890625 \nQ 49.859375 40.875 45.40625 35.40625 \nQ 44.1875 33.984375 37.640625 27.21875 \nQ 31.109375 20.453125 19.1875 8.296875 \nz\n\" id=\"DejaVuSans-50\"/>\n      </defs>\n      <g transform=\"translate(75.746875 161.497656)scale(0.1 -0.1)\">\n       <use xlink:href=\"#DejaVuSans-50\"/>\n      </g>\n     </g>\n    </g>\n    <g id=\"xtick_3\">\n     <g id=\"line2d_5\">\n      <path clip-path=\"url(#p7e638a406d)\" d=\"M 127.753125 146.899219 \nL 127.753125 10.999219 \n\" style=\"fill:none;stroke:#b0b0b0;stroke-linecap:square;stroke-width:0.8;\"/>\n     </g>\n     <g id=\"line2d_6\">\n      <g>\n       <use style=\"stroke:#000000;stroke-width:0.8;\" x=\"127.753125\" xlink:href=\"#m7e2b00e9a5\" y=\"146.899219\"/>\n      </g>\n     </g>\n     <g id=\"text_3\">\n      <!-- 3 -->\n      <defs>\n       <path d=\"M 40.578125 39.3125 \nQ 47.65625 37.796875 51.625 33 \nQ 55.609375 28.21875 55.609375 21.1875 \nQ 55.609375 10.40625 48.1875 4.484375 \nQ 40.765625 -1.421875 27.09375 -1.421875 \nQ 22.515625 -1.421875 17.65625 -0.515625 \nQ 12.796875 0.390625 7.625 2.203125 \nL 7.625 11.71875 \nQ 11.71875 9.328125 16.59375 8.109375 \nQ 21.484375 6.890625 26.8125 6.890625 \nQ 36.078125 6.890625 40.9375 10.546875 \nQ 45.796875 14.203125 45.796875 21.1875 \nQ 45.796875 27.640625 41.28125 31.265625 \nQ 36.765625 34.90625 28.71875 34.90625 \nL 20.21875 34.90625 \nL 20.21875 43.015625 \nL 29.109375 43.015625 \nQ 36.375 43.015625 40.234375 45.921875 \nQ 44.09375 48.828125 44.09375 54.296875 \nQ 44.09375 59.90625 40.109375 62.90625 \nQ 36.140625 65.921875 28.71875 65.921875 \nQ 24.65625 65.921875 20.015625 65.03125 \nQ 15.375 64.15625 9.8125 62.3125 \nL 9.8125 71.09375 \nQ 15.4375 72.65625 20.34375 73.4375 \nQ 25.25 74.21875 29.59375 74.21875 \nQ 40.828125 74.21875 47.359375 69.109375 \nQ 53.90625 64.015625 53.90625 55.328125 \nQ 53.90625 49.265625 50.4375 45.09375 \nQ 46.96875 40.921875 40.578125 39.3125 \nz\n\" id=\"DejaVuSans-51\"/>\n      </defs>\n      <g transform=\"translate(124.571875 161.497656)scale(0.1 -0.1)\">\n       <use xlink:href=\"#DejaVuSans-51\"/>\n      </g>\n     </g>\n    </g>\n    <g id=\"xtick_4\">\n     <g id=\"line2d_7\">\n      <path clip-path=\"url(#p7e638a406d)\" d=\"M 176.578125 146.899219 \nL 176.578125 10.999219 \n\" style=\"fill:none;stroke:#b0b0b0;stroke-linecap:square;stroke-width:0.8;\"/>\n     </g>\n     <g id=\"line2d_8\">\n      <g>\n       <use style=\"stroke:#000000;stroke-width:0.8;\" x=\"176.578125\" xlink:href=\"#m7e2b00e9a5\" y=\"146.899219\"/>\n      </g>\n     </g>\n     <g id=\"text_4\">\n      <!-- 4 -->\n      <defs>\n       <path d=\"M 37.796875 64.3125 \nL 12.890625 25.390625 \nL 37.796875 25.390625 \nz\nM 35.203125 72.90625 \nL 47.609375 72.90625 \nL 47.609375 25.390625 \nL 58.015625 25.390625 \nL 58.015625 17.1875 \nL 47.609375 17.1875 \nL 47.609375 0 \nL 37.796875 0 \nL 37.796875 17.1875 \nL 4.890625 17.1875 \nL 4.890625 26.703125 \nz\n\" id=\"DejaVuSans-52\"/>\n      </defs>\n      <g transform=\"translate(173.396875 161.497656)scale(0.1 -0.1)\">\n       <use xlink:href=\"#DejaVuSans-52\"/>\n      </g>\n     </g>\n    </g>\n    <g id=\"xtick_5\">\n     <g id=\"line2d_9\">\n      <path clip-path=\"url(#p7e638a406d)\" d=\"M 225.403125 146.899219 \nL 225.403125 10.999219 \n\" style=\"fill:none;stroke:#b0b0b0;stroke-linecap:square;stroke-width:0.8;\"/>\n     </g>\n     <g id=\"line2d_10\">\n      <g>\n       <use style=\"stroke:#000000;stroke-width:0.8;\" x=\"225.403125\" xlink:href=\"#m7e2b00e9a5\" y=\"146.899219\"/>\n      </g>\n     </g>\n     <g id=\"text_5\">\n      <!-- 5 -->\n      <defs>\n       <path d=\"M 10.796875 72.90625 \nL 49.515625 72.90625 \nL 49.515625 64.59375 \nL 19.828125 64.59375 \nL 19.828125 46.734375 \nQ 21.96875 47.46875 24.109375 47.828125 \nQ 26.265625 48.1875 28.421875 48.1875 \nQ 40.625 48.1875 47.75 41.5 \nQ 54.890625 34.8125 54.890625 23.390625 \nQ 54.890625 11.625 47.5625 5.09375 \nQ 40.234375 -1.421875 26.90625 -1.421875 \nQ 22.3125 -1.421875 17.546875 -0.640625 \nQ 12.796875 0.140625 7.71875 1.703125 \nL 7.71875 11.625 \nQ 12.109375 9.234375 16.796875 8.0625 \nQ 21.484375 6.890625 26.703125 6.890625 \nQ 35.15625 6.890625 40.078125 11.328125 \nQ 45.015625 15.765625 45.015625 23.390625 \nQ 45.015625 31 40.078125 35.4375 \nQ 35.15625 39.890625 26.703125 39.890625 \nQ 22.75 39.890625 18.8125 39.015625 \nQ 14.890625 38.140625 10.796875 36.28125 \nz\n\" id=\"DejaVuSans-53\"/>\n      </defs>\n      <g transform=\"translate(222.221875 161.497656)scale(0.1 -0.1)\">\n       <use xlink:href=\"#DejaVuSans-53\"/>\n      </g>\n     </g>\n    </g>\n    <g id=\"text_6\">\n     <!-- epoch -->\n     <defs>\n      <path d=\"M 56.203125 29.59375 \nL 56.203125 25.203125 \nL 14.890625 25.203125 \nQ 15.484375 15.921875 20.484375 11.0625 \nQ 25.484375 6.203125 34.421875 6.203125 \nQ 39.59375 6.203125 44.453125 7.46875 \nQ 49.3125 8.734375 54.109375 11.28125 \nL 54.109375 2.78125 \nQ 49.265625 0.734375 44.1875 -0.34375 \nQ 39.109375 -1.421875 33.890625 -1.421875 \nQ 20.796875 -1.421875 13.15625 6.1875 \nQ 5.515625 13.8125 5.515625 26.8125 \nQ 5.515625 40.234375 12.765625 48.109375 \nQ 20.015625 56 32.328125 56 \nQ 43.359375 56 49.78125 48.890625 \nQ 56.203125 41.796875 56.203125 29.59375 \nz\nM 47.21875 32.234375 \nQ 47.125 39.59375 43.09375 43.984375 \nQ 39.0625 48.390625 32.421875 48.390625 \nQ 24.90625 48.390625 20.390625 44.140625 \nQ 15.875 39.890625 15.1875 32.171875 \nz\n\" id=\"DejaVuSans-101\"/>\n      <path d=\"M 18.109375 8.203125 \nL 18.109375 -20.796875 \nL 9.078125 -20.796875 \nL 9.078125 54.6875 \nL 18.109375 54.6875 \nL 18.109375 46.390625 \nQ 20.953125 51.265625 25.265625 53.625 \nQ 29.59375 56 35.59375 56 \nQ 45.5625 56 51.78125 48.09375 \nQ 58.015625 40.1875 58.015625 27.296875 \nQ 58.015625 14.40625 51.78125 6.484375 \nQ 45.5625 -1.421875 35.59375 -1.421875 \nQ 29.59375 -1.421875 25.265625 0.953125 \nQ 20.953125 3.328125 18.109375 8.203125 \nz\nM 48.6875 27.296875 \nQ 48.6875 37.203125 44.609375 42.84375 \nQ 40.53125 48.484375 33.40625 48.484375 \nQ 26.265625 48.484375 22.1875 42.84375 \nQ 18.109375 37.203125 18.109375 27.296875 \nQ 18.109375 17.390625 22.1875 11.75 \nQ 26.265625 6.109375 33.40625 6.109375 \nQ 40.53125 6.109375 44.609375 11.75 \nQ 48.6875 17.390625 48.6875 27.296875 \nz\n\" id=\"DejaVuSans-112\"/>\n      <path d=\"M 30.609375 48.390625 \nQ 23.390625 48.390625 19.1875 42.75 \nQ 14.984375 37.109375 14.984375 27.296875 \nQ 14.984375 17.484375 19.15625 11.84375 \nQ 23.34375 6.203125 30.609375 6.203125 \nQ 37.796875 6.203125 41.984375 11.859375 \nQ 46.1875 17.53125 46.1875 27.296875 \nQ 46.1875 37.015625 41.984375 42.703125 \nQ 37.796875 48.390625 30.609375 48.390625 \nz\nM 30.609375 56 \nQ 42.328125 56 49.015625 48.375 \nQ 55.71875 40.765625 55.71875 27.296875 \nQ 55.71875 13.875 49.015625 6.21875 \nQ 42.328125 -1.421875 30.609375 -1.421875 \nQ 18.84375 -1.421875 12.171875 6.21875 \nQ 5.515625 13.875 5.515625 27.296875 \nQ 5.515625 40.765625 12.171875 48.375 \nQ 18.84375 56 30.609375 56 \nz\n\" id=\"DejaVuSans-111\"/>\n      <path d=\"M 48.78125 52.59375 \nL 48.78125 44.1875 \nQ 44.96875 46.296875 41.140625 47.34375 \nQ 37.3125 48.390625 33.40625 48.390625 \nQ 24.65625 48.390625 19.8125 42.84375 \nQ 14.984375 37.3125 14.984375 27.296875 \nQ 14.984375 17.28125 19.8125 11.734375 \nQ 24.65625 6.203125 33.40625 6.203125 \nQ 37.3125 6.203125 41.140625 7.25 \nQ 44.96875 8.296875 48.78125 10.40625 \nL 48.78125 2.09375 \nQ 45.015625 0.34375 40.984375 -0.53125 \nQ 36.96875 -1.421875 32.421875 -1.421875 \nQ 20.0625 -1.421875 12.78125 6.34375 \nQ 5.515625 14.109375 5.515625 27.296875 \nQ 5.515625 40.671875 12.859375 48.328125 \nQ 20.21875 56 33.015625 56 \nQ 37.15625 56 41.109375 55.140625 \nQ 45.0625 54.296875 48.78125 52.59375 \nz\n\" id=\"DejaVuSans-99\"/>\n      <path d=\"M 54.890625 33.015625 \nL 54.890625 0 \nL 45.90625 0 \nL 45.90625 32.71875 \nQ 45.90625 40.484375 42.875 44.328125 \nQ 39.84375 48.1875 33.796875 48.1875 \nQ 26.515625 48.1875 22.3125 43.546875 \nQ 18.109375 38.921875 18.109375 30.90625 \nL 18.109375 0 \nL 9.078125 0 \nL 9.078125 75.984375 \nL 18.109375 75.984375 \nL 18.109375 46.1875 \nQ 21.34375 51.125 25.703125 53.5625 \nQ 30.078125 56 35.796875 56 \nQ 45.21875 56 50.046875 50.171875 \nQ 54.890625 44.34375 54.890625 33.015625 \nz\n\" id=\"DejaVuSans-104\"/>\n     </defs>\n     <g transform=\"translate(112.525 175.175781)scale(0.1 -0.1)\">\n      <use xlink:href=\"#DejaVuSans-101\"/>\n      <use x=\"61.523438\" xlink:href=\"#DejaVuSans-112\"/>\n      <use x=\"125\" xlink:href=\"#DejaVuSans-111\"/>\n      <use x=\"186.181641\" xlink:href=\"#DejaVuSans-99\"/>\n      <use x=\"241.162109\" xlink:href=\"#DejaVuSans-104\"/>\n     </g>\n    </g>\n   </g>\n   <g id=\"matplotlib.axis_2\">\n    <g id=\"ytick_1\">\n     <g id=\"line2d_11\">\n      <path clip-path=\"url(#p7e638a406d)\" d=\"M 30.103125 146.899219 \nL 225.403125 146.899219 \n\" style=\"fill:none;stroke:#b0b0b0;stroke-linecap:square;stroke-width:0.8;\"/>\n     </g>\n     <g id=\"line2d_12\">\n      <defs>\n       <path d=\"M 0 0 \nL -3.5 0 \n\" id=\"mbf9e2391a9\" style=\"stroke:#000000;stroke-width:0.8;\"/>\n      </defs>\n      <g>\n       <use style=\"stroke:#000000;stroke-width:0.8;\" x=\"30.103125\" xlink:href=\"#mbf9e2391a9\" y=\"146.899219\"/>\n      </g>\n     </g>\n     <g id=\"text_7\">\n      <!-- 0.0 -->\n      <defs>\n       <path d=\"M 31.78125 66.40625 \nQ 24.171875 66.40625 20.328125 58.90625 \nQ 16.5 51.421875 16.5 36.375 \nQ 16.5 21.390625 20.328125 13.890625 \nQ 24.171875 6.390625 31.78125 6.390625 \nQ 39.453125 6.390625 43.28125 13.890625 \nQ 47.125 21.390625 47.125 36.375 \nQ 47.125 51.421875 43.28125 58.90625 \nQ 39.453125 66.40625 31.78125 66.40625 \nz\nM 31.78125 74.21875 \nQ 44.046875 74.21875 50.515625 64.515625 \nQ 56.984375 54.828125 56.984375 36.375 \nQ 56.984375 17.96875 50.515625 8.265625 \nQ 44.046875 -1.421875 31.78125 -1.421875 \nQ 19.53125 -1.421875 13.0625 8.265625 \nQ 6.59375 17.96875 6.59375 36.375 \nQ 6.59375 54.828125 13.0625 64.515625 \nQ 19.53125 74.21875 31.78125 74.21875 \nz\n\" id=\"DejaVuSans-48\"/>\n       <path d=\"M 10.6875 12.40625 \nL 21 12.40625 \nL 21 0 \nL 10.6875 0 \nz\n\" id=\"DejaVuSans-46\"/>\n      </defs>\n      <g transform=\"translate(7.2 150.698437)scale(0.1 -0.1)\">\n       <use xlink:href=\"#DejaVuSans-48\"/>\n       <use x=\"63.623047\" xlink:href=\"#DejaVuSans-46\"/>\n       <use x=\"95.410156\" xlink:href=\"#DejaVuSans-48\"/>\n      </g>\n     </g>\n    </g>\n    <g id=\"ytick_2\">\n     <g id=\"line2d_13\">\n      <path clip-path=\"url(#p7e638a406d)\" d=\"M 30.103125 119.719219 \nL 225.403125 119.719219 \n\" style=\"fill:none;stroke:#b0b0b0;stroke-linecap:square;stroke-width:0.8;\"/>\n     </g>\n     <g id=\"line2d_14\">\n      <g>\n       <use style=\"stroke:#000000;stroke-width:0.8;\" x=\"30.103125\" xlink:href=\"#mbf9e2391a9\" y=\"119.719219\"/>\n      </g>\n     </g>\n     <g id=\"text_8\">\n      <!-- 0.2 -->\n      <g transform=\"translate(7.2 123.518437)scale(0.1 -0.1)\">\n       <use xlink:href=\"#DejaVuSans-48\"/>\n       <use x=\"63.623047\" xlink:href=\"#DejaVuSans-46\"/>\n       <use x=\"95.410156\" xlink:href=\"#DejaVuSans-50\"/>\n      </g>\n     </g>\n    </g>\n    <g id=\"ytick_3\">\n     <g id=\"line2d_15\">\n      <path clip-path=\"url(#p7e638a406d)\" d=\"M 30.103125 92.539219 \nL 225.403125 92.539219 \n\" style=\"fill:none;stroke:#b0b0b0;stroke-linecap:square;stroke-width:0.8;\"/>\n     </g>\n     <g id=\"line2d_16\">\n      <g>\n       <use style=\"stroke:#000000;stroke-width:0.8;\" x=\"30.103125\" xlink:href=\"#mbf9e2391a9\" y=\"92.539219\"/>\n      </g>\n     </g>\n     <g id=\"text_9\">\n      <!-- 0.4 -->\n      <g transform=\"translate(7.2 96.338437)scale(0.1 -0.1)\">\n       <use xlink:href=\"#DejaVuSans-48\"/>\n       <use x=\"63.623047\" xlink:href=\"#DejaVuSans-46\"/>\n       <use x=\"95.410156\" xlink:href=\"#DejaVuSans-52\"/>\n      </g>\n     </g>\n    </g>\n    <g id=\"ytick_4\">\n     <g id=\"line2d_17\">\n      <path clip-path=\"url(#p7e638a406d)\" d=\"M 30.103125 65.359219 \nL 225.403125 65.359219 \n\" style=\"fill:none;stroke:#b0b0b0;stroke-linecap:square;stroke-width:0.8;\"/>\n     </g>\n     <g id=\"line2d_18\">\n      <g>\n       <use style=\"stroke:#000000;stroke-width:0.8;\" x=\"30.103125\" xlink:href=\"#mbf9e2391a9\" y=\"65.359219\"/>\n      </g>\n     </g>\n     <g id=\"text_10\">\n      <!-- 0.6 -->\n      <defs>\n       <path d=\"M 33.015625 40.375 \nQ 26.375 40.375 22.484375 35.828125 \nQ 18.609375 31.296875 18.609375 23.390625 \nQ 18.609375 15.53125 22.484375 10.953125 \nQ 26.375 6.390625 33.015625 6.390625 \nQ 39.65625 6.390625 43.53125 10.953125 \nQ 47.40625 15.53125 47.40625 23.390625 \nQ 47.40625 31.296875 43.53125 35.828125 \nQ 39.65625 40.375 33.015625 40.375 \nz\nM 52.59375 71.296875 \nL 52.59375 62.3125 \nQ 48.875 64.0625 45.09375 64.984375 \nQ 41.3125 65.921875 37.59375 65.921875 \nQ 27.828125 65.921875 22.671875 59.328125 \nQ 17.53125 52.734375 16.796875 39.40625 \nQ 19.671875 43.65625 24.015625 45.921875 \nQ 28.375 48.1875 33.59375 48.1875 \nQ 44.578125 48.1875 50.953125 41.515625 \nQ 57.328125 34.859375 57.328125 23.390625 \nQ 57.328125 12.15625 50.6875 5.359375 \nQ 44.046875 -1.421875 33.015625 -1.421875 \nQ 20.359375 -1.421875 13.671875 8.265625 \nQ 6.984375 17.96875 6.984375 36.375 \nQ 6.984375 53.65625 15.1875 63.9375 \nQ 23.390625 74.21875 37.203125 74.21875 \nQ 40.921875 74.21875 44.703125 73.484375 \nQ 48.484375 72.75 52.59375 71.296875 \nz\n\" id=\"DejaVuSans-54\"/>\n      </defs>\n      <g transform=\"translate(7.2 69.158437)scale(0.1 -0.1)\">\n       <use xlink:href=\"#DejaVuSans-48\"/>\n       <use x=\"63.623047\" xlink:href=\"#DejaVuSans-46\"/>\n       <use x=\"95.410156\" xlink:href=\"#DejaVuSans-54\"/>\n      </g>\n     </g>\n    </g>\n    <g id=\"ytick_5\">\n     <g id=\"line2d_19\">\n      <path clip-path=\"url(#p7e638a406d)\" d=\"M 30.103125 38.179219 \nL 225.403125 38.179219 \n\" style=\"fill:none;stroke:#b0b0b0;stroke-linecap:square;stroke-width:0.8;\"/>\n     </g>\n     <g id=\"line2d_20\">\n      <g>\n       <use style=\"stroke:#000000;stroke-width:0.8;\" x=\"30.103125\" xlink:href=\"#mbf9e2391a9\" y=\"38.179219\"/>\n      </g>\n     </g>\n     <g id=\"text_11\">\n      <!-- 0.8 -->\n      <defs>\n       <path d=\"M 31.78125 34.625 \nQ 24.75 34.625 20.71875 30.859375 \nQ 16.703125 27.09375 16.703125 20.515625 \nQ 16.703125 13.921875 20.71875 10.15625 \nQ 24.75 6.390625 31.78125 6.390625 \nQ 38.8125 6.390625 42.859375 10.171875 \nQ 46.921875 13.96875 46.921875 20.515625 \nQ 46.921875 27.09375 42.890625 30.859375 \nQ 38.875 34.625 31.78125 34.625 \nz\nM 21.921875 38.8125 \nQ 15.578125 40.375 12.03125 44.71875 \nQ 8.5 49.078125 8.5 55.328125 \nQ 8.5 64.0625 14.71875 69.140625 \nQ 20.953125 74.21875 31.78125 74.21875 \nQ 42.671875 74.21875 48.875 69.140625 \nQ 55.078125 64.0625 55.078125 55.328125 \nQ 55.078125 49.078125 51.53125 44.71875 \nQ 48 40.375 41.703125 38.8125 \nQ 48.828125 37.15625 52.796875 32.3125 \nQ 56.78125 27.484375 56.78125 20.515625 \nQ 56.78125 9.90625 50.3125 4.234375 \nQ 43.84375 -1.421875 31.78125 -1.421875 \nQ 19.734375 -1.421875 13.25 4.234375 \nQ 6.78125 9.90625 6.78125 20.515625 \nQ 6.78125 27.484375 10.78125 32.3125 \nQ 14.796875 37.15625 21.921875 38.8125 \nz\nM 18.3125 54.390625 \nQ 18.3125 48.734375 21.84375 45.5625 \nQ 25.390625 42.390625 31.78125 42.390625 \nQ 38.140625 42.390625 41.71875 45.5625 \nQ 45.3125 48.734375 45.3125 54.390625 \nQ 45.3125 60.0625 41.71875 63.234375 \nQ 38.140625 66.40625 31.78125 66.40625 \nQ 25.390625 66.40625 21.84375 63.234375 \nQ 18.3125 60.0625 18.3125 54.390625 \nz\n\" id=\"DejaVuSans-56\"/>\n      </defs>\n      <g transform=\"translate(7.2 41.978437)scale(0.1 -0.1)\">\n       <use xlink:href=\"#DejaVuSans-48\"/>\n       <use x=\"63.623047\" xlink:href=\"#DejaVuSans-46\"/>\n       <use x=\"95.410156\" xlink:href=\"#DejaVuSans-56\"/>\n      </g>\n     </g>\n    </g>\n    <g id=\"ytick_6\">\n     <g id=\"line2d_21\">\n      <path clip-path=\"url(#p7e638a406d)\" d=\"M 30.103125 10.999219 \nL 225.403125 10.999219 \n\" style=\"fill:none;stroke:#b0b0b0;stroke-linecap:square;stroke-width:0.8;\"/>\n     </g>\n     <g id=\"line2d_22\">\n      <g>\n       <use style=\"stroke:#000000;stroke-width:0.8;\" x=\"30.103125\" xlink:href=\"#mbf9e2391a9\" y=\"10.999219\"/>\n      </g>\n     </g>\n     <g id=\"text_12\">\n      <!-- 1.0 -->\n      <g transform=\"translate(7.2 14.798437)scale(0.1 -0.1)\">\n       <use xlink:href=\"#DejaVuSans-49\"/>\n       <use x=\"63.623047\" xlink:href=\"#DejaVuSans-46\"/>\n       <use x=\"95.410156\" xlink:href=\"#DejaVuSans-48\"/>\n      </g>\n     </g>\n    </g>\n   </g>\n   <g id=\"line2d_23\">\n    <path clip-path=\"url(#p7e638a406d)\" d=\"M 30.444321 -1 \nL 38.719301 52.181376 \nL 47.335478 53.100171 \nL 55.951654 56.142477 \nL 64.567831 58.120341 \nL 73.184007 59.988842 \nL 78.928125 60.471781 \nL 87.544301 75.107954 \nL 96.160478 74.846059 \nL 104.776654 72.715234 \nL 113.392831 73.459167 \nL 122.009007 74.981604 \nL 127.753125 74.899123 \nL 136.369301 84.047697 \nL 144.985478 84.081106 \nL 153.601654 83.060649 \nL 162.217831 82.856807 \nL 170.834007 82.950835 \nL 176.578125 83.03783 \nL 185.194301 93.623339 \nL 193.810478 90.387671 \nL 202.426654 91.233559 \nL 211.042831 90.625072 \nL 219.659007 90.96832 \nL 225.403125 90.176409 \n\" style=\"fill:none;stroke:#1f77b4;stroke-linecap:square;stroke-width:1.5;\"/>\n   </g>\n   <g id=\"line2d_24\">\n    <path clip-path=\"url(#p7e638a406d)\" d=\"M -1 54.349805 \nL 7.126654 50.468249 \nL 15.742831 47.855517 \nL 24.359007 45.972311 \nL 30.103125 44.892282 \nL 38.719301 36.533098 \nL 47.335478 36.635494 \nL 55.951654 35.913933 \nL 64.567831 35.26817 \nL 73.184007 34.917591 \nL 78.928125 34.844971 \nL 87.544301 31.989297 \nL 96.160478 32.262572 \nL 104.776654 32.68775 \nL 113.392831 32.61099 \nL 122.009007 32.219913 \nL 127.753125 32.231193 \nL 136.369301 29.555514 \nL 144.985478 29.753978 \nL 153.601654 30.361227 \nL 162.217831 30.558396 \nL 170.834007 30.593678 \nL 176.578125 30.585517 \nL 185.194301 28.085236 \nL 193.810478 28.864443 \nL 202.426654 28.647209 \nL 211.042831 28.728567 \nL 219.659007 28.54053 \nL 225.403125 28.780474 \n\" style=\"fill:none;stroke:#bf00bf;stroke-dasharray:5.55,2.4;stroke-dashoffset:0;stroke-width:1.5;\"/>\n   </g>\n   <g id=\"line2d_25\">\n    <path clip-path=\"url(#p7e638a406d)\" d=\"M 30.103125 36.80475 \nL 78.928125 33.688023 \nL 127.753125 32.500449 \nL 176.578125 31.460876 \nL 225.403125 31.381838 \n\" style=\"fill:none;stroke:#008000;stroke-dasharray:9.6,2.4,1.5,2.4;stroke-dashoffset:0;stroke-width:1.5;\"/>\n   </g>\n   <g id=\"patch_3\">\n    <path d=\"M 30.103125 146.899219 \nL 30.103125 10.999219 \n\" style=\"fill:none;stroke:#000000;stroke-linecap:square;stroke-linejoin:miter;stroke-width:0.8;\"/>\n   </g>\n   <g id=\"patch_4\">\n    <path d=\"M 225.403125 146.899219 \nL 225.403125 10.999219 \n\" style=\"fill:none;stroke:#000000;stroke-linecap:square;stroke-linejoin:miter;stroke-width:0.8;\"/>\n   </g>\n   <g id=\"patch_5\">\n    <path d=\"M 30.103125 146.899219 \nL 225.403125 146.899219 \n\" style=\"fill:none;stroke:#000000;stroke-linecap:square;stroke-linejoin:miter;stroke-width:0.8;\"/>\n   </g>\n   <g id=\"patch_6\">\n    <path d=\"M 30.103125 10.999219 \nL 225.403125 10.999219 \n\" style=\"fill:none;stroke:#000000;stroke-linecap:square;stroke-linejoin:miter;stroke-width:0.8;\"/>\n   </g>\n   <g id=\"legend_1\">\n    <g id=\"patch_7\">\n     <path d=\"M 37.103125 141.899219 \nL 114.871875 141.899219 \nQ 116.871875 141.899219 116.871875 139.899219 \nL 116.871875 96.864844 \nQ 116.871875 94.864844 114.871875 94.864844 \nL 37.103125 94.864844 \nQ 35.103125 94.864844 35.103125 96.864844 \nL 35.103125 139.899219 \nQ 35.103125 141.899219 37.103125 141.899219 \nz\n\" style=\"fill:#ffffff;opacity:0.8;stroke:#cccccc;stroke-linejoin:miter;\"/>\n    </g>\n    <g id=\"line2d_26\">\n     <path d=\"M 39.103125 102.963281 \nL 59.103125 102.963281 \n\" style=\"fill:none;stroke:#1f77b4;stroke-linecap:square;stroke-width:1.5;\"/>\n    </g>\n    <g id=\"line2d_27\"/>\n    <g id=\"text_13\">\n     <!-- train loss -->\n     <defs>\n      <path d=\"M 18.3125 70.21875 \nL 18.3125 54.6875 \nL 36.8125 54.6875 \nL 36.8125 47.703125 \nL 18.3125 47.703125 \nL 18.3125 18.015625 \nQ 18.3125 11.328125 20.140625 9.421875 \nQ 21.96875 7.515625 27.59375 7.515625 \nL 36.8125 7.515625 \nL 36.8125 0 \nL 27.59375 0 \nQ 17.1875 0 13.234375 3.875 \nQ 9.28125 7.765625 9.28125 18.015625 \nL 9.28125 47.703125 \nL 2.6875 47.703125 \nL 2.6875 54.6875 \nL 9.28125 54.6875 \nL 9.28125 70.21875 \nz\n\" id=\"DejaVuSans-116\"/>\n      <path d=\"M 41.109375 46.296875 \nQ 39.59375 47.171875 37.8125 47.578125 \nQ 36.03125 48 33.890625 48 \nQ 26.265625 48 22.1875 43.046875 \nQ 18.109375 38.09375 18.109375 28.8125 \nL 18.109375 0 \nL 9.078125 0 \nL 9.078125 54.6875 \nL 18.109375 54.6875 \nL 18.109375 46.1875 \nQ 20.953125 51.171875 25.484375 53.578125 \nQ 30.03125 56 36.53125 56 \nQ 37.453125 56 38.578125 55.875 \nQ 39.703125 55.765625 41.0625 55.515625 \nz\n\" id=\"DejaVuSans-114\"/>\n      <path d=\"M 34.28125 27.484375 \nQ 23.390625 27.484375 19.1875 25 \nQ 14.984375 22.515625 14.984375 16.5 \nQ 14.984375 11.71875 18.140625 8.90625 \nQ 21.296875 6.109375 26.703125 6.109375 \nQ 34.1875 6.109375 38.703125 11.40625 \nQ 43.21875 16.703125 43.21875 25.484375 \nL 43.21875 27.484375 \nz\nM 52.203125 31.203125 \nL 52.203125 0 \nL 43.21875 0 \nL 43.21875 8.296875 \nQ 40.140625 3.328125 35.546875 0.953125 \nQ 30.953125 -1.421875 24.3125 -1.421875 \nQ 15.921875 -1.421875 10.953125 3.296875 \nQ 6 8.015625 6 15.921875 \nQ 6 25.140625 12.171875 29.828125 \nQ 18.359375 34.515625 30.609375 34.515625 \nL 43.21875 34.515625 \nL 43.21875 35.40625 \nQ 43.21875 41.609375 39.140625 45 \nQ 35.0625 48.390625 27.6875 48.390625 \nQ 23 48.390625 18.546875 47.265625 \nQ 14.109375 46.140625 10.015625 43.890625 \nL 10.015625 52.203125 \nQ 14.9375 54.109375 19.578125 55.046875 \nQ 24.21875 56 28.609375 56 \nQ 40.484375 56 46.34375 49.84375 \nQ 52.203125 43.703125 52.203125 31.203125 \nz\n\" id=\"DejaVuSans-97\"/>\n      <path d=\"M 9.421875 54.6875 \nL 18.40625 54.6875 \nL 18.40625 0 \nL 9.421875 0 \nz\nM 9.421875 75.984375 \nL 18.40625 75.984375 \nL 18.40625 64.59375 \nL 9.421875 64.59375 \nz\n\" id=\"DejaVuSans-105\"/>\n      <path d=\"M 54.890625 33.015625 \nL 54.890625 0 \nL 45.90625 0 \nL 45.90625 32.71875 \nQ 45.90625 40.484375 42.875 44.328125 \nQ 39.84375 48.1875 33.796875 48.1875 \nQ 26.515625 48.1875 22.3125 43.546875 \nQ 18.109375 38.921875 18.109375 30.90625 \nL 18.109375 0 \nL 9.078125 0 \nL 9.078125 54.6875 \nL 18.109375 54.6875 \nL 18.109375 46.1875 \nQ 21.34375 51.125 25.703125 53.5625 \nQ 30.078125 56 35.796875 56 \nQ 45.21875 56 50.046875 50.171875 \nQ 54.890625 44.34375 54.890625 33.015625 \nz\n\" id=\"DejaVuSans-110\"/>\n      <path id=\"DejaVuSans-32\"/>\n      <path d=\"M 9.421875 75.984375 \nL 18.40625 75.984375 \nL 18.40625 0 \nL 9.421875 0 \nz\n\" id=\"DejaVuSans-108\"/>\n      <path d=\"M 44.28125 53.078125 \nL 44.28125 44.578125 \nQ 40.484375 46.53125 36.375 47.5 \nQ 32.28125 48.484375 27.875 48.484375 \nQ 21.1875 48.484375 17.84375 46.4375 \nQ 14.5 44.390625 14.5 40.28125 \nQ 14.5 37.15625 16.890625 35.375 \nQ 19.28125 33.59375 26.515625 31.984375 \nL 29.59375 31.296875 \nQ 39.15625 29.25 43.1875 25.515625 \nQ 47.21875 21.78125 47.21875 15.09375 \nQ 47.21875 7.46875 41.1875 3.015625 \nQ 35.15625 -1.421875 24.609375 -1.421875 \nQ 20.21875 -1.421875 15.453125 -0.5625 \nQ 10.6875 0.296875 5.421875 2 \nL 5.421875 11.28125 \nQ 10.40625 8.6875 15.234375 7.390625 \nQ 20.0625 6.109375 24.8125 6.109375 \nQ 31.15625 6.109375 34.5625 8.28125 \nQ 37.984375 10.453125 37.984375 14.40625 \nQ 37.984375 18.0625 35.515625 20.015625 \nQ 33.0625 21.96875 24.703125 23.78125 \nL 21.578125 24.515625 \nQ 13.234375 26.265625 9.515625 29.90625 \nQ 5.8125 33.546875 5.8125 39.890625 \nQ 5.8125 47.609375 11.28125 51.796875 \nQ 16.75 56 26.8125 56 \nQ 31.78125 56 36.171875 55.265625 \nQ 40.578125 54.546875 44.28125 53.078125 \nz\n\" id=\"DejaVuSans-115\"/>\n     </defs>\n     <g transform=\"translate(67.103125 106.463281)scale(0.1 -0.1)\">\n      <use xlink:href=\"#DejaVuSans-116\"/>\n      <use x=\"39.208984\" xlink:href=\"#DejaVuSans-114\"/>\n      <use x=\"80.322266\" xlink:href=\"#DejaVuSans-97\"/>\n      <use x=\"141.601562\" xlink:href=\"#DejaVuSans-105\"/>\n      <use x=\"169.384766\" xlink:href=\"#DejaVuSans-110\"/>\n      <use x=\"232.763672\" xlink:href=\"#DejaVuSans-32\"/>\n      <use x=\"264.550781\" xlink:href=\"#DejaVuSans-108\"/>\n      <use x=\"292.333984\" xlink:href=\"#DejaVuSans-111\"/>\n      <use x=\"353.515625\" xlink:href=\"#DejaVuSans-115\"/>\n      <use x=\"405.615234\" xlink:href=\"#DejaVuSans-115\"/>\n     </g>\n    </g>\n    <g id=\"line2d_28\">\n     <path d=\"M 39.103125 117.641406 \nL 59.103125 117.641406 \n\" style=\"fill:none;stroke:#bf00bf;stroke-dasharray:5.55,2.4;stroke-dashoffset:0;stroke-width:1.5;\"/>\n    </g>\n    <g id=\"line2d_29\"/>\n    <g id=\"text_14\">\n     <!-- train acc -->\n     <g transform=\"translate(67.103125 121.141406)scale(0.1 -0.1)\">\n      <use xlink:href=\"#DejaVuSans-116\"/>\n      <use x=\"39.208984\" xlink:href=\"#DejaVuSans-114\"/>\n      <use x=\"80.322266\" xlink:href=\"#DejaVuSans-97\"/>\n      <use x=\"141.601562\" xlink:href=\"#DejaVuSans-105\"/>\n      <use x=\"169.384766\" xlink:href=\"#DejaVuSans-110\"/>\n      <use x=\"232.763672\" xlink:href=\"#DejaVuSans-32\"/>\n      <use x=\"264.550781\" xlink:href=\"#DejaVuSans-97\"/>\n      <use x=\"325.830078\" xlink:href=\"#DejaVuSans-99\"/>\n      <use x=\"380.810547\" xlink:href=\"#DejaVuSans-99\"/>\n     </g>\n    </g>\n    <g id=\"line2d_30\">\n     <path d=\"M 39.103125 132.319531 \nL 59.103125 132.319531 \n\" style=\"fill:none;stroke:#008000;stroke-dasharray:9.6,2.4,1.5,2.4;stroke-dashoffset:0;stroke-width:1.5;\"/>\n    </g>\n    <g id=\"line2d_31\"/>\n    <g id=\"text_15\">\n     <!-- test acc -->\n     <g transform=\"translate(67.103125 135.819531)scale(0.1 -0.1)\">\n      <use xlink:href=\"#DejaVuSans-116\"/>\n      <use x=\"39.208984\" xlink:href=\"#DejaVuSans-101\"/>\n      <use x=\"100.732422\" xlink:href=\"#DejaVuSans-115\"/>\n      <use x=\"152.832031\" xlink:href=\"#DejaVuSans-116\"/>\n      <use x=\"192.041016\" xlink:href=\"#DejaVuSans-32\"/>\n      <use x=\"223.828125\" xlink:href=\"#DejaVuSans-97\"/>\n      <use x=\"285.107422\" xlink:href=\"#DejaVuSans-99\"/>\n      <use x=\"340.087891\" xlink:href=\"#DejaVuSans-99\"/>\n     </g>\n    </g>\n   </g>\n  </g>\n </g>\n <defs>\n  <clipPath id=\"p7e638a406d\">\n   <rect height=\"135.9\" width=\"195.3\" x=\"30.103125\" y=\"10.999219\"/>\n  </clipPath>\n </defs>\n</svg>\n"
          },
          "metadata": {
            "needs_background": "light"
          }
        }
      ]
    },
    {
      "cell_type": "code",
      "metadata": {
        "id": "fXvWJwvlqXwP"
      },
      "source": [
        "#预测\n",
        "def predict(img):\n",
        "  X = test_iter.dataset.normalize_image(img).unsqueeze(0)\n",
        "  pred = net(X.to(devices[0])).argmax(dim=1)\n",
        "  return pred.reshape(pred.shape[1],pred.shape[2])"
      ],
      "execution_count": 13,
      "outputs": []
    },
    {
      "cell_type": "code",
      "metadata": {
        "id": "eDBRA-5yrBzm"
      },
      "source": [
        "def label2image(pred):\n",
        "  colormap = torch.tensor(d2l.VOC_COLORMAP,device=devices[0])\n",
        "  X = pred.long()\n",
        "  return colormap[X,:]"
      ],
      "execution_count": 14,
      "outputs": []
    },
    {
      "cell_type": "code",
      "metadata": {
        "colab": {
          "base_uri": "https://localhost:8080/",
          "height": 437
        },
        "id": "BwtaFoY2rmxm",
        "outputId": "8004c770-4f51-4e6b-d3f7-533342dd9830"
      },
      "source": [
        "voc_dir = d2l.download_extract('voc2012','VOCdevkit/VOC2012')\n",
        "test_images,test_labels = d2l.read_voc_images(voc_dir,False)\n",
        "n, imgs = 4, []\n",
        "for i in range(n):\n",
        "  crop_rect = (0,0,320,480)\n",
        "  X = torchvision.transforms.functional.crop(test_images[i],*crop_rect)\n",
        "  pred = label2image(predict(X))\n",
        "  imgs += [X.permute(1,2,0),pred.cpu(),torchvision.transforms.functional.crop(\n",
        "      test_labels[i],*crop_rect).permute(1,2,0)]\n",
        "d2l.show_images(imgs[::3]+imgs[1::3]+imgs[2::3],3,n,scale=2);"
      ],
      "execution_count": 18,
      "outputs": [
        {
          "output_type": "display_data",
          "data": {
            "text/plain": [
              "<Figure size 576x432 with 12 Axes>"
            ],
            "image/svg+xml": "<?xml version=\"1.0\" encoding=\"utf-8\" standalone=\"no\"?>\n<!DOCTYPE svg PUBLIC \"-//W3C//DTD SVG 1.1//EN\"\n  \"http://www.w3.org/Graphics/SVG/1.1/DTD/svg11.dtd\">\n<!-- Created with matplotlib (https://matplotlib.org/) -->\n<svg height=\"312.82624pt\" version=\"1.1\" viewBox=\"0 0 464.3 312.82624\" width=\"464.3pt\" xmlns=\"http://www.w3.org/2000/svg\" xmlns:xlink=\"http://www.w3.org/1999/xlink\">\n <defs>\n  <style type=\"text/css\">\n*{stroke-linecap:butt;stroke-linejoin:round;}\n  </style>\n </defs>\n <g id=\"figure_1\">\n  <g id=\"patch_1\">\n   <path d=\"M 0 312.82624 \nL 464.3 312.82624 \nL 464.3 0 \nL 0 0 \nz\n\" style=\"fill:none;\"/>\n  </g>\n  <g id=\"axes_1\">\n   <g id=\"patch_2\">\n    <path d=\"M 10.7 71.895652 \nL 107.743478 71.895652 \nL 107.743478 7.2 \nL 10.7 7.2 \nz\n\" style=\"fill:#ffffff;\"/>\n   </g>\n   <g clip-path=\"url(#p1a75228b32)\">\n    <image height=\"65\" id=\"image78817f8a2a\" transform=\"scale(1 -1)translate(0 -65)\" width=\"98\" x=\"10.7\" xlink:href=\"data:image/png;base64,\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\" y=\"-6.895652\"/>\n   </g>\n   <g id=\"patch_3\">\n    <path d=\"M 10.7 71.895652 \nL 10.7 7.2 \n\" style=\"fill:none;stroke:#000000;stroke-linecap:square;stroke-linejoin:miter;stroke-width:0.8;\"/>\n   </g>\n   <g id=\"patch_4\">\n    <path d=\"M 107.743478 71.895652 \nL 107.743478 7.2 \n\" style=\"fill:none;stroke:#000000;stroke-linecap:square;stroke-linejoin:miter;stroke-width:0.8;\"/>\n   </g>\n   <g id=\"patch_5\">\n    <path d=\"M 10.7 71.895652 \nL 107.743478 71.895652 \n\" style=\"fill:none;stroke:#000000;stroke-linecap:square;stroke-linejoin:miter;stroke-width:0.8;\"/>\n   </g>\n   <g id=\"patch_6\">\n    <path d=\"M 10.7 7.2 \nL 107.743478 7.2 \n\" style=\"fill:none;stroke:#000000;stroke-linecap:square;stroke-linejoin:miter;stroke-width:0.8;\"/>\n   </g>\n  </g>\n  <g id=\"axes_2\">\n   <g id=\"patch_7\">\n    <path d=\"M 127.152174 71.895652 \nL 224.195652 71.895652 \nL 224.195652 7.2 \nL 127.152174 7.2 \nz\n\" style=\"fill:#ffffff;\"/>\n   </g>\n   <g clip-path=\"url(#p9691154c9c)\">\n    <image height=\"65\" id=\"image9e2c4ac12f\" transform=\"scale(1 -1)translate(0 -65)\" width=\"98\" x=\"127.152174\" xlink:href=\"data:image/png;base64,\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\" y=\"-6.895652\"/>\n   </g>\n   <g id=\"patch_8\">\n    <path d=\"M 127.152174 71.895652 \nL 127.152174 7.2 \n\" style=\"fill:none;stroke:#000000;stroke-linecap:square;stroke-linejoin:miter;stroke-width:0.8;\"/>\n   </g>\n   <g id=\"patch_9\">\n    <path d=\"M 224.195652 71.895652 \nL 224.195652 7.2 \n\" style=\"fill:none;stroke:#000000;stroke-linecap:square;stroke-linejoin:miter;stroke-width:0.8;\"/>\n   </g>\n   <g id=\"patch_10\">\n    <path d=\"M 127.152174 71.895652 \nL 224.195652 71.895652 \n\" style=\"fill:none;stroke:#000000;stroke-linecap:square;stroke-linejoin:miter;stroke-width:0.8;\"/>\n   </g>\n   <g id=\"patch_11\">\n    <path d=\"M 127.152174 7.2 \nL 224.195652 7.2 \n\" style=\"fill:none;stroke:#000000;stroke-linecap:square;stroke-linejoin:miter;stroke-width:0.8;\"/>\n   </g>\n  </g>\n  <g id=\"axes_3\">\n   <g id=\"patch_12\">\n    <path d=\"M 243.604348 71.895652 \nL 340.647826 71.895652 \nL 340.647826 7.2 \nL 243.604348 7.2 \nz\n\" style=\"fill:#ffffff;\"/>\n   </g>\n   <g clip-path=\"url(#pcbc22ae390)\">\n    <image height=\"65\" id=\"imagec822f6adf0\" transform=\"scale(1 -1)translate(0 -65)\" width=\"98\" x=\"243.604348\" xlink:href=\"data:image/png;base64,\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\" y=\"-6.895652\"/>\n   </g>\n   <g id=\"patch_13\">\n    <path d=\"M 243.604348 71.895652 \nL 243.604348 7.2 \n\" style=\"fill:none;stroke:#000000;stroke-linecap:square;stroke-linejoin:miter;stroke-width:0.8;\"/>\n   </g>\n   <g id=\"patch_14\">\n    <path d=\"M 340.647826 71.895652 \nL 340.647826 7.2 \n\" style=\"fill:none;stroke:#000000;stroke-linecap:square;stroke-linejoin:miter;stroke-width:0.8;\"/>\n   </g>\n   <g id=\"patch_15\">\n    <path d=\"M 243.604348 71.895652 \nL 340.647826 71.895652 \n\" style=\"fill:none;stroke:#000000;stroke-linecap:square;stroke-linejoin:miter;stroke-width:0.8;\"/>\n   </g>\n   <g id=\"patch_16\">\n    <path d=\"M 243.604348 7.2 \nL 340.647826 7.2 \n\" style=\"fill:none;stroke:#000000;stroke-linecap:square;stroke-linejoin:miter;stroke-width:0.8;\"/>\n   </g>\n  </g>\n  <g id=\"axes_4\">\n   <g id=\"patch_17\">\n    <path d=\"M 360.056522 71.895652 \nL 457.1 71.895652 \nL 457.1 7.2 \nL 360.056522 7.2 \nz\n\" style=\"fill:#ffffff;\"/>\n   </g>\n   <g clip-path=\"url(#p5fe8966ea7)\">\n    <image height=\"65\" id=\"image36528521dd\" transform=\"scale(1 -1)translate(0 -65)\" width=\"98\" x=\"360.056522\" xlink:href=\"data:image/png;base64,\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\" y=\"-6.895652\"/>\n   </g>\n   <g id=\"patch_18\">\n    <path d=\"M 360.056522 71.895652 \nL 360.056522 7.2 \n\" style=\"fill:none;stroke:#000000;stroke-linecap:square;stroke-linejoin:miter;stroke-width:0.8;\"/>\n   </g>\n   <g id=\"patch_19\">\n    <path d=\"M 457.1 71.895652 \nL 457.1 7.2 \n\" style=\"fill:none;stroke:#000000;stroke-linecap:square;stroke-linejoin:miter;stroke-width:0.8;\"/>\n   </g>\n   <g id=\"patch_20\">\n    <path d=\"M 360.056522 71.895652 \nL 457.1 71.895652 \n\" style=\"fill:none;stroke:#000000;stroke-linecap:square;stroke-linejoin:miter;stroke-width:0.8;\"/>\n   </g>\n   <g id=\"patch_21\">\n    <path d=\"M 360.056522 7.2 \nL 457.1 7.2 \n\" style=\"fill:none;stroke:#000000;stroke-linecap:square;stroke-linejoin:miter;stroke-width:0.8;\"/>\n   </g>\n  </g>\n  <g id=\"axes_5\">\n   <g id=\"patch_22\">\n    <path d=\"M 10.7 187.010946 \nL 107.743478 187.010946 \nL 107.743478 122.315294 \nL 10.7 122.315294 \nz\n\" style=\"fill:#ffffff;\"/>\n   </g>\n   <g clip-path=\"url(#p3f52fea188)\">\n    <image height=\"65\" id=\"imageffb3d8e73f\" transform=\"scale(1 -1)translate(0 -65)\" width=\"98\" x=\"10.7\" xlink:href=\"data:image/png;base64,\niVBORw0KGgoAAAANSUhEUgAAAGIAAABBCAYAAAAqnXGWAAAABHNCSVQICAgIfAhkiAAAA0NJREFUeJzt20tvG1UUwPGfXTdpoRRIFryFeC0QYoEQLBAbBBJsWPEh+HSs2ILEuuoWKEJF4lGgKo8kuE1LEw+LM4MHpUlMmuSeZO5fshxPZPtm/nPOvXPOzQiNSnHGpQdQCaqIJFQRSagiklBFJKGKSEIVkYQqIglVRBKqiCRUEUmoIpJQRSShikjCkYkYtY/KYkwO8qYxlvEwVsQJfxTn299fxIPtz3/gDrZxAzNMcaH3eRd7r6/jm/Y9Q2JkgcbQRJzox/BU+7yKB/zX5F4R0P+SmZ2h2A2kwa+4hG9xc7/BnRL2FDESJ/4dPIOzveNHzQzruIIvRaTcPYbvLcWuIpbwJt4WaahUvm+whd/wHb4XUqYi3Z0W7iliFR/gBbmWVV3qui3E/IQfxNyz4WRHzA4Rz+NDPCL/qqcb+N8ijd3ANfwsFgm3RDSdBEZnaCYi/TwuJFyQX8JuNGJ+uYO/hJAtMemvi6j5XUibFhrjvRh9TLNkvgKaOLkSFqFLb9fwCdbKDudfxk+IOeG8WBWdZgnE3zfG0/jI/H6nNJnm4mNlJGS874B3tYfMYEUQMl7BW8pngkGLgDNCxLOFxzF4EcSK8T2cKziGKqJlpOxckWGeKspMFBc/Vfa+YtAitnEZnylfHhmkiEac+M+FiAzFw8GJmInyxheixJ7lv3QGI6ITcAlfYbPscHYwWe+9WFa293CYdFd6V+S7LBpMt4uNaG9G53rRuYJ38Zxc69qm9zwzr67eFRXWRvQjbvXesyUi4LoQUXoy3o8d/YglvCo6c6V7Et1Ggx9FA2hDVEu32uMz0YsgT64/KLu2Sh/C63hDlMiPQ0h3xU/Fif+6fb652yBPEfvu4ljFa3hJ7OQ47FJ5I67qNdGPviJ2cWzuN7BTxkLbaYiUtYIXxRzypKjN/B8pXVNmW6SZX3BV9J7X5M/jR8nCIvqMRXS8LCJluT2+ZL7JTPvBUzGhbojJ88/eY2ibyPbiQCL6jM2j4qyQ0WdTRMDsfr5kANy3iMrhkOl2YdBUEUmoIpJQRSShikhCFZGEKiIJVUQSqogkVBFJqCKSUEUkoYpIQhWRhCoiCVVEEqqIJFQRSagiklBFJKGKSMI/EzeurjHPDSYAAAAASUVORK5CYII=\" y=\"-122.010946\"/>\n   </g>\n   <g id=\"patch_23\">\n    <path d=\"M 10.7 187.010946 \nL 10.7 122.315294 \n\" style=\"fill:none;stroke:#000000;stroke-linecap:square;stroke-linejoin:miter;stroke-width:0.8;\"/>\n   </g>\n   <g id=\"patch_24\">\n    <path d=\"M 107.743478 187.010946 \nL 107.743478 122.315294 \n\" style=\"fill:none;stroke:#000000;stroke-linecap:square;stroke-linejoin:miter;stroke-width:0.8;\"/>\n   </g>\n   <g id=\"patch_25\">\n    <path d=\"M 10.7 187.010946 \nL 107.743478 187.010946 \n\" style=\"fill:none;stroke:#000000;stroke-linecap:square;stroke-linejoin:miter;stroke-width:0.8;\"/>\n   </g>\n   <g id=\"patch_26\">\n    <path d=\"M 10.7 122.315294 \nL 107.743478 122.315294 \n\" style=\"fill:none;stroke:#000000;stroke-linecap:square;stroke-linejoin:miter;stroke-width:0.8;\"/>\n   </g>\n  </g>\n  <g id=\"axes_6\">\n   <g id=\"patch_27\">\n    <path d=\"M 127.152174 187.010946 \nL 224.195652 187.010946 \nL 224.195652 122.315294 \nL 127.152174 122.315294 \nz\n\" style=\"fill:#ffffff;\"/>\n   </g>\n   <g clip-path=\"url(#p9e210b9ddf)\">\n    <image height=\"65\" id=\"image6f94783047\" transform=\"scale(1 -1)translate(0 -65)\" width=\"98\" x=\"127.152174\" xlink:href=\"data:image/png;base64,\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\" y=\"-122.010946\"/>\n   </g>\n   <g id=\"patch_28\">\n    <path d=\"M 127.152174 187.010946 \nL 127.152174 122.315294 \n\" style=\"fill:none;stroke:#000000;stroke-linecap:square;stroke-linejoin:miter;stroke-width:0.8;\"/>\n   </g>\n   <g id=\"patch_29\">\n    <path d=\"M 224.195652 187.010946 \nL 224.195652 122.315294 \n\" style=\"fill:none;stroke:#000000;stroke-linecap:square;stroke-linejoin:miter;stroke-width:0.8;\"/>\n   </g>\n   <g id=\"patch_30\">\n    <path d=\"M 127.152174 187.010946 \nL 224.195652 187.010946 \n\" style=\"fill:none;stroke:#000000;stroke-linecap:square;stroke-linejoin:miter;stroke-width:0.8;\"/>\n   </g>\n   <g id=\"patch_31\">\n    <path d=\"M 127.152174 122.315294 \nL 224.195652 122.315294 \n\" style=\"fill:none;stroke:#000000;stroke-linecap:square;stroke-linejoin:miter;stroke-width:0.8;\"/>\n   </g>\n  </g>\n  <g id=\"axes_7\">\n   <g id=\"patch_32\">\n    <path d=\"M 243.604348 187.010946 \nL 340.647826 187.010946 \nL 340.647826 122.315294 \nL 243.604348 122.315294 \nz\n\" style=\"fill:#ffffff;\"/>\n   </g>\n   <g clip-path=\"url(#pb97211cec0)\">\n    <image height=\"65\" id=\"image8eaf1e27e2\" transform=\"scale(1 -1)translate(0 -65)\" width=\"98\" x=\"243.604348\" xlink:href=\"data:image/png;base64,\niVBORw0KGgoAAAANSUhEUgAAAGIAAABBCAYAAAAqnXGWAAAABHNCSVQICAgIfAhkiAAAAn9JREFUeJzt2M1rE2EQgPFfksYYv6qtnwiKKKjoUS8eFL148+rfqFcRPelJ9CKCgigi4klQVLQitWri4U0whH7QpG1m23lgIVk2s2/mYXbfmRq6kolTn/QCkkKKCEKKCEKKCEKKCMLUpBcQh5qV0/EXnXW5+xYR0VAS3UYL02hiv5KCAwPna8vE+YqXeIMfa7rCmk3RRzSURDaxB9uUJLeUJE8rEnb0rpnyP+HLJX4xOpjDazzFJ2tRJRUW0cRJnMEhJcktJcl15a+tNsmroYt5vMcDfBwrWkVFzOA6TinVMEm6SnXcNk5lVOwd0cB5XLXy83yjqOEY9uLLyFEqJGIG13DW5KtgmDZO4/HIESrSR8zgJs6JJ4FSFSeNk84KiGjjBg6K8ShaiqPK42k0gouo4zKOiy0BtuPEyL8OLqKp7IyqwHibz+AifuGRMlqITFfpJ16MHCG4CHiOZ+K2O118xz0sjBylAiI6eIh34sno4gNu2UKddRuXcFEZZUz65d3FK9zHt7GjVUgEZblHcEXZt/enqhtNV5nC3lHmTeNTMRF9GkonewGHlWlrv9Fb70FfR5Fw11pJoLIi+tSxW5m8zmKfMoOaVcbhzYFrm0Pfh+MMC+wnHX73js94grf4M/7yB6i4iKWoKVUyuBdpKe+ZxdiJXUPn5vCz93m+dyxYr630JhVRPSqwfd0apIggpIggpIggpIggpIggpIggpIggpIggpIggpIggpIggpIggpIggpIggpIggpIggpIggpIggpIggpIggpIggpIggpIggpIggpIggpIggpIggpIggpIggpIggpIggpIggpIggpIggpIggpIggpIggpIgg/AMWyFNWPaQqeAAAAABJRU5ErkJggg==\" y=\"-122.010946\"/>\n   </g>\n   <g id=\"patch_33\">\n    <path d=\"M 243.604348 187.010946 \nL 243.604348 122.315294 \n\" style=\"fill:none;stroke:#000000;stroke-linecap:square;stroke-linejoin:miter;stroke-width:0.8;\"/>\n   </g>\n   <g id=\"patch_34\">\n    <path d=\"M 340.647826 187.010946 \nL 340.647826 122.315294 \n\" style=\"fill:none;stroke:#000000;stroke-linecap:square;stroke-linejoin:miter;stroke-width:0.8;\"/>\n   </g>\n   <g id=\"patch_35\">\n    <path d=\"M 243.604348 187.010946 \nL 340.647826 187.010946 \n\" style=\"fill:none;stroke:#000000;stroke-linecap:square;stroke-linejoin:miter;stroke-width:0.8;\"/>\n   </g>\n   <g id=\"patch_36\">\n    <path d=\"M 243.604348 122.315294 \nL 340.647826 122.315294 \n\" style=\"fill:none;stroke:#000000;stroke-linecap:square;stroke-linejoin:miter;stroke-width:0.8;\"/>\n   </g>\n  </g>\n  <g id=\"axes_8\">\n   <g id=\"patch_37\">\n    <path d=\"M 360.056522 187.010946 \nL 457.1 187.010946 \nL 457.1 122.315294 \nL 360.056522 122.315294 \nz\n\" style=\"fill:#ffffff;\"/>\n   </g>\n   <g clip-path=\"url(#p10b381fda2)\">\n    <image height=\"65\" id=\"image6d0610d671\" transform=\"scale(1 -1)translate(0 -65)\" width=\"98\" x=\"360.056522\" xlink:href=\"data:image/png;base64,\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\" y=\"-122.010946\"/>\n   </g>\n   <g id=\"patch_38\">\n    <path d=\"M 360.056522 187.010946 \nL 360.056522 122.315294 \n\" style=\"fill:none;stroke:#000000;stroke-linecap:square;stroke-linejoin:miter;stroke-width:0.8;\"/>\n   </g>\n   <g id=\"patch_39\">\n    <path d=\"M 457.1 187.010946 \nL 457.1 122.315294 \n\" style=\"fill:none;stroke:#000000;stroke-linecap:square;stroke-linejoin:miter;stroke-width:0.8;\"/>\n   </g>\n   <g id=\"patch_40\">\n    <path d=\"M 360.056522 187.010946 \nL 457.1 187.010946 \n\" style=\"fill:none;stroke:#000000;stroke-linecap:square;stroke-linejoin:miter;stroke-width:0.8;\"/>\n   </g>\n   <g id=\"patch_41\">\n    <path d=\"M 360.056522 122.315294 \nL 457.1 122.315294 \n\" style=\"fill:none;stroke:#000000;stroke-linecap:square;stroke-linejoin:miter;stroke-width:0.8;\"/>\n   </g>\n  </g>\n  <g id=\"axes_9\">\n   <g id=\"patch_42\">\n    <path d=\"M 10.7 302.12624 \nL 107.743478 302.12624 \nL 107.743478 237.430588 \nL 10.7 237.430588 \nz\n\" style=\"fill:#ffffff;\"/>\n   </g>\n   <g clip-path=\"url(#pb1bff62fb5)\">\n    <image height=\"65\" id=\"image1e75ae82d8\" transform=\"scale(1 -1)translate(0 -65)\" width=\"98\" x=\"10.7\" xlink:href=\"data:image/png;base64,\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\" y=\"-237.12624\"/>\n   </g>\n   <g id=\"patch_43\">\n    <path d=\"M 10.7 302.12624 \nL 10.7 237.430588 \n\" style=\"fill:none;stroke:#000000;stroke-linecap:square;stroke-linejoin:miter;stroke-width:0.8;\"/>\n   </g>\n   <g id=\"patch_44\">\n    <path d=\"M 107.743478 302.12624 \nL 107.743478 237.430588 \n\" style=\"fill:none;stroke:#000000;stroke-linecap:square;stroke-linejoin:miter;stroke-width:0.8;\"/>\n   </g>\n   <g id=\"patch_45\">\n    <path d=\"M 10.7 302.12624 \nL 107.743478 302.12624 \n\" style=\"fill:none;stroke:#000000;stroke-linecap:square;stroke-linejoin:miter;stroke-width:0.8;\"/>\n   </g>\n   <g id=\"patch_46\">\n    <path d=\"M 10.7 237.430588 \nL 107.743478 237.430588 \n\" style=\"fill:none;stroke:#000000;stroke-linecap:square;stroke-linejoin:miter;stroke-width:0.8;\"/>\n   </g>\n  </g>\n  <g id=\"axes_10\">\n   <g id=\"patch_47\">\n    <path d=\"M 127.152174 302.12624 \nL 224.195652 302.12624 \nL 224.195652 237.430588 \nL 127.152174 237.430588 \nz\n\" style=\"fill:#ffffff;\"/>\n   </g>\n   <g clip-path=\"url(#p3be34672a1)\">\n    <image height=\"65\" id=\"imagef368e721a4\" transform=\"scale(1 -1)translate(0 -65)\" width=\"98\" x=\"127.152174\" xlink:href=\"data:image/png;base64,\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\" y=\"-237.12624\"/>\n   </g>\n   <g id=\"patch_48\">\n    <path d=\"M 127.152174 302.12624 \nL 127.152174 237.430588 \n\" style=\"fill:none;stroke:#000000;stroke-linecap:square;stroke-linejoin:miter;stroke-width:0.8;\"/>\n   </g>\n   <g id=\"patch_49\">\n    <path d=\"M 224.195652 302.12624 \nL 224.195652 237.430588 \n\" style=\"fill:none;stroke:#000000;stroke-linecap:square;stroke-linejoin:miter;stroke-width:0.8;\"/>\n   </g>\n   <g id=\"patch_50\">\n    <path d=\"M 127.152174 302.12624 \nL 224.195652 302.12624 \n\" style=\"fill:none;stroke:#000000;stroke-linecap:square;stroke-linejoin:miter;stroke-width:0.8;\"/>\n   </g>\n   <g id=\"patch_51\">\n    <path d=\"M 127.152174 237.430588 \nL 224.195652 237.430588 \n\" style=\"fill:none;stroke:#000000;stroke-linecap:square;stroke-linejoin:miter;stroke-width:0.8;\"/>\n   </g>\n  </g>\n  <g id=\"axes_11\">\n   <g id=\"patch_52\">\n    <path d=\"M 243.604348 302.12624 \nL 340.647826 302.12624 \nL 340.647826 237.430588 \nL 243.604348 237.430588 \nz\n\" style=\"fill:#ffffff;\"/>\n   </g>\n   <g clip-path=\"url(#p6f1cd8ff86)\">\n    <image height=\"65\" id=\"imagee47af7c6c4\" transform=\"scale(1 -1)translate(0 -65)\" width=\"98\" x=\"243.604348\" xlink:href=\"data:image/png;base64,\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\" y=\"-237.12624\"/>\n   </g>\n   <g id=\"patch_53\">\n    <path d=\"M 243.604348 302.12624 \nL 243.604348 237.430588 \n\" style=\"fill:none;stroke:#000000;stroke-linecap:square;stroke-linejoin:miter;stroke-width:0.8;\"/>\n   </g>\n   <g id=\"patch_54\">\n    <path d=\"M 340.647826 302.12624 \nL 340.647826 237.430588 \n\" style=\"fill:none;stroke:#000000;stroke-linecap:square;stroke-linejoin:miter;stroke-width:0.8;\"/>\n   </g>\n   <g id=\"patch_55\">\n    <path d=\"M 243.604348 302.12624 \nL 340.647826 302.12624 \n\" style=\"fill:none;stroke:#000000;stroke-linecap:square;stroke-linejoin:miter;stroke-width:0.8;\"/>\n   </g>\n   <g id=\"patch_56\">\n    <path d=\"M 243.604348 237.430588 \nL 340.647826 237.430588 \n\" style=\"fill:none;stroke:#000000;stroke-linecap:square;stroke-linejoin:miter;stroke-width:0.8;\"/>\n   </g>\n  </g>\n  <g id=\"axes_12\">\n   <g id=\"patch_57\">\n    <path d=\"M 360.056522 302.12624 \nL 457.1 302.12624 \nL 457.1 237.430588 \nL 360.056522 237.430588 \nz\n\" style=\"fill:#ffffff;\"/>\n   </g>\n   <g clip-path=\"url(#p38b0143696)\">\n    <image height=\"65\" id=\"image393d577329\" transform=\"scale(1 -1)translate(0 -65)\" width=\"98\" x=\"360.056522\" xlink:href=\"data:image/png;base64,\niVBORw0KGgoAAAANSUhEUgAAAGIAAABBCAYAAAAqnXGWAAAABHNCSVQICAgIfAhkiAAACOlJREFUeJztnGtwlNUZx3/vbTd7TwhJBAIhIIh4bQqUBryAUjt0qqlVwmjxhoKAAqNQ1BJAwGqdVi1DCdhWGWvV6YyF1l4+FBRtlZsBKkTksiS7m2RjNrdNNtlkL+/2Q9TCIBBg37Mb4fd1Z97/s+9/znnPc85zHglIkAKyslysfmY+l04Ms6tlDfFEJBVhnMBw2/fo2FvMwvnP0tXVLVRbFqr2BcOHD6F8w1LyxrvTxgSA6s5tjPhOgqlTbxCuLdyIiRO/zdqXFxMe+jcq295KGxMA4okIB0KvM+uRW8nPv0SotoSBU5MkSciyjMViJivLxaRJ47lv7o18qpfTGPnMKNnz5nLHj/G8O4wnn3iBeDwuRNMwI0aOLOThOdPIznWQM8CK2aHTrdVQ2f4mHfHPjZBMGppkZYJzBasWbWLr1u1CNJNuhCRJTJ78XRYvnU6D/R0aug8Q0UPE9C50osmUMpRc85Vkemdw709+RjQaM1xPTebDTCaN+++/ndKHxlEZWUtTx+FkPl4onfEmcs0KkiQJ0UuaEU6nnaVlc7h2isbu9mcIx5uT9eiUYFNyqPE0EYmIGcVJMaKwMJ9VzzyCbdQhdgbfIJ4QuwY3gizTMD445BWmd17LV0mSuO66sZS/sgR9xBY+aXvtG2ECgFMp4ODBo8L0znlEaJrGjBm3cc/cCRyIrKOx42Ay40opEjLmeB4+X70wzXMywuWys2DhvVz3o0x2tz9LR7wh2XGlFE22Em230tTUIkzzrI0YOjSf5U/PIfvqanYFXySa6DQirpSSIWfR1hgjFBL333pthCRJFBd/i6VP30+j6x32BreSQEzWKRqdGJIsdi+0V0aYTBqlpVOZOX8ylbFyAh0HSdGmrRCiegeaWUJVVSHJHPTCCKfTzoIF93DjHTnsaltNZzwgIq6UEtXD2PrpuFx2wuEuIZqnNaKgYBBly2dzSZGf7a3PE0uEhQSVahLEkZQYdrtVmOYp84ji4iLWbvgplqt3UNH68gVjAkACnYj6OTk52cI0TxoRqqoyffpUHnj0Jj7Tf0dDaL+wYNKJWCJMcXERPp+fmhrj84kTdl9tNguLFj3A9SW57AmtS/vtaiPpZxrBpbbvozRfzozSMhoamgzV+2pqGjQoj5fWPMHYEtje9twFbQJAc+QIH7esR7W3YTabDNdTAcaOvYplqx6kvf9W9gT/gY6YJVu6o8pmwkGNlpag8VpTpkzgydXTOJzYSH1or+GCfQmL0o+2phjd3cafq6sPPVzCgfhamiNHDBfra1iUfjTUtwpJ6mRJ0QnHjf0Q9VUsSjbuozVCtGQ9JmNTcoWI9TWc6mACATEnjfKGdW9zpXk2FkVc8tJXsMo5+Hx+IVrytm07eXXNB4xxzEeVLEJE+wISCnIkU0gyByDreoI33niH9zc1cK1zJnJyCzv6LJpsIRayEgyGhOjJANFojF/98hVqP+7PZY7b6Em4L2zMspNQa4zOTjF7bF9l1h0dYZY+tQatdiL5lvFCxNOZDCWTWm+zsHKaE3ZfA4Fmyp5cR2HsbrK04UICSFcc6iA81eKKB07aBq+sPMLPl/2RayzzLuiVlFXpL7R44GvPI957bycb1/yHMY5HUaUMYcGkE1Y5D7fbJ0zva43Qdb1nJfXnnpWUhCIsoPRAwqpmY7OJW84rwIqv+yEe16moqKT4mlsoGJqHRelHe7SWBLqw4FJJgji5jGPLFjFl+actuQyFOlm5opzmisvJ9N/BaOedF8zoaI/VYc4Ql1Odsfa1pqaeh2ev4IH7ymjeM4oR9qki4rrg6FURsq7rtLQEWb1yPRl1N1JgvYFvctLn0oYw2DKBWEzcNHxW1eBer5/HF7xIbusd5JhHGxVTSpFQKLLPY8dbZl7e8Cdhumddll9VVcOqZb9nZGwW2abLjIgp5YQ7Y7z66tscOeIRpnlO9yN27NjHyqf+wFXmOd+4s4wMxYUqmYXrnnL5eiZqavx0tEjcOukuAvF9fboqXELBJNu5wlnKsPgMtv39EFu3biceF/eNOK9bpbIsMfPBadw5dxi7g7/uc2aYZScDMoooyLgJRdaItrqYfd9zuN1eEgmxRdbnfb3XZNJYsPBebrork93B9GnncDo0ycYoRwnZsfHs/aiOv2x+l7y8/tTW1vPhhxUI9gBI0j1rs9nEc794jCHX11LZ9mba10UNyCjC5p7O8mVrqaryoeupv2KQlF4c3d0RViz/DfU7hjLKcTvpnmNkKFl89NF/cbu9aWECJLEpSjDYzqqV5UjecRRaJ5HOZjjUgbS3iTkC7S1J7U5TX9/I4wtewNVwKwMyipL56KRillxUV9emOowTSHqbIK+3jlXLf0th5J60zL5lNKx6geHV3WeLIf2aKioqKVv8CqPlOdjVAUZInDNDrBOp+qQbj6cu1aGcwDkndGeirq6BYGOUksl306TvJ6Knfk52qvlcxiyWLlmP359edwENMwLg0KEqOloUbrv5TvyRXSnNMRTJzFjXfDY8/z7btu1MWRynwtBWcolEgs2btvDX144wxvkoZtlppNxpkBhh/wGf/jvO5s3/SlEMp8fQEQE9ZxkVHx/AqRYwZdw0QgmPkOrznv0jG3Z1APmWcTgDU1iy+CVaW9sN1z4XDO3pdzyyLH/R2awUv3UTns4PktK5QEJBky1YlGwc6kCc2mAcSj6maA7dwQyaP+/CW93Axo2bOXy4Kgn/xBiEGfElI0cWUrZ8FpmjPexvf73XH3EZFVW2YFH64VAH4tKG4FDy0aL96QqaaarvwucJ4D7q4+hRD16vn+bmVjo7w8Ri6d+qQrgR0NPNYN68u5lSOph9ofW0xf5/GeT4F+5UB+HSCrAr+WjRbLqCJgJ1YXyeBo65a3C7vXi9dTQ1tRIOd/WJF34qUmIEgKoqlJTczNzHfojf9E/MshOHMhg1mk1XUCNQ24mnuueFHzvmxefz09jYQjjcLawFqEhSZsSXXHHFCG65ZSKBQAvV1TXHvfAuoQczqSblRlykh5T0Br/IyVw0Ik24aESacNGINOF/XvZF5Lv7X8wAAAAASUVORK5CYII=\" y=\"-237.12624\"/>\n   </g>\n   <g id=\"patch_58\">\n    <path d=\"M 360.056522 302.12624 \nL 360.056522 237.430588 \n\" style=\"fill:none;stroke:#000000;stroke-linecap:square;stroke-linejoin:miter;stroke-width:0.8;\"/>\n   </g>\n   <g id=\"patch_59\">\n    <path d=\"M 457.1 302.12624 \nL 457.1 237.430588 \n\" style=\"fill:none;stroke:#000000;stroke-linecap:square;stroke-linejoin:miter;stroke-width:0.8;\"/>\n   </g>\n   <g id=\"patch_60\">\n    <path d=\"M 360.056522 302.12624 \nL 457.1 302.12624 \n\" style=\"fill:none;stroke:#000000;stroke-linecap:square;stroke-linejoin:miter;stroke-width:0.8;\"/>\n   </g>\n   <g id=\"patch_61\">\n    <path d=\"M 360.056522 237.430588 \nL 457.1 237.430588 \n\" style=\"fill:none;stroke:#000000;stroke-linecap:square;stroke-linejoin:miter;stroke-width:0.8;\"/>\n   </g>\n  </g>\n </g>\n <defs>\n  <clipPath id=\"p1a75228b32\">\n   <rect height=\"64.695652\" width=\"97.043478\" x=\"10.7\" y=\"7.2\"/>\n  </clipPath>\n  <clipPath id=\"p9691154c9c\">\n   <rect height=\"64.695652\" width=\"97.043478\" x=\"127.152174\" y=\"7.2\"/>\n  </clipPath>\n  <clipPath id=\"pcbc22ae390\">\n   <rect height=\"64.695652\" width=\"97.043478\" x=\"243.604348\" y=\"7.2\"/>\n  </clipPath>\n  <clipPath id=\"p5fe8966ea7\">\n   <rect height=\"64.695652\" width=\"97.043478\" x=\"360.056522\" y=\"7.2\"/>\n  </clipPath>\n  <clipPath id=\"p3f52fea188\">\n   <rect height=\"64.695652\" width=\"97.043478\" x=\"10.7\" y=\"122.315294\"/>\n  </clipPath>\n  <clipPath id=\"p9e210b9ddf\">\n   <rect height=\"64.695652\" width=\"97.043478\" x=\"127.152174\" y=\"122.315294\"/>\n  </clipPath>\n  <clipPath id=\"pb97211cec0\">\n   <rect height=\"64.695652\" width=\"97.043478\" x=\"243.604348\" y=\"122.315294\"/>\n  </clipPath>\n  <clipPath id=\"p10b381fda2\">\n   <rect height=\"64.695652\" width=\"97.043478\" x=\"360.056522\" y=\"122.315294\"/>\n  </clipPath>\n  <clipPath id=\"pb1bff62fb5\">\n   <rect height=\"64.695652\" width=\"97.043478\" x=\"10.7\" y=\"237.430588\"/>\n  </clipPath>\n  <clipPath id=\"p3be34672a1\">\n   <rect height=\"64.695652\" width=\"97.043478\" x=\"127.152174\" y=\"237.430588\"/>\n  </clipPath>\n  <clipPath id=\"p6f1cd8ff86\">\n   <rect height=\"64.695652\" width=\"97.043478\" x=\"243.604348\" y=\"237.430588\"/>\n  </clipPath>\n  <clipPath id=\"p38b0143696\">\n   <rect height=\"64.695652\" width=\"97.043478\" x=\"360.056522\" y=\"237.430588\"/>\n  </clipPath>\n </defs>\n</svg>\n"
          },
          "metadata": {
            "needs_background": "light"
          }
        }
      ]
    },
    {
      "cell_type": "markdown",
      "metadata": {
        "id": "U_E9wB6mm6e1"
      },
      "source": [
        "##小结\n",
        "* 全卷积⽹络先使⽤卷积神经⽹络抽取图像特征，然后通过1 × 1卷积层将通道数变换为类别个数，最后通过转置卷积层将特征图的⾼和宽变换为输⼊图像的尺⼨。\n",
        "* 在全卷积⽹络中，我们可以将转置卷积层初始化为双线性插值的上采样。"
      ]
    }
  ]
}