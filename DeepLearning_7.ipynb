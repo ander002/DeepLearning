{
  "nbformat": 4,
  "nbformat_minor": 0,
  "metadata": {
    "colab": {
      "name": "DeepLearning_7.ipynb",
      "provenance": [],
      "authorship_tag": "ABX9TyOoMX3yRcjdcxZYPTZjYnLM",
      "include_colab_link": true
    },
    "kernelspec": {
      "name": "python3",
      "display_name": "Python 3"
    },
    "language_info": {
      "name": "python"
    },
    "widgets": {
      "application/vnd.jupyter.widget-state+json": {
        "381a0a15224f454eb7de726d0b1d2c7a": {
          "model_module": "@jupyter-widgets/controls",
          "model_name": "HBoxModel",
          "model_module_version": "1.5.0",
          "state": {
            "_view_name": "HBoxView",
            "_dom_classes": [],
            "_model_name": "HBoxModel",
            "_view_module": "@jupyter-widgets/controls",
            "_model_module_version": "1.5.0",
            "_view_count": null,
            "_view_module_version": "1.5.0",
            "box_style": "",
            "layout": "IPY_MODEL_dfbbd48c4cb247b5bad2d52be979b3ef",
            "_model_module": "@jupyter-widgets/controls",
            "children": [
              "IPY_MODEL_e71d1193f57d4e12885f0d8ffbf23b59",
              "IPY_MODEL_2d80965f80fe404b8e261c30beb452dd",
              "IPY_MODEL_32c7d9b4e27044d58a6f325d787cec26"
            ]
          }
        },
        "dfbbd48c4cb247b5bad2d52be979b3ef": {
          "model_module": "@jupyter-widgets/base",
          "model_name": "LayoutModel",
          "model_module_version": "1.2.0",
          "state": {
            "_view_name": "LayoutView",
            "grid_template_rows": null,
            "right": null,
            "justify_content": null,
            "_view_module": "@jupyter-widgets/base",
            "overflow": null,
            "_model_module_version": "1.2.0",
            "_view_count": null,
            "flex_flow": null,
            "width": null,
            "min_width": null,
            "border": null,
            "align_items": null,
            "bottom": null,
            "_model_module": "@jupyter-widgets/base",
            "top": null,
            "grid_column": null,
            "overflow_y": null,
            "overflow_x": null,
            "grid_auto_flow": null,
            "grid_area": null,
            "grid_template_columns": null,
            "flex": null,
            "_model_name": "LayoutModel",
            "justify_items": null,
            "grid_row": null,
            "max_height": null,
            "align_content": null,
            "visibility": null,
            "align_self": null,
            "height": null,
            "min_height": null,
            "padding": null,
            "grid_auto_rows": null,
            "grid_gap": null,
            "max_width": null,
            "order": null,
            "_view_module_version": "1.2.0",
            "grid_template_areas": null,
            "object_position": null,
            "object_fit": null,
            "grid_auto_columns": null,
            "margin": null,
            "display": null,
            "left": null
          }
        },
        "e71d1193f57d4e12885f0d8ffbf23b59": {
          "model_module": "@jupyter-widgets/controls",
          "model_name": "HTMLModel",
          "model_module_version": "1.5.0",
          "state": {
            "_view_name": "HTMLView",
            "style": "IPY_MODEL_d2b21db195fb49d5bc154ae27872d532",
            "_dom_classes": [],
            "description": "",
            "_model_name": "HTMLModel",
            "placeholder": "​",
            "_view_module": "@jupyter-widgets/controls",
            "_model_module_version": "1.5.0",
            "value": "100%",
            "_view_count": null,
            "_view_module_version": "1.5.0",
            "description_tooltip": null,
            "_model_module": "@jupyter-widgets/controls",
            "layout": "IPY_MODEL_c20568ea31574e0486ff5f0aa76e4780"
          }
        },
        "2d80965f80fe404b8e261c30beb452dd": {
          "model_module": "@jupyter-widgets/controls",
          "model_name": "FloatProgressModel",
          "model_module_version": "1.5.0",
          "state": {
            "_view_name": "ProgressView",
            "style": "IPY_MODEL_e5d6207535b54c98a192ec9c00248be8",
            "_dom_classes": [],
            "description": "",
            "_model_name": "FloatProgressModel",
            "bar_style": "success",
            "max": 46830571,
            "_view_module": "@jupyter-widgets/controls",
            "_model_module_version": "1.5.0",
            "value": 46830571,
            "_view_count": null,
            "_view_module_version": "1.5.0",
            "orientation": "horizontal",
            "min": 0,
            "description_tooltip": null,
            "_model_module": "@jupyter-widgets/controls",
            "layout": "IPY_MODEL_03b2190434c54b4baed7280aaeec3406"
          }
        },
        "32c7d9b4e27044d58a6f325d787cec26": {
          "model_module": "@jupyter-widgets/controls",
          "model_name": "HTMLModel",
          "model_module_version": "1.5.0",
          "state": {
            "_view_name": "HTMLView",
            "style": "IPY_MODEL_88548b017c6b4fc9aaab3f6c9a3bdd3c",
            "_dom_classes": [],
            "description": "",
            "_model_name": "HTMLModel",
            "placeholder": "​",
            "_view_module": "@jupyter-widgets/controls",
            "_model_module_version": "1.5.0",
            "value": " 44.7M/44.7M [00:00&lt;00:00, 51.0MB/s]",
            "_view_count": null,
            "_view_module_version": "1.5.0",
            "description_tooltip": null,
            "_model_module": "@jupyter-widgets/controls",
            "layout": "IPY_MODEL_0780ad6c3d864aa6b622ccb342ade600"
          }
        },
        "d2b21db195fb49d5bc154ae27872d532": {
          "model_module": "@jupyter-widgets/controls",
          "model_name": "DescriptionStyleModel",
          "model_module_version": "1.5.0",
          "state": {
            "_view_name": "StyleView",
            "_model_name": "DescriptionStyleModel",
            "description_width": "",
            "_view_module": "@jupyter-widgets/base",
            "_model_module_version": "1.5.0",
            "_view_count": null,
            "_view_module_version": "1.2.0",
            "_model_module": "@jupyter-widgets/controls"
          }
        },
        "c20568ea31574e0486ff5f0aa76e4780": {
          "model_module": "@jupyter-widgets/base",
          "model_name": "LayoutModel",
          "model_module_version": "1.2.0",
          "state": {
            "_view_name": "LayoutView",
            "grid_template_rows": null,
            "right": null,
            "justify_content": null,
            "_view_module": "@jupyter-widgets/base",
            "overflow": null,
            "_model_module_version": "1.2.0",
            "_view_count": null,
            "flex_flow": null,
            "width": null,
            "min_width": null,
            "border": null,
            "align_items": null,
            "bottom": null,
            "_model_module": "@jupyter-widgets/base",
            "top": null,
            "grid_column": null,
            "overflow_y": null,
            "overflow_x": null,
            "grid_auto_flow": null,
            "grid_area": null,
            "grid_template_columns": null,
            "flex": null,
            "_model_name": "LayoutModel",
            "justify_items": null,
            "grid_row": null,
            "max_height": null,
            "align_content": null,
            "visibility": null,
            "align_self": null,
            "height": null,
            "min_height": null,
            "padding": null,
            "grid_auto_rows": null,
            "grid_gap": null,
            "max_width": null,
            "order": null,
            "_view_module_version": "1.2.0",
            "grid_template_areas": null,
            "object_position": null,
            "object_fit": null,
            "grid_auto_columns": null,
            "margin": null,
            "display": null,
            "left": null
          }
        },
        "e5d6207535b54c98a192ec9c00248be8": {
          "model_module": "@jupyter-widgets/controls",
          "model_name": "ProgressStyleModel",
          "model_module_version": "1.5.0",
          "state": {
            "_view_name": "StyleView",
            "_model_name": "ProgressStyleModel",
            "description_width": "",
            "_view_module": "@jupyter-widgets/base",
            "_model_module_version": "1.5.0",
            "_view_count": null,
            "_view_module_version": "1.2.0",
            "bar_color": null,
            "_model_module": "@jupyter-widgets/controls"
          }
        },
        "03b2190434c54b4baed7280aaeec3406": {
          "model_module": "@jupyter-widgets/base",
          "model_name": "LayoutModel",
          "model_module_version": "1.2.0",
          "state": {
            "_view_name": "LayoutView",
            "grid_template_rows": null,
            "right": null,
            "justify_content": null,
            "_view_module": "@jupyter-widgets/base",
            "overflow": null,
            "_model_module_version": "1.2.0",
            "_view_count": null,
            "flex_flow": null,
            "width": null,
            "min_width": null,
            "border": null,
            "align_items": null,
            "bottom": null,
            "_model_module": "@jupyter-widgets/base",
            "top": null,
            "grid_column": null,
            "overflow_y": null,
            "overflow_x": null,
            "grid_auto_flow": null,
            "grid_area": null,
            "grid_template_columns": null,
            "flex": null,
            "_model_name": "LayoutModel",
            "justify_items": null,
            "grid_row": null,
            "max_height": null,
            "align_content": null,
            "visibility": null,
            "align_self": null,
            "height": null,
            "min_height": null,
            "padding": null,
            "grid_auto_rows": null,
            "grid_gap": null,
            "max_width": null,
            "order": null,
            "_view_module_version": "1.2.0",
            "grid_template_areas": null,
            "object_position": null,
            "object_fit": null,
            "grid_auto_columns": null,
            "margin": null,
            "display": null,
            "left": null
          }
        },
        "88548b017c6b4fc9aaab3f6c9a3bdd3c": {
          "model_module": "@jupyter-widgets/controls",
          "model_name": "DescriptionStyleModel",
          "model_module_version": "1.5.0",
          "state": {
            "_view_name": "StyleView",
            "_model_name": "DescriptionStyleModel",
            "description_width": "",
            "_view_module": "@jupyter-widgets/base",
            "_model_module_version": "1.5.0",
            "_view_count": null,
            "_view_module_version": "1.2.0",
            "_model_module": "@jupyter-widgets/controls"
          }
        },
        "0780ad6c3d864aa6b622ccb342ade600": {
          "model_module": "@jupyter-widgets/base",
          "model_name": "LayoutModel",
          "model_module_version": "1.2.0",
          "state": {
            "_view_name": "LayoutView",
            "grid_template_rows": null,
            "right": null,
            "justify_content": null,
            "_view_module": "@jupyter-widgets/base",
            "overflow": null,
            "_model_module_version": "1.2.0",
            "_view_count": null,
            "flex_flow": null,
            "width": null,
            "min_width": null,
            "border": null,
            "align_items": null,
            "bottom": null,
            "_model_module": "@jupyter-widgets/base",
            "top": null,
            "grid_column": null,
            "overflow_y": null,
            "overflow_x": null,
            "grid_auto_flow": null,
            "grid_area": null,
            "grid_template_columns": null,
            "flex": null,
            "_model_name": "LayoutModel",
            "justify_items": null,
            "grid_row": null,
            "max_height": null,
            "align_content": null,
            "visibility": null,
            "align_self": null,
            "height": null,
            "min_height": null,
            "padding": null,
            "grid_auto_rows": null,
            "grid_gap": null,
            "max_width": null,
            "order": null,
            "_view_module_version": "1.2.0",
            "grid_template_areas": null,
            "object_position": null,
            "object_fit": null,
            "grid_auto_columns": null,
            "margin": null,
            "display": null,
            "left": null
          }
        }
      }
    }
  },
  "cells": [
    {
      "cell_type": "markdown",
      "metadata": {
        "id": "view-in-github",
        "colab_type": "text"
      },
      "source": [
        "<a href=\"https://colab.research.google.com/github/ander002/DeepLearning/blob/main/DeepLearning_7.ipynb\" target=\"_parent\"><img src=\"https://colab.research.google.com/assets/colab-badge.svg\" alt=\"Open In Colab\"/></a>"
      ]
    },
    {
      "cell_type": "markdown",
      "metadata": {
        "id": "dZk1yKTT5bCh"
      },
      "source": [
        "# 语义分割（semantic segmentation）(仅了解了一下)\n",
        "> 语义分割重点关注于如何将图像分割成属于不同语义类别的区域。与⽬标检测不同，语义分割可以识别并理解图像中每⼀个像素的内容：其语义区域的标注和预测是像素级的。\n",
        "\n",
        "##图像分割和实例分割\n",
        "&emsp;&emsp;他们两之间的区别：\n",
        "> *  图像分割将图像划分为若⼲组成区域，这类问题的⽅法通常利⽤图像中像素之间的相关性。它在训练\n",
        "时不需要有关图像像素的标签信息，在预测时也⽆法保证分割出的区域具有我们希望得到的语义。只表示这个像素块是哪一类。\n",
        "* 实例分割也叫同时检测并分割（simultaneous detection and segmentation），它研究如何识别图像中各个⽬标实例的像素级区域。与语义分割不同，实例分割不仅需要区分语义，还要区分不同的⽬标实例。表示这个像素块属于哪一类的哪一个实例物体。\n",
        "\n",
        "![](http://jx.anderd.com/docker/SegVSS.png)"
      ]
    },
    {
      "cell_type": "code",
      "metadata": {
        "colab": {
          "base_uri": "https://localhost:8080/"
        },
        "id": "B2AIoLmZ7F5O",
        "outputId": "875e9b2a-3665-44ca-e1a9-bf5ea38facb6"
      },
      "source": [
        "!pip install d2l"
      ],
      "execution_count": null,
      "outputs": [
        {
          "output_type": "stream",
          "name": "stdout",
          "text": [
            "Collecting d2l\n",
            "  Downloading d2l-0.17.0-py3-none-any.whl (83 kB)\n",
            "\u001b[?25l\r\u001b[K     |████                            | 10 kB 30.4 MB/s eta 0:00:01\r\u001b[K     |███████▉                        | 20 kB 9.3 MB/s eta 0:00:01\r\u001b[K     |███████████▉                    | 30 kB 7.9 MB/s eta 0:00:01\r\u001b[K     |███████████████▊                | 40 kB 7.3 MB/s eta 0:00:01\r\u001b[K     |███████████████████▊            | 51 kB 5.0 MB/s eta 0:00:01\r\u001b[K     |███████████████████████▋        | 61 kB 5.2 MB/s eta 0:00:01\r\u001b[K     |███████████████████████████▋    | 71 kB 5.4 MB/s eta 0:00:01\r\u001b[K     |███████████████████████████████▌| 81 kB 6.1 MB/s eta 0:00:01\r\u001b[K     |████████████████████████████████| 83 kB 1.3 MB/s \n",
            "\u001b[?25hRequirement already satisfied: jupyter in /usr/local/lib/python3.7/dist-packages (from d2l) (1.0.0)\n",
            "Requirement already satisfied: requests in /usr/local/lib/python3.7/dist-packages (from d2l) (2.23.0)\n",
            "Requirement already satisfied: matplotlib in /usr/local/lib/python3.7/dist-packages (from d2l) (3.2.2)\n",
            "Requirement already satisfied: pandas in /usr/local/lib/python3.7/dist-packages (from d2l) (1.1.5)\n",
            "Requirement already satisfied: numpy in /usr/local/lib/python3.7/dist-packages (from d2l) (1.19.5)\n",
            "Requirement already satisfied: ipywidgets in /usr/local/lib/python3.7/dist-packages (from jupyter->d2l) (7.6.5)\n",
            "Requirement already satisfied: nbconvert in /usr/local/lib/python3.7/dist-packages (from jupyter->d2l) (5.6.1)\n",
            "Requirement already satisfied: ipykernel in /usr/local/lib/python3.7/dist-packages (from jupyter->d2l) (4.10.1)\n",
            "Requirement already satisfied: qtconsole in /usr/local/lib/python3.7/dist-packages (from jupyter->d2l) (5.1.1)\n",
            "Requirement already satisfied: jupyter-console in /usr/local/lib/python3.7/dist-packages (from jupyter->d2l) (5.2.0)\n",
            "Requirement already satisfied: notebook in /usr/local/lib/python3.7/dist-packages (from jupyter->d2l) (5.3.1)\n",
            "Requirement already satisfied: ipython>=4.0.0 in /usr/local/lib/python3.7/dist-packages (from ipykernel->jupyter->d2l) (5.5.0)\n",
            "Requirement already satisfied: jupyter-client in /usr/local/lib/python3.7/dist-packages (from ipykernel->jupyter->d2l) (5.3.5)\n",
            "Requirement already satisfied: traitlets>=4.1.0 in /usr/local/lib/python3.7/dist-packages (from ipykernel->jupyter->d2l) (5.1.0)\n",
            "Requirement already satisfied: tornado>=4.0 in /usr/local/lib/python3.7/dist-packages (from ipykernel->jupyter->d2l) (5.1.1)\n",
            "Requirement already satisfied: pygments in /usr/local/lib/python3.7/dist-packages (from ipython>=4.0.0->ipykernel->jupyter->d2l) (2.6.1)\n",
            "Requirement already satisfied: pickleshare in /usr/local/lib/python3.7/dist-packages (from ipython>=4.0.0->ipykernel->jupyter->d2l) (0.7.5)\n",
            "Requirement already satisfied: simplegeneric>0.8 in /usr/local/lib/python3.7/dist-packages (from ipython>=4.0.0->ipykernel->jupyter->d2l) (0.8.1)\n",
            "Requirement already satisfied: prompt-toolkit<2.0.0,>=1.0.4 in /usr/local/lib/python3.7/dist-packages (from ipython>=4.0.0->ipykernel->jupyter->d2l) (1.0.18)\n",
            "Requirement already satisfied: pexpect in /usr/local/lib/python3.7/dist-packages (from ipython>=4.0.0->ipykernel->jupyter->d2l) (4.8.0)\n",
            "Requirement already satisfied: setuptools>=18.5 in /usr/local/lib/python3.7/dist-packages (from ipython>=4.0.0->ipykernel->jupyter->d2l) (57.4.0)\n",
            "Requirement already satisfied: decorator in /usr/local/lib/python3.7/dist-packages (from ipython>=4.0.0->ipykernel->jupyter->d2l) (4.4.2)\n",
            "Requirement already satisfied: wcwidth in /usr/local/lib/python3.7/dist-packages (from prompt-toolkit<2.0.0,>=1.0.4->ipython>=4.0.0->ipykernel->jupyter->d2l) (0.2.5)\n",
            "Requirement already satisfied: six>=1.9.0 in /usr/local/lib/python3.7/dist-packages (from prompt-toolkit<2.0.0,>=1.0.4->ipython>=4.0.0->ipykernel->jupyter->d2l) (1.15.0)\n",
            "Requirement already satisfied: ipython-genutils~=0.2.0 in /usr/local/lib/python3.7/dist-packages (from ipywidgets->jupyter->d2l) (0.2.0)\n",
            "Requirement already satisfied: jupyterlab-widgets>=1.0.0 in /usr/local/lib/python3.7/dist-packages (from ipywidgets->jupyter->d2l) (1.0.2)\n",
            "Requirement already satisfied: nbformat>=4.2.0 in /usr/local/lib/python3.7/dist-packages (from ipywidgets->jupyter->d2l) (5.1.3)\n",
            "Requirement already satisfied: widgetsnbextension~=3.5.0 in /usr/local/lib/python3.7/dist-packages (from ipywidgets->jupyter->d2l) (3.5.1)\n",
            "Requirement already satisfied: jsonschema!=2.5.0,>=2.4 in /usr/local/lib/python3.7/dist-packages (from nbformat>=4.2.0->ipywidgets->jupyter->d2l) (2.6.0)\n",
            "Requirement already satisfied: jupyter-core in /usr/local/lib/python3.7/dist-packages (from nbformat>=4.2.0->ipywidgets->jupyter->d2l) (4.8.1)\n",
            "Requirement already satisfied: jinja2 in /usr/local/lib/python3.7/dist-packages (from notebook->jupyter->d2l) (2.11.3)\n",
            "Requirement already satisfied: Send2Trash in /usr/local/lib/python3.7/dist-packages (from notebook->jupyter->d2l) (1.8.0)\n",
            "Requirement already satisfied: terminado>=0.8.1 in /usr/local/lib/python3.7/dist-packages (from notebook->jupyter->d2l) (0.12.1)\n",
            "Requirement already satisfied: python-dateutil>=2.1 in /usr/local/lib/python3.7/dist-packages (from jupyter-client->ipykernel->jupyter->d2l) (2.8.2)\n",
            "Requirement already satisfied: pyzmq>=13 in /usr/local/lib/python3.7/dist-packages (from jupyter-client->ipykernel->jupyter->d2l) (22.3.0)\n",
            "Requirement already satisfied: ptyprocess in /usr/local/lib/python3.7/dist-packages (from terminado>=0.8.1->notebook->jupyter->d2l) (0.7.0)\n",
            "Requirement already satisfied: MarkupSafe>=0.23 in /usr/local/lib/python3.7/dist-packages (from jinja2->notebook->jupyter->d2l) (2.0.1)\n",
            "Requirement already satisfied: pyparsing!=2.0.4,!=2.1.2,!=2.1.6,>=2.0.1 in /usr/local/lib/python3.7/dist-packages (from matplotlib->d2l) (2.4.7)\n",
            "Requirement already satisfied: kiwisolver>=1.0.1 in /usr/local/lib/python3.7/dist-packages (from matplotlib->d2l) (1.3.2)\n",
            "Requirement already satisfied: cycler>=0.10 in /usr/local/lib/python3.7/dist-packages (from matplotlib->d2l) (0.10.0)\n",
            "Requirement already satisfied: defusedxml in /usr/local/lib/python3.7/dist-packages (from nbconvert->jupyter->d2l) (0.7.1)\n",
            "Requirement already satisfied: testpath in /usr/local/lib/python3.7/dist-packages (from nbconvert->jupyter->d2l) (0.5.0)\n",
            "Requirement already satisfied: mistune<2,>=0.8.1 in /usr/local/lib/python3.7/dist-packages (from nbconvert->jupyter->d2l) (0.8.4)\n",
            "Requirement already satisfied: bleach in /usr/local/lib/python3.7/dist-packages (from nbconvert->jupyter->d2l) (4.1.0)\n",
            "Requirement already satisfied: pandocfilters>=1.4.1 in /usr/local/lib/python3.7/dist-packages (from nbconvert->jupyter->d2l) (1.5.0)\n",
            "Requirement already satisfied: entrypoints>=0.2.2 in /usr/local/lib/python3.7/dist-packages (from nbconvert->jupyter->d2l) (0.3)\n",
            "Requirement already satisfied: packaging in /usr/local/lib/python3.7/dist-packages (from bleach->nbconvert->jupyter->d2l) (21.0)\n",
            "Requirement already satisfied: webencodings in /usr/local/lib/python3.7/dist-packages (from bleach->nbconvert->jupyter->d2l) (0.5.1)\n",
            "Requirement already satisfied: pytz>=2017.2 in /usr/local/lib/python3.7/dist-packages (from pandas->d2l) (2018.9)\n",
            "Requirement already satisfied: qtpy in /usr/local/lib/python3.7/dist-packages (from qtconsole->jupyter->d2l) (1.11.2)\n",
            "Requirement already satisfied: idna<3,>=2.5 in /usr/local/lib/python3.7/dist-packages (from requests->d2l) (2.10)\n",
            "Requirement already satisfied: urllib3!=1.25.0,!=1.25.1,<1.26,>=1.21.1 in /usr/local/lib/python3.7/dist-packages (from requests->d2l) (1.24.3)\n",
            "Requirement already satisfied: chardet<4,>=3.0.2 in /usr/local/lib/python3.7/dist-packages (from requests->d2l) (3.0.4)\n",
            "Requirement already satisfied: certifi>=2017.4.17 in /usr/local/lib/python3.7/dist-packages (from requests->d2l) (2021.5.30)\n",
            "Installing collected packages: d2l\n",
            "Successfully installed d2l-0.17.0\n"
          ]
        }
      ]
    },
    {
      "cell_type": "code",
      "metadata": {
        "id": "-wSrjWwA5USo"
      },
      "source": [
        "#语义分割数据集\n",
        "%matplotlib inline\n",
        "import os\n",
        "import torch\n",
        "import torchvision\n",
        "from d2l import torch as d2l\n"
      ],
      "execution_count": null,
      "outputs": []
    },
    {
      "cell_type": "code",
      "metadata": {
        "colab": {
          "base_uri": "https://localhost:8080/"
        },
        "id": "JfuX3YLX7MBO",
        "outputId": "71dd4095-c683-4771-bf1b-a9e8b10f0c0f"
      },
      "source": [
        "d2l.DATA_HUB['voc2012'] = (d2l.DATA_URL + 'VOCtrainval_11-May-2012.tar',\n",
        "'4e443f8a2eca6b1dac8a6c57641b67dd40621a49')\n",
        "voc_dir = d2l.download_extract('voc2012', 'VOCdevkit/VOC2012')"
      ],
      "execution_count": null,
      "outputs": [
        {
          "output_type": "stream",
          "name": "stdout",
          "text": [
            "Downloading ../data/VOCtrainval_11-May-2012.tar from http://d2l-data.s3-accelerate.amazonaws.com/VOCtrainval_11-May-2012.tar...\n"
          ]
        }
      ]
    },
    {
      "cell_type": "code",
      "metadata": {
        "id": "jLhYG3xw7NJa"
      },
      "source": [
        "def read_voc_images(voc_dir,is_train=True):\n",
        "  \"\"\"读取所有voc图像并标注\"\"\"\n",
        "  txt_fname = os.path.join(voc_dir,'ImageSets','Segmentation',\n",
        "                           'train.txt'if is_train else 'val.txt')\n",
        "  mode = torchvision.io.image.ImageReadMode.RGB\n",
        "  with open(txt_fname,'r')as f:\n",
        "    images = f.read().split()\n",
        "  features,labels = [],[]\n",
        "  for i,fname in enumerate(images):\n",
        "    features.append(torchvision.io.read_image(os.path.join(voc_dir,'JPEGImages',f'{fname}.jpg')))\n",
        "    labels.append(torchvision.io.read_image(os.path.join(voc_dir,'SegmentationClass',f'{fname}.png'),mode))\n",
        "  return features,labels"
      ],
      "execution_count": null,
      "outputs": []
    },
    {
      "cell_type": "code",
      "metadata": {
        "id": "6VTeJn7lB2a5"
      },
      "source": [
        "train_features, train_labels = read_voc_images(voc_dir, True)#训练数据集"
      ],
      "execution_count": null,
      "outputs": []
    },
    {
      "cell_type": "code",
      "metadata": {
        "colab": {
          "base_uri": "https://localhost:8080/",
          "height": 177
        },
        "id": "7JDinbjaCJbp",
        "outputId": "8930ffeb-f99b-4a95-acfb-cee75e60f246"
      },
      "source": [
        "n = 5\n",
        "imgs = train_features[0:n] + train_labels[0:n]\n",
        "imgs = [img.permute(1,2,0) for img in imgs]\n",
        "d2l.show_images(imgs, 2, n);"
      ],
      "execution_count": null,
      "outputs": [
        {
          "output_type": "display_data",
          "data": {
            "image/png": "[encoded data removed]",
            "text/plain": [
              "<Figure size 540x216 with 10 Axes>"
            ]
          },
          "metadata": {
            "needs_background": "light"
          }
        }
      ]
    },
    {
      "cell_type": "code",
      "metadata": {
        "id": "0FlCvHFsQhFN"
      },
      "source": [
        "VOC_COLORMAP = [[0, 0, 0], [128, 0, 0], [0, 128, 0], [128, 128, 0],\n",
        "                [0, 0, 128], [128, 0, 128], [0, 128, 128], [128, 128, 128],\n",
        "                [64, 0, 0], [192, 0, 0], [64, 128, 0], [192, 128, 0],\n",
        "                [64, 0, 128], [192, 0, 128], [64, 128, 128], [192, 128, 128],\n",
        "                [0, 64, 0], [128, 64, 0], [0, 192, 0], [128, 192, 0],[0, 64, 128]]\n",
        "              \n",
        "VOC_CLASSES = ['background', 'aeroplane', 'bicycle', 'bird', 'boat',\n",
        "                'bottle', 'bus', 'car', 'cat', 'chair', 'cow',\n",
        "                'diningtable', 'dog', 'horse', 'motorbike', 'person',\n",
        "                'potted plant', 'sheep', 'sofa', 'train', 'tv/monitor']"
      ],
      "execution_count": null,
      "outputs": []
    },
    {
      "cell_type": "code",
      "metadata": {
        "id": "oXhdkEYDRbOL"
      },
      "source": [
        "def voc_colormap2label():\n",
        "  \"\"\"构建从RGB到VOC类别索引的映射\"\"\"\n",
        "  colormap2label = torch.zeros(256 ** 3,dtype=torch.long)#将图片的rgb值映射到一个标号上\n",
        "  for i,colormap in enumerate(VOC_COLORMAP):\n",
        "    colormap2label[(colormap[0] * 256 + colormap[1]) * 256 + colormap[2]] = i\n",
        "  return colormap2label#字典\n",
        "\n",
        "def voc_label_indices(colormap, colormap2label):\n",
        "  \"\"\"将VOC标签中的RGB值映射到它们的类别索引。\"\"\"\n",
        "  colormap = colormap.permute(1, 2, 0).numpy().astype('int32')\n",
        "  idx = ((colormap[:, :, 0] * 256 + colormap[:, :, 1]) * 256+ colormap[:, :, 2])\n",
        "  return colormap2label[idx]"
      ],
      "execution_count": null,
      "outputs": []
    },
    {
      "cell_type": "code",
      "metadata": {
        "colab": {
          "base_uri": "https://localhost:8080/"
        },
        "id": "Ja03jBnzSP_G",
        "outputId": "82e55664-692b-450b-bbf6-613e1534dbc8"
      },
      "source": [
        "y = voc_label_indices(train_labels[0], voc_colormap2label())\n",
        "y[105:115, 130:140], VOC_CLASSES[1]#在第⼀张样本图像中，⻜机头部区域的类别索引为1，而背景索引为0"
      ],
      "execution_count": null,
      "outputs": [
        {
          "output_type": "execute_result",
          "data": {
            "text/plain": [
              "(tensor([[0, 0, 0, 0, 0, 0, 0, 0, 0, 1],\n",
              "         [0, 0, 0, 0, 0, 0, 0, 1, 1, 1],\n",
              "         [0, 0, 0, 0, 0, 0, 1, 1, 1, 1],\n",
              "         [0, 0, 0, 0, 0, 1, 1, 1, 1, 1],\n",
              "         [0, 0, 0, 0, 0, 1, 1, 1, 1, 1],\n",
              "         [0, 0, 0, 0, 1, 1, 1, 1, 1, 1],\n",
              "         [0, 0, 0, 0, 0, 1, 1, 1, 1, 1],\n",
              "         [0, 0, 0, 0, 0, 1, 1, 1, 1, 1],\n",
              "         [0, 0, 0, 0, 0, 0, 1, 1, 1, 1],\n",
              "         [0, 0, 0, 0, 0, 0, 0, 0, 1, 1]]), 'aeroplane')"
            ]
          },
          "metadata": {},
          "execution_count": 26
        }
      ]
    },
    {
      "cell_type": "code",
      "metadata": {
        "id": "qigyI5vtSwgW"
      },
      "source": [
        "def voc_rand_crop(feature, label, height, width):\n",
        "  \"\"\"随机裁剪特征和标签图像。\"\"\"\n",
        "  rect = torchvision.transforms.RandomCrop.get_params(feature, (height, width))\n",
        "  feature = torchvision.transforms.functional.crop(feature, *rect)\n",
        "  label = torchvision.transforms.functional.crop(label, *rect)\n",
        "  return feature, label"
      ],
      "execution_count": null,
      "outputs": []
    },
    {
      "cell_type": "code",
      "metadata": {
        "id": "X6-pQeDCS6Fb",
        "colab": {
          "base_uri": "https://localhost:8080/",
          "height": 171
        },
        "outputId": "f47b815b-eac7-45e5-ff04-adf6b997cfcf"
      },
      "source": [
        "imgs = []\n",
        "for _ in range(n):\n",
        "  imgs += voc_rand_crop(train_features[0], train_labels[0], 200, 300)\n",
        "imgs = [img.permute(1, 2, 0) for img in imgs]\n",
        "d2l.show_images(imgs[::2] + imgs[1::2], 2, n);"
      ],
      "execution_count": null,
      "outputs": [
        {
          "output_type": "display_data",
          "data": {
            "image/png": "[encoded data removed]",
            "text/plain": [
              "<Figure size 540x216 with 10 Axes>"
            ]
          },
          "metadata": {
            "needs_background": "light"
          }
        }
      ]
    },
    {
      "cell_type": "code",
      "metadata": {
        "id": "97rkW3jqSHpl"
      },
      "source": [
        "#自定义语义分割数据集类\n",
        "class VOCSegDataset(torch.utils.data.Dataset):\n",
        "    \"\"\"一个用于加载VOC数据集的自定义数据集。\"\"\"\n",
        "\n",
        "    def __init__(self, is_train, crop_size, voc_dir):\n",
        "        self.transform = torchvision.transforms.Normalize(\n",
        "            mean=[0.485, 0.456, 0.406], std=[0.229, 0.224, 0.225])\n",
        "        self.crop_size = crop_size\n",
        "        features, labels = read_voc_images(voc_dir, is_train=is_train)\n",
        "        self.features = [self.normalize_image(feature)\n",
        "                         for feature in self.filter(features)]\n",
        "        self.labels = self.filter(labels)\n",
        "        self.colormap2label = voc_colormap2label()\n",
        "        print('read ' + str(len(self.features)) + ' examples')\n",
        "\n",
        "    def normalize_image(self, img):\n",
        "        return self.transform(img.float())\n",
        "\n",
        "    def filter(self, imgs):\n",
        "        return [img for img in imgs if (\n",
        "            img.shape[1] >= self.crop_size[0] and\n",
        "            img.shape[2] >= self.crop_size[1])]\n",
        "\n",
        "    def __getitem__(self, idx):\n",
        "        feature, label = voc_rand_crop(self.features[idx], self.labels[idx],\n",
        "                                       *self.crop_size)\n",
        "        return (feature, voc_label_indices(label, self.colormap2label))\n",
        "\n",
        "    def __len__(self):\n",
        "        return len(self.features)"
      ],
      "execution_count": null,
      "outputs": []
    },
    {
      "cell_type": "code",
      "metadata": {
        "colab": {
          "base_uri": "https://localhost:8080/"
        },
        "id": "NqHQR5ENSYsn",
        "outputId": "baef8d41-2c5c-40fb-c8b9-441f6efc2928"
      },
      "source": [
        "#读取数据集\n",
        "crop_size = (320, 480)\n",
        "voc_train = VOCSegDataset(True, crop_size, voc_dir)\n",
        "voc_test = VOCSegDataset(False, crop_size, voc_dir)"
      ],
      "execution_count": null,
      "outputs": [
        {
          "output_type": "stream",
          "name": "stdout",
          "text": [
            "read 1114 examples\n",
            "read 1078 examples\n"
          ]
        }
      ]
    },
    {
      "cell_type": "code",
      "metadata": {
        "colab": {
          "base_uri": "https://localhost:8080/"
        },
        "id": "KYmxsOZGTKvc",
        "outputId": "403a020e-9461-4637-927e-e47244955d93"
      },
      "source": [
        "batch_size = 64\n",
        "train_iter = torch.utils.data.DataLoader(voc_train, batch_size, shuffle=True,\n",
        "                                    drop_last=True,\n",
        "                                    num_workers=d2l.get_dataloader_workers())\n",
        "for X, Y in train_iter:\n",
        "    print(X.shape)\n",
        "    print(Y.shape)\n",
        "    break"
      ],
      "execution_count": null,
      "outputs": [
        {
          "output_type": "stream",
          "name": "stderr",
          "text": [
            "/usr/local/lib/python3.7/dist-packages/torch/utils/data/dataloader.py:481: UserWarning: This DataLoader will create 4 worker processes in total. Our suggested max number of worker in current system is 2, which is smaller than what this DataLoader is going to create. Please be aware that excessive worker creation might get DataLoader running slow or even freeze, lower the worker number to avoid potential slowness/freeze if necessary.\n",
            "  cpuset_checked))\n"
          ]
        },
        {
          "output_type": "stream",
          "name": "stdout",
          "text": [
            "torch.Size([64, 3, 320, 480])\n",
            "torch.Size([64, 320, 480])\n"
          ]
        }
      ]
    },
    {
      "cell_type": "code",
      "metadata": {
        "id": "0Pp4dRCKTNP8"
      },
      "source": [
        "#整合所有组件\n",
        "def load_data_voc(batch_size, crop_size):\n",
        "    \"\"\"加载VOC语义分割数据集。\"\"\"\n",
        "    voc_dir = d2l.download_extract('voc2012', os.path.join(\n",
        "        'VOCdevkit', 'VOC2012'))\n",
        "    num_workers = d2l.get_dataloader_workers()\n",
        "    train_iter = torch.utils.data.DataLoader(\n",
        "        VOCSegDataset(True, crop_size, voc_dir), batch_size,\n",
        "        shuffle=True, drop_last=True, num_workers=num_workers)\n",
        "    test_iter = torch.utils.data.DataLoader(\n",
        "        VOCSegDataset(False, crop_size, voc_dir), batch_size,\n",
        "        drop_last=True, num_workers=num_workers)\n",
        "    return train_iter, test_iter"
      ],
      "execution_count": null,
      "outputs": []
    },
    {
      "cell_type": "markdown",
      "metadata": {
        "id": "aTiVvLcAT6uk"
      },
      "source": [
        "##小结\n",
        "\n",
        "* 语义分割通过将图像划分为属于不同语义类别的区域，来识别并理解图像中像素级别的内容。\n",
        "* 语义分割的一个重要的数据集叫做Pascal VOC2012。\n",
        "* 由于语义分割的输入图像和标签在像素上一一对应，输入图像会被随机裁剪为固定尺寸而不是缩放。"
      ]
    },
    {
      "cell_type": "markdown",
      "metadata": {
        "id": "9cp3HkKO7gJV"
      },
      "source": [
        "#转置卷积\n",
        "\n",
        "&emsp;&emsp;由于之前的卷积层和汇聚层，都是下采样，减少输入图像的空间维度，那有没有一种办法来扭转下采样导致的空间尺寸减小？那就是**转置卷积**\n",
        "\n",
        "> 转置卷积是一种卷积\n",
        "* 它将输入和核进行了重新排列\n",
        "* 同卷积一般是做下采样，它通常用作上采样\n",
        "* 如果卷积将输入从(h,w)变成了(h',w')，同超参数下它将(h',w')变成(h,w)\n",
        "\n",
        "![](http://pan.anderd.com/download/6167976b7e1b65005937fdbd)"
      ]
    },
    {
      "cell_type": "code",
      "metadata": {
        "colab": {
          "base_uri": "https://localhost:8080/"
        },
        "id": "aEPIfQaiz6u7",
        "outputId": "65dba843-9c88-4451-b38e-03ac4f163b51"
      },
      "source": [
        "!pip install -U d2l"
      ],
      "execution_count": 2,
      "outputs": [
        {
          "output_type": "stream",
          "name": "stdout",
          "text": [
            "Collecting d2l\n",
            "  Downloading d2l-0.17.0-py3-none-any.whl (83 kB)\n",
            "\u001b[?25l\r\u001b[K     |████                            | 10 kB 21.3 MB/s eta 0:00:01\r\u001b[K     |███████▉                        | 20 kB 23.2 MB/s eta 0:00:01\r\u001b[K     |███████████▉                    | 30 kB 12.7 MB/s eta 0:00:01\r\u001b[K     |███████████████▊                | 40 kB 9.5 MB/s eta 0:00:01\r\u001b[K     |███████████████████▊            | 51 kB 5.3 MB/s eta 0:00:01\r\u001b[K     |███████████████████████▋        | 61 kB 5.9 MB/s eta 0:00:01\r\u001b[K     |███████████████████████████▋    | 71 kB 5.5 MB/s eta 0:00:01\r\u001b[K     |███████████████████████████████▌| 81 kB 6.2 MB/s eta 0:00:01\r\u001b[K     |████████████████████████████████| 83 kB 1.0 MB/s \n",
            "\u001b[?25hRequirement already satisfied: pandas in /usr/local/lib/python3.7/dist-packages (from d2l) (1.1.5)\n",
            "Requirement already satisfied: numpy in /usr/local/lib/python3.7/dist-packages (from d2l) (1.19.5)\n",
            "Requirement already satisfied: matplotlib in /usr/local/lib/python3.7/dist-packages (from d2l) (3.2.2)\n",
            "Requirement already satisfied: jupyter in /usr/local/lib/python3.7/dist-packages (from d2l) (1.0.0)\n",
            "Requirement already satisfied: requests in /usr/local/lib/python3.7/dist-packages (from d2l) (2.23.0)\n",
            "Requirement already satisfied: jupyter-console in /usr/local/lib/python3.7/dist-packages (from jupyter->d2l) (5.2.0)\n",
            "Requirement already satisfied: nbconvert in /usr/local/lib/python3.7/dist-packages (from jupyter->d2l) (5.6.1)\n",
            "Requirement already satisfied: ipykernel in /usr/local/lib/python3.7/dist-packages (from jupyter->d2l) (4.10.1)\n",
            "Requirement already satisfied: ipywidgets in /usr/local/lib/python3.7/dist-packages (from jupyter->d2l) (7.6.5)\n",
            "Requirement already satisfied: notebook in /usr/local/lib/python3.7/dist-packages (from jupyter->d2l) (5.3.1)\n",
            "Requirement already satisfied: qtconsole in /usr/local/lib/python3.7/dist-packages (from jupyter->d2l) (5.1.1)\n",
            "Requirement already satisfied: ipython>=4.0.0 in /usr/local/lib/python3.7/dist-packages (from ipykernel->jupyter->d2l) (5.5.0)\n",
            "Requirement already satisfied: tornado>=4.0 in /usr/local/lib/python3.7/dist-packages (from ipykernel->jupyter->d2l) (5.1.1)\n",
            "Requirement already satisfied: traitlets>=4.1.0 in /usr/local/lib/python3.7/dist-packages (from ipykernel->jupyter->d2l) (5.1.0)\n",
            "Requirement already satisfied: jupyter-client in /usr/local/lib/python3.7/dist-packages (from ipykernel->jupyter->d2l) (5.3.5)\n",
            "Requirement already satisfied: setuptools>=18.5 in /usr/local/lib/python3.7/dist-packages (from ipython>=4.0.0->ipykernel->jupyter->d2l) (57.4.0)\n",
            "Requirement already satisfied: pygments in /usr/local/lib/python3.7/dist-packages (from ipython>=4.0.0->ipykernel->jupyter->d2l) (2.6.1)\n",
            "Requirement already satisfied: prompt-toolkit<2.0.0,>=1.0.4 in /usr/local/lib/python3.7/dist-packages (from ipython>=4.0.0->ipykernel->jupyter->d2l) (1.0.18)\n",
            "Requirement already satisfied: pexpect in /usr/local/lib/python3.7/dist-packages (from ipython>=4.0.0->ipykernel->jupyter->d2l) (4.8.0)\n",
            "Requirement already satisfied: simplegeneric>0.8 in /usr/local/lib/python3.7/dist-packages (from ipython>=4.0.0->ipykernel->jupyter->d2l) (0.8.1)\n",
            "Requirement already satisfied: decorator in /usr/local/lib/python3.7/dist-packages (from ipython>=4.0.0->ipykernel->jupyter->d2l) (4.4.2)\n",
            "Requirement already satisfied: pickleshare in /usr/local/lib/python3.7/dist-packages (from ipython>=4.0.0->ipykernel->jupyter->d2l) (0.7.5)\n",
            "Requirement already satisfied: six>=1.9.0 in /usr/local/lib/python3.7/dist-packages (from prompt-toolkit<2.0.0,>=1.0.4->ipython>=4.0.0->ipykernel->jupyter->d2l) (1.15.0)\n",
            "Requirement already satisfied: wcwidth in /usr/local/lib/python3.7/dist-packages (from prompt-toolkit<2.0.0,>=1.0.4->ipython>=4.0.0->ipykernel->jupyter->d2l) (0.2.5)\n",
            "Requirement already satisfied: ipython-genutils~=0.2.0 in /usr/local/lib/python3.7/dist-packages (from ipywidgets->jupyter->d2l) (0.2.0)\n",
            "Requirement already satisfied: jupyterlab-widgets>=1.0.0 in /usr/local/lib/python3.7/dist-packages (from ipywidgets->jupyter->d2l) (1.0.2)\n",
            "Requirement already satisfied: nbformat>=4.2.0 in /usr/local/lib/python3.7/dist-packages (from ipywidgets->jupyter->d2l) (5.1.3)\n",
            "Requirement already satisfied: widgetsnbextension~=3.5.0 in /usr/local/lib/python3.7/dist-packages (from ipywidgets->jupyter->d2l) (3.5.1)\n",
            "Requirement already satisfied: jsonschema!=2.5.0,>=2.4 in /usr/local/lib/python3.7/dist-packages (from nbformat>=4.2.0->ipywidgets->jupyter->d2l) (2.6.0)\n",
            "Requirement already satisfied: jupyter-core in /usr/local/lib/python3.7/dist-packages (from nbformat>=4.2.0->ipywidgets->jupyter->d2l) (4.8.1)\n",
            "Requirement already satisfied: Send2Trash in /usr/local/lib/python3.7/dist-packages (from notebook->jupyter->d2l) (1.8.0)\n",
            "Requirement already satisfied: terminado>=0.8.1 in /usr/local/lib/python3.7/dist-packages (from notebook->jupyter->d2l) (0.12.1)\n",
            "Requirement already satisfied: jinja2 in /usr/local/lib/python3.7/dist-packages (from notebook->jupyter->d2l) (2.11.3)\n",
            "Requirement already satisfied: pyzmq>=13 in /usr/local/lib/python3.7/dist-packages (from jupyter-client->ipykernel->jupyter->d2l) (22.3.0)\n",
            "Requirement already satisfied: python-dateutil>=2.1 in /usr/local/lib/python3.7/dist-packages (from jupyter-client->ipykernel->jupyter->d2l) (2.8.2)\n",
            "Requirement already satisfied: ptyprocess in /usr/local/lib/python3.7/dist-packages (from terminado>=0.8.1->notebook->jupyter->d2l) (0.7.0)\n",
            "Requirement already satisfied: MarkupSafe>=0.23 in /usr/local/lib/python3.7/dist-packages (from jinja2->notebook->jupyter->d2l) (2.0.1)\n",
            "Requirement already satisfied: cycler>=0.10 in /usr/local/lib/python3.7/dist-packages (from matplotlib->d2l) (0.10.0)\n",
            "Requirement already satisfied: pyparsing!=2.0.4,!=2.1.2,!=2.1.6,>=2.0.1 in /usr/local/lib/python3.7/dist-packages (from matplotlib->d2l) (2.4.7)\n",
            "Requirement already satisfied: kiwisolver>=1.0.1 in /usr/local/lib/python3.7/dist-packages (from matplotlib->d2l) (1.3.2)\n",
            "Requirement already satisfied: bleach in /usr/local/lib/python3.7/dist-packages (from nbconvert->jupyter->d2l) (4.1.0)\n",
            "Requirement already satisfied: entrypoints>=0.2.2 in /usr/local/lib/python3.7/dist-packages (from nbconvert->jupyter->d2l) (0.3)\n",
            "Requirement already satisfied: pandocfilters>=1.4.1 in /usr/local/lib/python3.7/dist-packages (from nbconvert->jupyter->d2l) (1.5.0)\n",
            "Requirement already satisfied: defusedxml in /usr/local/lib/python3.7/dist-packages (from nbconvert->jupyter->d2l) (0.7.1)\n",
            "Requirement already satisfied: testpath in /usr/local/lib/python3.7/dist-packages (from nbconvert->jupyter->d2l) (0.5.0)\n",
            "Requirement already satisfied: mistune<2,>=0.8.1 in /usr/local/lib/python3.7/dist-packages (from nbconvert->jupyter->d2l) (0.8.4)\n",
            "Requirement already satisfied: packaging in /usr/local/lib/python3.7/dist-packages (from bleach->nbconvert->jupyter->d2l) (21.0)\n",
            "Requirement already satisfied: webencodings in /usr/local/lib/python3.7/dist-packages (from bleach->nbconvert->jupyter->d2l) (0.5.1)\n",
            "Requirement already satisfied: pytz>=2017.2 in /usr/local/lib/python3.7/dist-packages (from pandas->d2l) (2018.9)\n",
            "Requirement already satisfied: qtpy in /usr/local/lib/python3.7/dist-packages (from qtconsole->jupyter->d2l) (1.11.2)\n",
            "Requirement already satisfied: urllib3!=1.25.0,!=1.25.1,<1.26,>=1.21.1 in /usr/local/lib/python3.7/dist-packages (from requests->d2l) (1.24.3)\n",
            "Requirement already satisfied: idna<3,>=2.5 in /usr/local/lib/python3.7/dist-packages (from requests->d2l) (2.10)\n",
            "Requirement already satisfied: chardet<4,>=3.0.2 in /usr/local/lib/python3.7/dist-packages (from requests->d2l) (3.0.4)\n",
            "Requirement already satisfied: certifi>=2017.4.17 in /usr/local/lib/python3.7/dist-packages (from requests->d2l) (2021.5.30)\n",
            "Installing collected packages: d2l\n",
            "Successfully installed d2l-0.17.0\n"
          ]
        }
      ]
    },
    {
      "cell_type": "code",
      "metadata": {
        "colab": {
          "base_uri": "https://localhost:8080/"
        },
        "id": "hmrcPrD78Q2k",
        "outputId": "bdf74964-c532-45b6-dd87-8dd407007582"
      },
      "source": [
        "import torch\n",
        "from torch import nn\n",
        "from d2l import torch as d2l"
      ],
      "execution_count": null,
      "outputs": [
        {
          "output_type": "stream",
          "name": "stdout",
          "text": [
            "Collecting d2l\n",
            "  Downloading d2l-0.17.0-py3-none-any.whl (83 kB)\n",
            "\u001b[?25l\r\u001b[K     |████                            | 10 kB 15.4 MB/s eta 0:00:01\r\u001b[K     |███████▉                        | 20 kB 14.2 MB/s eta 0:00:01\r\u001b[K     |███████████▉                    | 30 kB 10.1 MB/s eta 0:00:01\r\u001b[K     |███████████████▊                | 40 kB 9.0 MB/s eta 0:00:01\r\u001b[K     |███████████████████▊            | 51 kB 5.8 MB/s eta 0:00:01\r\u001b[K     |███████████████████████▋        | 61 kB 5.8 MB/s eta 0:00:01\r\u001b[K     |███████████████████████████▋    | 71 kB 5.1 MB/s eta 0:00:01\r\u001b[K     |███████████████████████████████▌| 81 kB 5.7 MB/s eta 0:00:01\r\u001b[K     |████████████████████████████████| 83 kB 652 kB/s \n",
            "\u001b[?25hRequirement already satisfied: jupyter in /usr/local/lib/python3.7/dist-packages (from d2l) (1.0.0)\n",
            "Requirement already satisfied: pandas in /usr/local/lib/python3.7/dist-packages (from d2l) (1.1.5)\n",
            "Requirement already satisfied: requests in /usr/local/lib/python3.7/dist-packages (from d2l) (2.23.0)\n",
            "Requirement already satisfied: matplotlib in /usr/local/lib/python3.7/dist-packages (from d2l) (3.2.2)\n",
            "Requirement already satisfied: numpy in /usr/local/lib/python3.7/dist-packages (from d2l) (1.19.5)\n",
            "Requirement already satisfied: ipywidgets in /usr/local/lib/python3.7/dist-packages (from jupyter->d2l) (7.6.5)\n",
            "Requirement already satisfied: qtconsole in /usr/local/lib/python3.7/dist-packages (from jupyter->d2l) (5.1.1)\n",
            "Requirement already satisfied: notebook in /usr/local/lib/python3.7/dist-packages (from jupyter->d2l) (5.3.1)\n",
            "Requirement already satisfied: jupyter-console in /usr/local/lib/python3.7/dist-packages (from jupyter->d2l) (5.2.0)\n",
            "Requirement already satisfied: ipykernel in /usr/local/lib/python3.7/dist-packages (from jupyter->d2l) (4.10.1)\n",
            "Requirement already satisfied: nbconvert in /usr/local/lib/python3.7/dist-packages (from jupyter->d2l) (5.6.1)\n",
            "Requirement already satisfied: jupyter-client in /usr/local/lib/python3.7/dist-packages (from ipykernel->jupyter->d2l) (5.3.5)\n",
            "Requirement already satisfied: tornado>=4.0 in /usr/local/lib/python3.7/dist-packages (from ipykernel->jupyter->d2l) (5.1.1)\n",
            "Requirement already satisfied: ipython>=4.0.0 in /usr/local/lib/python3.7/dist-packages (from ipykernel->jupyter->d2l) (5.5.0)\n",
            "Requirement already satisfied: traitlets>=4.1.0 in /usr/local/lib/python3.7/dist-packages (from ipykernel->jupyter->d2l) (5.1.0)\n",
            "Requirement already satisfied: pygments in /usr/local/lib/python3.7/dist-packages (from ipython>=4.0.0->ipykernel->jupyter->d2l) (2.6.1)\n",
            "Requirement already satisfied: setuptools>=18.5 in /usr/local/lib/python3.7/dist-packages (from ipython>=4.0.0->ipykernel->jupyter->d2l) (57.4.0)\n",
            "Requirement already satisfied: pickleshare in /usr/local/lib/python3.7/dist-packages (from ipython>=4.0.0->ipykernel->jupyter->d2l) (0.7.5)\n",
            "Requirement already satisfied: simplegeneric>0.8 in /usr/local/lib/python3.7/dist-packages (from ipython>=4.0.0->ipykernel->jupyter->d2l) (0.8.1)\n",
            "Requirement already satisfied: decorator in /usr/local/lib/python3.7/dist-packages (from ipython>=4.0.0->ipykernel->jupyter->d2l) (4.4.2)\n",
            "Requirement already satisfied: prompt-toolkit<2.0.0,>=1.0.4 in /usr/local/lib/python3.7/dist-packages (from ipython>=4.0.0->ipykernel->jupyter->d2l) (1.0.18)\n",
            "Requirement already satisfied: pexpect in /usr/local/lib/python3.7/dist-packages (from ipython>=4.0.0->ipykernel->jupyter->d2l) (4.8.0)\n",
            "Requirement already satisfied: wcwidth in /usr/local/lib/python3.7/dist-packages (from prompt-toolkit<2.0.0,>=1.0.4->ipython>=4.0.0->ipykernel->jupyter->d2l) (0.2.5)\n",
            "Requirement already satisfied: six>=1.9.0 in /usr/local/lib/python3.7/dist-packages (from prompt-toolkit<2.0.0,>=1.0.4->ipython>=4.0.0->ipykernel->jupyter->d2l) (1.15.0)\n",
            "Requirement already satisfied: ipython-genutils~=0.2.0 in /usr/local/lib/python3.7/dist-packages (from ipywidgets->jupyter->d2l) (0.2.0)\n",
            "Requirement already satisfied: nbformat>=4.2.0 in /usr/local/lib/python3.7/dist-packages (from ipywidgets->jupyter->d2l) (5.1.3)\n",
            "Requirement already satisfied: jupyterlab-widgets>=1.0.0 in /usr/local/lib/python3.7/dist-packages (from ipywidgets->jupyter->d2l) (1.0.2)\n",
            "Requirement already satisfied: widgetsnbextension~=3.5.0 in /usr/local/lib/python3.7/dist-packages (from ipywidgets->jupyter->d2l) (3.5.1)\n",
            "Requirement already satisfied: jsonschema!=2.5.0,>=2.4 in /usr/local/lib/python3.7/dist-packages (from nbformat>=4.2.0->ipywidgets->jupyter->d2l) (2.6.0)\n",
            "Requirement already satisfied: jupyter-core in /usr/local/lib/python3.7/dist-packages (from nbformat>=4.2.0->ipywidgets->jupyter->d2l) (4.8.1)\n",
            "Requirement already satisfied: Send2Trash in /usr/local/lib/python3.7/dist-packages (from notebook->jupyter->d2l) (1.8.0)\n",
            "Requirement already satisfied: terminado>=0.8.1 in /usr/local/lib/python3.7/dist-packages (from notebook->jupyter->d2l) (0.12.1)\n",
            "Requirement already satisfied: jinja2 in /usr/local/lib/python3.7/dist-packages (from notebook->jupyter->d2l) (2.11.3)\n",
            "Requirement already satisfied: python-dateutil>=2.1 in /usr/local/lib/python3.7/dist-packages (from jupyter-client->ipykernel->jupyter->d2l) (2.8.2)\n",
            "Requirement already satisfied: pyzmq>=13 in /usr/local/lib/python3.7/dist-packages (from jupyter-client->ipykernel->jupyter->d2l) (22.3.0)\n",
            "Requirement already satisfied: ptyprocess in /usr/local/lib/python3.7/dist-packages (from terminado>=0.8.1->notebook->jupyter->d2l) (0.7.0)\n",
            "Requirement already satisfied: MarkupSafe>=0.23 in /usr/local/lib/python3.7/dist-packages (from jinja2->notebook->jupyter->d2l) (2.0.1)\n",
            "Requirement already satisfied: kiwisolver>=1.0.1 in /usr/local/lib/python3.7/dist-packages (from matplotlib->d2l) (1.3.2)\n",
            "Requirement already satisfied: cycler>=0.10 in /usr/local/lib/python3.7/dist-packages (from matplotlib->d2l) (0.10.0)\n",
            "Requirement already satisfied: pyparsing!=2.0.4,!=2.1.2,!=2.1.6,>=2.0.1 in /usr/local/lib/python3.7/dist-packages (from matplotlib->d2l) (2.4.7)\n",
            "Requirement already satisfied: mistune<2,>=0.8.1 in /usr/local/lib/python3.7/dist-packages (from nbconvert->jupyter->d2l) (0.8.4)\n",
            "Requirement already satisfied: bleach in /usr/local/lib/python3.7/dist-packages (from nbconvert->jupyter->d2l) (4.1.0)\n",
            "Requirement already satisfied: testpath in /usr/local/lib/python3.7/dist-packages (from nbconvert->jupyter->d2l) (0.5.0)\n",
            "Requirement already satisfied: pandocfilters>=1.4.1 in /usr/local/lib/python3.7/dist-packages (from nbconvert->jupyter->d2l) (1.5.0)\n",
            "Requirement already satisfied: defusedxml in /usr/local/lib/python3.7/dist-packages (from nbconvert->jupyter->d2l) (0.7.1)\n",
            "Requirement already satisfied: entrypoints>=0.2.2 in /usr/local/lib/python3.7/dist-packages (from nbconvert->jupyter->d2l) (0.3)\n",
            "Requirement already satisfied: packaging in /usr/local/lib/python3.7/dist-packages (from bleach->nbconvert->jupyter->d2l) (21.0)\n",
            "Requirement already satisfied: webencodings in /usr/local/lib/python3.7/dist-packages (from bleach->nbconvert->jupyter->d2l) (0.5.1)\n",
            "Requirement already satisfied: pytz>=2017.2 in /usr/local/lib/python3.7/dist-packages (from pandas->d2l) (2018.9)\n",
            "Requirement already satisfied: qtpy in /usr/local/lib/python3.7/dist-packages (from qtconsole->jupyter->d2l) (1.11.2)\n",
            "Requirement already satisfied: urllib3!=1.25.0,!=1.25.1,<1.26,>=1.21.1 in /usr/local/lib/python3.7/dist-packages (from requests->d2l) (1.24.3)\n",
            "Requirement already satisfied: chardet<4,>=3.0.2 in /usr/local/lib/python3.7/dist-packages (from requests->d2l) (3.0.4)\n",
            "Requirement already satisfied: idna<3,>=2.5 in /usr/local/lib/python3.7/dist-packages (from requests->d2l) (2.10)\n",
            "Requirement already satisfied: certifi>=2017.4.17 in /usr/local/lib/python3.7/dist-packages (from requests->d2l) (2021.5.30)\n",
            "Installing collected packages: d2l\n",
            "Successfully installed d2l-0.17.0\n"
          ]
        }
      ]
    },
    {
      "cell_type": "markdown",
      "metadata": {
        "id": "gwumb0r58jiA"
      },
      "source": [
        "#基本操作\n",
        "![转置卷积](http://pan.anderd.com/download/6166a4c10141ac0059b2e6a9)\n",
        "\n"
      ]
    },
    {
      "cell_type": "code",
      "metadata": {
        "id": "qgErtSLC9kAs"
      },
      "source": [
        "def trans_conv(X,K):\n",
        "  h,w = K.shape\n",
        "  Y = torch.zeros((X.shape[0] + h - 1,X.shape[1] + w - 1))#结果矩阵初始化0\n",
        "  for i in range(Y.shape[0]-1):\n",
        "    for j in range(Y.shape[1]-1):\n",
        "      Y[i:i+h,j:j+w] += X[i,j] * K#这里通过卷积核广播输入元素，从而产生大于输如的输出\n",
        "  return Y"
      ],
      "execution_count": null,
      "outputs": []
    },
    {
      "cell_type": "code",
      "metadata": {
        "colab": {
          "base_uri": "https://localhost:8080/"
        },
        "id": "SubNOnaS_uxG",
        "outputId": "cf645e9b-21a7-4ee1-f8c5-facc0d92fdb1"
      },
      "source": [
        "X = torch.tensor([[0.0,1.0],[2.0,3.0]])\n",
        "K = torch.tensor([[0.0,1.0],[2.0,3.0]])\n",
        "trans_conv(X,K)"
      ],
      "execution_count": null,
      "outputs": [
        {
          "output_type": "execute_result",
          "data": {
            "text/plain": [
              "tensor([[ 0.,  0.,  1.],\n",
              "        [ 0.,  4.,  6.],\n",
              "        [ 4., 12.,  9.]])"
            ]
          },
          "metadata": {},
          "execution_count": 7
        }
      ]
    },
    {
      "cell_type": "code",
      "metadata": {
        "colab": {
          "base_uri": "https://localhost:8080/"
        },
        "id": "nUCOlaQEAGsV",
        "outputId": "dbfe85ac-5683-43e1-fd89-513cba57dcd5"
      },
      "source": [
        "#当输入室四维是可以用api\n",
        "X,K = X.reshape(1,1,2,2),K.reshape(1,1,2,2)\n",
        "tconv = nn.ConvTranspose2d(1,1,kernel_size=2,bias=False)\n",
        "tconv.weight.data = K\n",
        "tconv(X)"
      ],
      "execution_count": null,
      "outputs": [
        {
          "output_type": "execute_result",
          "data": {
            "text/plain": [
              "tensor([[[[ 0.,  0.,  1.],\n",
              "          [ 0.,  4.,  6.],\n",
              "          [ 4., 12.,  9.]]]], grad_fn=<SlowConvTranspose2DBackward>)"
            ]
          },
          "metadata": {},
          "execution_count": 4
        }
      ]
    },
    {
      "cell_type": "markdown",
      "metadata": {
        "id": "Q1Ylyko8B8_8"
      },
      "source": [
        "## 填充，步幅，多通道\n",
        "\n",
        "&emsp;&emsp;与常规卷积不同，在转置卷积中，填充被应⽤于输出（常规卷积将填充应⽤于输⼊）。例如，当将⾼和宽两侧的填充数指定为1时，转置卷积的输出中将删除第⼀和最后的⾏与列。"
      ]
    },
    {
      "cell_type": "code",
      "metadata": {
        "colab": {
          "base_uri": "https://localhost:8080/"
        },
        "id": "FYdYHmwZCQYk",
        "outputId": "a7d7ff1d-c57a-43b8-ef40-f3f2fc5d0cb9"
      },
      "source": [
        "tconv = nn.ConvTranspose2d(1,1,kernel_size=2,padding=1,bias=False)\n",
        "tconv.weight.data = K\n",
        "tconv(X)"
      ],
      "execution_count": null,
      "outputs": [
        {
          "output_type": "execute_result",
          "data": {
            "text/plain": [
              "tensor([[[[4.]]]], grad_fn=<SlowConvTranspose2DBackward>)"
            ]
          },
          "metadata": {},
          "execution_count": 9
        }
      ]
    },
    {
      "cell_type": "markdown",
      "metadata": {
        "id": "6WWd_J6QCkyI"
      },
      "source": [
        "&emsp;&emsp;在转置卷积中，步幅被指定为中间结果（输出），而不是输⼊。可能会增加高和权重。\n",
        "![步幅](http://pan.anderd.com/download/6166ab30cc52c6005925ceca)"
      ]
    },
    {
      "cell_type": "code",
      "metadata": {
        "colab": {
          "base_uri": "https://localhost:8080/"
        },
        "id": "AZESXNjuDmgO",
        "outputId": "8b0589f0-0dde-447e-fda0-9f24a91290b0"
      },
      "source": [
        "tconv = nn.ConvTranspose2d(1,1,kernel_size=2,stride=2,bias=False)\n",
        "tconv.weight.data = K\n",
        "tconv(X)"
      ],
      "execution_count": null,
      "outputs": [
        {
          "output_type": "execute_result",
          "data": {
            "text/plain": [
              "tensor([[[[0., 0., 0., 1.],\n",
              "          [0., 0., 2., 3.],\n",
              "          [0., 2., 0., 3.],\n",
              "          [4., 6., 6., 9.]]]], grad_fn=<SlowConvTranspose2DBackward>)"
            ]
          },
          "metadata": {},
          "execution_count": 10
        }
      ]
    },
    {
      "cell_type": "markdown",
      "metadata": {
        "id": "ECEAS0TtD2Fl"
      },
      "source": [
        "&emsp;&emsp;对于多个输⼊和输出通道，转置卷积与常规卷积以相同⽅式运作。"
      ]
    },
    {
      "cell_type": "code",
      "metadata": {
        "colab": {
          "base_uri": "https://localhost:8080/"
        },
        "id": "xOQVEdbZDzBE",
        "outputId": "4f9bf96d-14a9-45a1-ca72-dc0e8badaca5"
      },
      "source": [
        "X = torch.rand(size=(1, 10, 16, 16))\n",
        "conv = nn.Conv2d(10, 20, kernel_size=5, padding=2, stride=3)\n",
        "tconv = nn.ConvTranspose2d(20, 10, kernel_size=5, padding=2, stride=3)\n",
        "tconv(conv(X)).shape == X.shape"
      ],
      "execution_count": null,
      "outputs": [
        {
          "output_type": "execute_result",
          "data": {
            "text/plain": [
              "True"
            ]
          },
          "metadata": {},
          "execution_count": 16
        }
      ]
    },
    {
      "cell_type": "markdown",
      "metadata": {
        "id": "kgVytggMFzOU"
      },
      "source": [
        "##与矩阵变换的联系"
      ]
    },
    {
      "cell_type": "code",
      "metadata": {
        "colab": {
          "base_uri": "https://localhost:8080/"
        },
        "id": "SrOi67a5GAT0",
        "outputId": "7fa27d6e-cf24-45bd-a97c-749d59f08cac"
      },
      "source": [
        "X = torch.arange(9.0).reshape(3, 3)#使⽤矩阵乘法来实现卷积。\n",
        "K = torch.tensor([[1.0, 2.0], [3.0, 4.0]])\n",
        "Y = d2l.corr2d(X, K)\n",
        "Y"
      ],
      "execution_count": null,
      "outputs": [
        {
          "output_type": "execute_result",
          "data": {
            "text/plain": [
              "tensor([[27., 37.],\n",
              "        [57., 67.]])"
            ]
          },
          "metadata": {},
          "execution_count": 17
        }
      ]
    },
    {
      "cell_type": "code",
      "metadata": {
        "colab": {
          "base_uri": "https://localhost:8080/"
        },
        "id": "DdXsE01kGUO9",
        "outputId": "ce0131d0-633f-4530-99ed-92c4d5f5263c"
      },
      "source": [
        "def kernel2matrix(K):#将卷积核K重写为包含⼤量0的稀疏权重矩阵W。权重矩阵的形状是（4，9），其中⾮0元素来⾃卷积核K。\n",
        "  k, W = torch.zeros(5), torch.zeros((4, 9))\n",
        "  k[:2], k[3:5] = K[0, :], K[1, :]\n",
        "  W[0, :5], W[1, 1:6], W[2, 3:8], W[3, 4:] = k, k, k, k\n",
        "  return W\n",
        "W = kernel2matrix(K)\n",
        "W"
      ],
      "execution_count": null,
      "outputs": [
        {
          "output_type": "execute_result",
          "data": {
            "text/plain": [
              "tensor([[1., 2., 0., 3., 4., 0., 0., 0., 0.],\n",
              "        [0., 1., 2., 0., 3., 4., 0., 0., 0.],\n",
              "        [0., 0., 0., 1., 2., 0., 3., 4., 0.],\n",
              "        [0., 0., 0., 0., 1., 2., 0., 3., 4.]])"
            ]
          },
          "metadata": {},
          "execution_count": 18
        }
      ]
    },
    {
      "cell_type": "markdown",
      "metadata": {
        "id": "sVprQepxG5j0"
      },
      "source": [
        "&emsp;&emsp;逐⾏连接输⼊X，获得了⼀个⻓度为9的⽮量。然后，W的矩阵乘法和向量化的X给出了⼀个⻓度为4的向量。重塑它之后，可以获得与上⾯的原始卷积操作所得相同的结果Y：我们刚刚使⽤矩阵乘法实现了卷积。"
      ]
    },
    {
      "cell_type": "code",
      "metadata": {
        "colab": {
          "base_uri": "https://localhost:8080/"
        },
        "id": "XTl87kqwGdr8",
        "outputId": "7aaa5a48-e649-4906-cb4c-86a468505344"
      },
      "source": [
        "Y == torch.matmul(W, X.reshape(-1)).reshape(2, 2)"
      ],
      "execution_count": null,
      "outputs": [
        {
          "output_type": "execute_result",
          "data": {
            "text/plain": [
              "tensor([[True, True],\n",
              "        [True, True]])"
            ]
          },
          "metadata": {},
          "execution_count": 19
        }
      ]
    },
    {
      "cell_type": "code",
      "metadata": {
        "colab": {
          "base_uri": "https://localhost:8080/"
        },
        "id": "gE-b0G2bHHI0",
        "outputId": "c0ecf988-8121-492d-c9e4-6812733ae888"
      },
      "source": [
        "#使⽤矩阵乘法来实现转置卷积\n",
        "Z = trans_conv(Y, K)\n",
        "Z == torch.matmul(W.T, Y.reshape(-1)).reshape(3, 3)"
      ],
      "execution_count": null,
      "outputs": [
        {
          "output_type": "execute_result",
          "data": {
            "text/plain": [
              "tensor([[True, True, True],\n",
              "        [True, True, True],\n",
              "        [True, True, True]])"
            ]
          },
          "metadata": {},
          "execution_count": 20
        }
      ]
    },
    {
      "cell_type": "markdown",
      "metadata": {
        "id": "3Pm2_lTmHNc0"
      },
      "source": [
        "##小结\n",
        "* 与通过卷积核减少输⼊元素的常规卷积相反，转置卷积通过卷积核⼴播输⼊元素，从而产⽣形状⼤于输⼊的输出。\n",
        "* 如果我们将 X 输⼊卷积层 f 来获得输出 Y = f(X) 并创造⼀个与 f 有相同的超参数、但输出通道数是 X中通道数的转置卷积层 g，那么 g(Y ) 的形状将与 X 相同。\n",
        "* 我们可以使⽤矩阵乘法来实现卷积。转置卷积层能够交换卷积层的正向传播函数和反向传播函数。"
      ]
    },
    {
      "cell_type": "markdown",
      "metadata": {
        "id": "lTxRq4kHr5rK"
      },
      "source": [
        "#全卷积网络（FCN）\n",
        "&emsp;&emsp;全卷积神经网络实现了从图像到像素类别的变换，全卷积网络将中间特征层的高和宽恢复到输入图像的尺寸，是通过最后的转置卷积实现的。所以，输出类别预测与输入图像在像素级别上具有一一对应的关系。给定空间维上的位置，通道维的输出即该位置对应像素的类别预测。\n"
      ]
    },
    {
      "cell_type": "markdown",
      "metadata": {
        "id": "6Cq5VD-S0hKC"
      },
      "source": [
        "![FCN](http://pan.anderd.com/download/6167a23c3a3b95005900f693)"
      ]
    },
    {
      "cell_type": "code",
      "metadata": {
        "id": "wsQ-sQUOs0fz"
      },
      "source": [
        "%matplotlib inline\n",
        "import torch\n",
        "import torchvision\n",
        "from torch import nn\n",
        "from torch.nn import functional as F\n",
        "from d2l import torch as d2l"
      ],
      "execution_count": 3,
      "outputs": []
    },
    {
      "cell_type": "code",
      "metadata": {
        "colab": {
          "base_uri": "https://localhost:8080/",
          "height": 474,
          "referenced_widgets": [
            "381a0a15224f454eb7de726d0b1d2c7a",
            "dfbbd48c4cb247b5bad2d52be979b3ef",
            "e71d1193f57d4e12885f0d8ffbf23b59",
            "2d80965f80fe404b8e261c30beb452dd",
            "32c7d9b4e27044d58a6f325d787cec26",
            "d2b21db195fb49d5bc154ae27872d532",
            "c20568ea31574e0486ff5f0aa76e4780",
            "e5d6207535b54c98a192ec9c00248be8",
            "03b2190434c54b4baed7280aaeec3406",
            "88548b017c6b4fc9aaab3f6c9a3bdd3c",
            "0780ad6c3d864aa6b622ccb342ade600"
          ]
        },
        "id": "rMmzGCAz0KtM",
        "outputId": "c41b6c4a-1aa3-4dea-9456-49b1b788854a"
      },
      "source": [
        "pretrained_net = torchvision.models.resnet18(pretrained=True)\n",
        "list(pretrained_net.children())[-3:]"
      ],
      "execution_count": 4,
      "outputs": [
        {
          "output_type": "stream",
          "name": "stderr",
          "text": [
            "Downloading: \"https://download.pytorch.org/models/resnet18-f37072fd.pth\" to /root/.cache/torch/hub/checkpoints/resnet18-f37072fd.pth\n"
          ]
        },
        {
          "output_type": "display_data",
          "data": {
            "application/vnd.jupyter.widget-view+json": {
              "model_id": "381a0a15224f454eb7de726d0b1d2c7a",
              "version_minor": 0,
              "version_major": 2
            },
            "text/plain": [
              "  0%|          | 0.00/44.7M [00:00<?, ?B/s]"
            ]
          },
          "metadata": {}
        },
        {
          "output_type": "execute_result",
          "data": {
            "text/plain": [
              "[Sequential(\n",
              "   (0): BasicBlock(\n",
              "     (conv1): Conv2d(256, 512, kernel_size=(3, 3), stride=(2, 2), padding=(1, 1), bias=False)\n",
              "     (bn1): BatchNorm2d(512, eps=1e-05, momentum=0.1, affine=True, track_running_stats=True)\n",
              "     (relu): ReLU(inplace=True)\n",
              "     (conv2): Conv2d(512, 512, kernel_size=(3, 3), stride=(1, 1), padding=(1, 1), bias=False)\n",
              "     (bn2): BatchNorm2d(512, eps=1e-05, momentum=0.1, affine=True, track_running_stats=True)\n",
              "     (downsample): Sequential(\n",
              "       (0): Conv2d(256, 512, kernel_size=(1, 1), stride=(2, 2), bias=False)\n",
              "       (1): BatchNorm2d(512, eps=1e-05, momentum=0.1, affine=True, track_running_stats=True)\n",
              "     )\n",
              "   )\n",
              "   (1): BasicBlock(\n",
              "     (conv1): Conv2d(512, 512, kernel_size=(3, 3), stride=(1, 1), padding=(1, 1), bias=False)\n",
              "     (bn1): BatchNorm2d(512, eps=1e-05, momentum=0.1, affine=True, track_running_stats=True)\n",
              "     (relu): ReLU(inplace=True)\n",
              "     (conv2): Conv2d(512, 512, kernel_size=(3, 3), stride=(1, 1), padding=(1, 1), bias=False)\n",
              "     (bn2): BatchNorm2d(512, eps=1e-05, momentum=0.1, affine=True, track_running_stats=True)\n",
              "   )\n",
              " ),\n",
              " AdaptiveAvgPool2d(output_size=(1, 1)),\n",
              " Linear(in_features=512, out_features=1000, bias=True)]"
            ]
          },
          "metadata": {},
          "execution_count": 4
        }
      ]
    },
    {
      "cell_type": "code",
      "metadata": {
        "colab": {
          "base_uri": "https://localhost:8080/"
        },
        "id": "afheL01TBetz",
        "outputId": "9674789f-b443-457b-a2c0-1de35c845936"
      },
      "source": [
        "net = nn.Sequential(*list(pretrained_net.children())[:-2])#复制了Resnet18中的预训练层，但除去了最终的全局平均汇聚层和最接近输出的全连接层\n",
        "X = torch.rand(size=(1,3,320,480))\n",
        "net(X).shape"
      ],
      "execution_count": 6,
      "outputs": [
        {
          "output_type": "stream",
          "name": "stderr",
          "text": [
            "/usr/local/lib/python3.7/dist-packages/torch/nn/functional.py:718: UserWarning: Named tensors and all their associated APIs are an experimental feature and subject to change. Please do not use them for anything important until they are released as stable. (Triggered internally at  /pytorch/c10/core/TensorImpl.h:1156.)\n",
            "  return torch.max_pool2d(input, kernel_size, stride, padding, dilation, ceil_mode)\n"
          ]
        },
        {
          "output_type": "execute_result",
          "data": {
            "text/plain": [
              "torch.Size([1, 512, 10, 15])"
            ]
          },
          "metadata": {},
          "execution_count": 6
        }
      ]
    },
    {
      "cell_type": "code",
      "metadata": {
        "id": "O7tNAZDrCVGp"
      },
      "source": [
        "num_classes = 21\n",
        "net.add_module('final_conv',nn.Conv2d(512,num_classes,kernel_size=1))#们使⽤1 × 1卷积层将输出通道数转换为Pascal VOC2012数据集的类数（21类）\n",
        "net.add_module('transpose_conv',nn.ConvTranspose2d(num_classes,num_classes,\n",
        "                        kernel_size=64,padding=16,stride=32))"
      ],
      "execution_count": 7,
      "outputs": []
    }
  ]
}